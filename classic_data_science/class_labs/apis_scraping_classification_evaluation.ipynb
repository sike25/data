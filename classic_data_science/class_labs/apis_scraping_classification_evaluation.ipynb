{
 "cells": [
  {
   "cell_type": "markdown",
   "metadata": {},
   "source": [
    "# Data Science"
   ]
  },
  {
   "cell_type": "markdown",
   "metadata": {},
   "source": [
    "## Notebook 2 (APIs, web-scraping, classification, evaluation)"
   ]
  },
  {
   "cell_type": "markdown",
   "metadata": {},
   "source": [
    "### Collecting data"
   ]
  },
  {
   "cell_type": "markdown",
   "metadata": {},
   "source": [
    "* Dowloading data files directly\n",
    "* Scraping data from a web page \n",
    "* Extract data from a web API"
   ]
  },
  {
   "cell_type": "markdown",
   "metadata": {},
   "source": [
    "### API (Application Programming Interface)\n",
    "\n",
    "* facilitates applications/websites to communicate with each other\n",
    "* similar to a UI (User Interface) but designed for use by other applications rather than humans\n",
    "\n",
    "How it works:\n",
    "1. the client initiates an API call, or \"request\", to retreive information from the API\n",
    "2. after recieving a valid request, the API makes a call to the webserver for that information\n",
    "3. the server sends a response to the API with the requested information\n",
    "4. the API transfers the data to the client application that requested the information\n",
    "\n",
    "\n",
    "* we can extract data from a web API too (sometimes you need to get an API key for authentication)\n",
    "\n",
    "#### Common Examples of APIs\n",
    "\n",
    "* universal logins (e.g. \"login with Google\")\n",
    "\n",
    "<span style=\"color:red\">Other examples?</span>"
   ]
  },
  {
   "cell_type": "code",
   "execution_count": 1,
   "metadata": {},
   "outputs": [
    {
     "name": "stdout",
     "output_type": "stream",
     "text": [
      "200\n"
     ]
    }
   ],
   "source": [
    "import requests\n",
    "\n",
    "api_key = 'J0CjIDeC0ArC2OdneTWp210aqwgHBhXc'\n",
    "url = 'https://api.nytimes.com/svc/archive/v1/2019/1.json?api-key=' + api_key\n",
    "nyt = requests.get(url)\n",
    "print(nyt.status_code)"
   ]
  },
  {
   "cell_type": "markdown",
   "metadata": {},
   "source": [
    "#### Most frequently used file formats\n",
    "* CSV (comma sperated values)\n",
    "* JSON (JavaScript Object Notation):\n",
    "    * A text format that is independent of particular programming languages\n",
    "    * Most of the web APIs return data in JSON data format\n",
    "* HTML\n",
    "    * hierarchical structure (tags)"
   ]
  },
  {
   "cell_type": "markdown",
   "metadata": {},
   "source": [
    "##### Example - a possible JSON representation of a person"
   ]
  },
  {
   "cell_type": "code",
   "execution_count": 2,
   "metadata": {},
   "outputs": [],
   "source": [
    "json_ex = {\n",
    "  \"firstName\": \"John\",\n",
    "  \"lastName\": \"Smith\",\n",
    "  \"isAlive\": True,\n",
    "  \"age\": 25,\n",
    "  \"address\": {\n",
    "    \"streetAddress\": \"21 2nd Street\",\n",
    "    \"city\": \"New York\",\n",
    "    \"state\": \"NY\",\n",
    "    \"postalCode\": \"10021-3100\"\n",
    "  },\n",
    "  \"phoneNumbers\": [\n",
    "    {\n",
    "      \"type\": \"home\",\n",
    "      \"number\": \"212 555-1234\"\n",
    "    },\n",
    "    {\n",
    "      \"type\": \"office\",\n",
    "      \"number\": \"646 555-4567\"\n",
    "    },\n",
    "    {\n",
    "      \"type\": \"mobile\",\n",
    "      \"number\": \"123 456-7890\"\n",
    "    }\n",
    "  ],\n",
    "  \"children\": [],\n",
    "  \"spouse\": None\n",
    "}"
   ]
  },
  {
   "cell_type": "code",
   "execution_count": 3,
   "metadata": {},
   "outputs": [
    {
     "data": {
      "text/plain": [
       "dict"
      ]
     },
     "execution_count": 3,
     "metadata": {},
     "output_type": "execute_result"
    }
   ],
   "source": [
    "type(json_ex)"
   ]
  },
  {
   "cell_type": "markdown",
   "metadata": {},
   "source": [
    "### Importing JSON files"
   ]
  },
  {
   "cell_type": "code",
   "execution_count": 4,
   "metadata": {},
   "outputs": [],
   "source": [
    "import json\n",
    "\n",
    "a = {'a': 1, 'b':2}\n",
    "s = json.dumps(a)\n",
    "a2 = json.loads(s)"
   ]
  },
  {
   "cell_type": "code",
   "execution_count": 5,
   "metadata": {},
   "outputs": [
    {
     "data": {
      "text/plain": [
       "{'a': 1, 'b': 2}"
      ]
     },
     "execution_count": 5,
     "metadata": {},
     "output_type": "execute_result"
    }
   ],
   "source": [
    "a"
   ]
  },
  {
   "cell_type": "code",
   "execution_count": 6,
   "metadata": {},
   "outputs": [
    {
     "data": {
      "text/plain": [
       "'{\"a\": 1, \"b\": 2}'"
      ]
     },
     "execution_count": 6,
     "metadata": {},
     "output_type": "execute_result"
    }
   ],
   "source": [
    "s"
   ]
  },
  {
   "cell_type": "code",
   "execution_count": 7,
   "metadata": {},
   "outputs": [
    {
     "data": {
      "text/plain": [
       "str"
      ]
     },
     "execution_count": 7,
     "metadata": {},
     "output_type": "execute_result"
    }
   ],
   "source": [
    "type(s)"
   ]
  },
  {
   "cell_type": "code",
   "execution_count": 8,
   "metadata": {},
   "outputs": [
    {
     "data": {
      "text/plain": [
       "{'a': 1, 'b': 2}"
      ]
     },
     "execution_count": 8,
     "metadata": {},
     "output_type": "execute_result"
    }
   ],
   "source": [
    "a2"
   ]
  },
  {
   "cell_type": "code",
   "execution_count": 9,
   "metadata": {},
   "outputs": [
    {
     "data": {
      "text/plain": [
       "dict"
      ]
     },
     "execution_count": 9,
     "metadata": {},
     "output_type": "execute_result"
    }
   ],
   "source": [
    "type(a2)"
   ]
  },
  {
   "cell_type": "markdown",
   "metadata": {},
   "source": [
    "<span style=\"color:red\">Where does this file get stored?</span>"
   ]
  },
  {
   "cell_type": "code",
   "execution_count": 14,
   "metadata": {},
   "outputs": [],
   "source": [
    "with open('data.txt', 'w') as outfile:\n",
    "    json.dump(a, outfile)"
   ]
  },
  {
   "cell_type": "markdown",
   "metadata": {},
   "source": [
    "#### Importing data about the Hungarian National Football team at 2020 European Football (Soccer) Championship"
   ]
  },
  {
   "cell_type": "code",
   "execution_count": 15,
   "metadata": {},
   "outputs": [
    {
     "data": {
      "text/plain": [
       "{'Players': [{'id': '250065179',\n",
       "   'pFName': 'Roland Sallai',\n",
       "   'latinName': 'Roland Sallai',\n",
       "   'tName': 'Hungary',\n",
       "   'tId': '57',\n",
       "   'cCode': 'HUN',\n",
       "   'skill': 4,\n",
       "   'value': 6.5,\n",
       "   'BirthDate': '05.22.1997.',\n",
       "   'Minutes Played': 242,\n",
       "   'Club': 'Freiburg',\n",
       "   'Goals': 0},\n",
       "  {'id': '250118293',\n",
       "   'pFName': 'Kevin Varga',\n",
       "   'latinName': 'Kevin Varga',\n",
       "   'tName': 'Hungary',\n",
       "   'tId': '57',\n",
       "   'cCode': 'HUN',\n",
       "   'skill': 3,\n",
       "   'value': 6.0,\n",
       "   'BirthDate': '03.30.1996.',\n",
       "   'Minutes Played': 10,\n",
       "   'Club': 'Kasimpasa',\n",
       "   'Goals': 0},\n",
       "  {'id': '73865',\n",
       "   'pFName': 'Ádám Szalai',\n",
       "   'latinName': 'Adam Szalai',\n",
       "   'tName': 'Hungary',\n",
       "   'tId': '57',\n",
       "   'cCode': 'HUN',\n",
       "   'skill': 4,\n",
       "   'value': 6.0,\n",
       "   'BirthDate': '12.09.1987.',\n",
       "   'Minutes Played': 198,\n",
       "   'Club': 'Mainz',\n",
       "   'Goals': 1},\n",
       "  {'id': '250143313',\n",
       "   'pFName': 'Tamás Cseri',\n",
       "   'latinName': 'Tamas Cseri',\n",
       "   'tName': 'Hungary',\n",
       "   'tId': '57',\n",
       "   'cCode': 'HUN',\n",
       "   'skill': 3,\n",
       "   'value': 5.5,\n",
       "   'BirthDate': '01.15.1988.',\n",
       "   'Minutes Played': 15,\n",
       "   'Club': 'Mezőkövesd',\n",
       "   'Goals': 0},\n",
       "  {'id': '250019995',\n",
       "   'pFName': 'Nemanja Nikolić',\n",
       "   'latinName': 'Nemanja Nikolic',\n",
       "   'tName': 'Hungary',\n",
       "   'tId': '57',\n",
       "   'cCode': 'HUN',\n",
       "   'skill': 4,\n",
       "   'value': 5.5,\n",
       "   'BirthDate': '12.31.1987.',\n",
       "   'Minutes Played': 66,\n",
       "   'Club': 'Fehérvár',\n",
       "   'Goals': 0},\n",
       "  {'id': '250060206',\n",
       "   'pFName': 'Filip Holender',\n",
       "   'latinName': 'Filip Holender',\n",
       "   'tName': 'Hungary',\n",
       "   'tId': '57',\n",
       "   'cCode': 'HUN',\n",
       "   'skill': 3,\n",
       "   'value': 5.5,\n",
       "   'BirthDate': '07.27.1994.',\n",
       "   'Minutes Played': 0,\n",
       "   'Club': 'Belgrade',\n",
       "   'Goals': 0},\n",
       "  {'id': '250026043',\n",
       "   'pFName': 'Dávid Sigér',\n",
       "   'latinName': 'David Siger',\n",
       "   'tName': 'Hungary',\n",
       "   'tId': '57',\n",
       "   'cCode': 'HUN',\n",
       "   'skill': 3,\n",
       "   'value': 5.5,\n",
       "   'BirthDate': '11.30.1990.',\n",
       "   'Minutes Played': 12,\n",
       "   'Club': 'Ferencváros',\n",
       "   'Goals': 0},\n",
       "  {'id': '250083472',\n",
       "   'pFName': 'Ádám Nagy',\n",
       "   'latinName': 'Adam Nagy',\n",
       "   'tName': 'Hungary',\n",
       "   'tId': '57',\n",
       "   'cCode': 'HUN',\n",
       "   'skill': 3,\n",
       "   'value': 5.5,\n",
       "   'BirthDate': '06.17.1995.',\n",
       "   'Minutes Played': 268,\n",
       "   'Club': 'Bristol City',\n",
       "   'Goals': 0},\n",
       "  {'id': '250155863',\n",
       "   'pFName': 'János Hahn',\n",
       "   'latinName': 'Janos Hahn',\n",
       "   'tName': 'Hungary',\n",
       "   'tId': '57',\n",
       "   'cCode': 'HUN',\n",
       "   'skill': 4,\n",
       "   'value': 5.5,\n",
       "   'BirthDate': '03.15.1995.',\n",
       "   'Minutes Played': 0,\n",
       "   'Club': 'Dunajska Streda',\n",
       "   'Goals': 0},\n",
       "  {'id': '250115077',\n",
       "   'pFName': 'András Schäfer',\n",
       "   'latinName': 'Andras Schafer',\n",
       "   'tName': 'Hungary',\n",
       "   'tId': '57',\n",
       "   'cCode': 'HUN',\n",
       "   'skill': 3,\n",
       "   'value': 5.0,\n",
       "   'BirthDate': '08.13.1998.',\n",
       "   'Minutes Played': 230,\n",
       "   'Club': 'Dunajská Streda',\n",
       "   'Goals': 1},\n",
       "  {'id': '250104064',\n",
       "   'pFName': 'Szabolcs Schön',\n",
       "   'latinName': 'Szabolcs Schon',\n",
       "   'tName': 'Hungary',\n",
       "   'tId': '57',\n",
       "   'cCode': 'HUN',\n",
       "   'skill': 4,\n",
       "   'value': 5.0,\n",
       "   'BirthDate': '09.27.2000.',\n",
       "   'Minutes Played': 28,\n",
       "   'Club': 'FC Dallas',\n",
       "   'Goals': 0},\n",
       "  {'id': '250023225',\n",
       "   'pFName': 'László Kleinheisler',\n",
       "   'latinName': 'Laszlo Kleinheisler',\n",
       "   'tName': 'Hungary',\n",
       "   'tId': '57',\n",
       "   'cCode': 'HUN',\n",
       "   'skill': 3,\n",
       "   'value': 5.0,\n",
       "   'BirthDate': '04.08.1994.',\n",
       "   'Minutes Played': 250,\n",
       "   'Club': 'Osijek',\n",
       "   'Goals': 0},\n",
       "  {'id': '250056177',\n",
       "   'pFName': 'Dániel Gazdag',\n",
       "   'latinName': 'Daniel Gazdag',\n",
       "   'tName': 'Hungary',\n",
       "   'tId': '57',\n",
       "   'cCode': 'HUN',\n",
       "   'skill': 3,\n",
       "   'value': 5.0,\n",
       "   'BirthDate': '03.02.1996.',\n",
       "   'Minutes Played': 0,\n",
       "   'Club': 'Philadelphia',\n",
       "   'Goals': 0},\n",
       "  {'id': '107924',\n",
       "   'pFName': 'Roland Varga',\n",
       "   'latinName': 'Roland Varga',\n",
       "   'tName': 'Hungary',\n",
       "   'tId': '57',\n",
       "   'cCode': 'HUN',\n",
       "   'skill': 4,\n",
       "   'value': 5.0,\n",
       "   'BirthDate': '01.23.1990.',\n",
       "   'Minutes Played': 2,\n",
       "   'Club': 'Al-Ittihad',\n",
       "   'Goals': 0},\n",
       "  {'id': '250051754',\n",
       "   'pFName': 'Willi Orbán',\n",
       "   'latinName': 'Willi Orban',\n",
       "   'tName': 'Hungary',\n",
       "   'tId': '57',\n",
       "   'cCode': 'HUN',\n",
       "   'skill': 2,\n",
       "   'value': 4.5,\n",
       "   'BirthDate': '09.11.2017.',\n",
       "   'Minutes Played': 270,\n",
       "   'Club': 'Leipzig',\n",
       "   'Goals': 0},\n",
       "  {'id': '250079300',\n",
       "   'pFName': 'Attila Szalai',\n",
       "   'latinName': 'Attila Szalai',\n",
       "   'tName': 'Hungary',\n",
       "   'tId': '57',\n",
       "   'cCode': 'HUN',\n",
       "   'skill': 2,\n",
       "   'value': 4.5,\n",
       "   'BirthDate': '01.20.1998.',\n",
       "   'Minutes Played': 270,\n",
       "   'Club': 'Fenerbahce',\n",
       "   'Goals': 0},\n",
       "  {'id': '102420',\n",
       "   'pFName': 'Péter Gulácsi',\n",
       "   'latinName': 'Peter Gulacsi',\n",
       "   'tName': 'Hungary',\n",
       "   'tId': '57',\n",
       "   'cCode': 'HUN',\n",
       "   'skill': 1,\n",
       "   'value': 4.5,\n",
       "   'BirthDate': '05.06.1990.',\n",
       "   'Minutes Played': 270,\n",
       "   'Club': 'Leipzig',\n",
       "   'Goals': 0},\n",
       "  {'id': '250022872',\n",
       "   'pFName': 'Endre Botka',\n",
       "   'latinName': 'Endre Botka',\n",
       "   'tName': 'Hungary',\n",
       "   'tId': '57',\n",
       "   'cCode': 'HUN',\n",
       "   'skill': 2,\n",
       "   'value': 4.5,\n",
       "   'BirthDate': '09.25.1994.',\n",
       "   'Minutes Played': 270,\n",
       "   'Club': 'Ferencváros',\n",
       "   'Goals': 0},\n",
       "  {'id': '250052596',\n",
       "   'pFName': 'Gergő Lovrencsics',\n",
       "   'latinName': 'Gergo Lovrencsics',\n",
       "   'tName': 'Hungary',\n",
       "   'tId': '57',\n",
       "   'cCode': 'HUN',\n",
       "   'skill': 2,\n",
       "   'value': 4.5,\n",
       "   'BirthDate': '09.01.1988.',\n",
       "   'Minutes Played': 98,\n",
       "   'Club': 'Hajduk Split',\n",
       "   'Goals': 0},\n",
       "  {'id': '250040465',\n",
       "   'pFName': 'Dénes Dibusz',\n",
       "   'latinName': 'Denes Dibusz',\n",
       "   'tName': 'Hungary',\n",
       "   'tId': '57',\n",
       "   'cCode': 'HUN',\n",
       "   'skill': 1,\n",
       "   'value': 4.0,\n",
       "   'BirthDate': '11.16.1990.',\n",
       "   'Minutes Played': 0,\n",
       "   'Club': 'Ferencváros',\n",
       "   'Goals': 0},\n",
       "  {'id': '250029650',\n",
       "   'pFName': 'Attila Fiola',\n",
       "   'latinName': 'Attila Fiola',\n",
       "   'tName': 'Hungary',\n",
       "   'tId': '57',\n",
       "   'cCode': 'HUN',\n",
       "   'skill': 2,\n",
       "   'value': 4.0,\n",
       "   'BirthDate': '02.17.1990.',\n",
       "   'Minutes Played': 266,\n",
       "   'Club': 'Fehérvár',\n",
       "   'Goals': 1},\n",
       "  {'id': '250027818',\n",
       "   'pFName': 'Ádám Lang',\n",
       "   'latinName': 'Adam Lang',\n",
       "   'tName': 'Hungary',\n",
       "   'tId': '57',\n",
       "   'cCode': 'HUN',\n",
       "   'skill': 2,\n",
       "   'value': 4.0,\n",
       "   'BirthDate': '01.17.1993.',\n",
       "   'Minutes Played': 0,\n",
       "   'Club': 'Omonia Nicosia',\n",
       "   'Goals': 0},\n",
       "  {'id': '103039',\n",
       "   'pFName': 'Ádám Bogdán',\n",
       "   'latinName': 'Adam Bogdan',\n",
       "   'tName': 'Hungary',\n",
       "   'tId': '57',\n",
       "   'cCode': 'HUN',\n",
       "   'skill': 1,\n",
       "   'value': 4.0,\n",
       "   'BirthDate': '09.27.1987.',\n",
       "   'Minutes Played': 0,\n",
       "   'Club': 'Ferencváros',\n",
       "   'Goals': 0},\n",
       "  {'id': '250110986',\n",
       "   'pFName': 'Bendegúz Bolla',\n",
       "   'latinName': 'Bendeguz Bolla',\n",
       "   'tName': 'Hungary',\n",
       "   'tId': '57',\n",
       "   'cCode': 'HUN',\n",
       "   'skill': 2,\n",
       "   'value': 4.0,\n",
       "   'BirthDate': '11.22.1999.',\n",
       "   'Minutes Played': 0,\n",
       "   'Club': 'Zurich',\n",
       "   'Goals': 0},\n",
       "  {'id': '250056180',\n",
       "   'pFName': 'Ákos Kecskés',\n",
       "   'latinName': 'Akos Kecskes',\n",
       "   'tName': 'Hungary',\n",
       "   'tId': '57',\n",
       "   'cCode': 'HUN',\n",
       "   'skill': 2,\n",
       "   'value': 4.0,\n",
       "   'BirthDate': '01.04.1996.',\n",
       "   'Minutes Played': 0,\n",
       "   'Club': 'Novgorod',\n",
       "   'Goals': 0},\n",
       "  {'id': '1908198',\n",
       "   'pFName': 'Loïc Négo',\n",
       "   'latinName': 'Loic Nego',\n",
       "   'tName': 'Hungary',\n",
       "   'tId': '57',\n",
       "   'cCode': 'HUN',\n",
       "   'skill': 3,\n",
       "   'value': 4.0,\n",
       "   'BirthDate': '01.15.1991.',\n",
       "   'Minutes Played': 205,\n",
       "   'Club': 'Fehérvár',\n",
       "   'Goals': 0}]}"
      ]
     },
     "execution_count": 15,
     "metadata": {},
     "output_type": "execute_result"
    }
   ],
   "source": [
    "with open('hungary-euro2020.json','r') as f:\n",
    "    he2020=json.load(f)\n",
    "he2020"
   ]
  },
  {
   "cell_type": "code",
   "execution_count": null,
   "metadata": {},
   "outputs": [],
   "source": [
    "import pandas as pd\n",
    "\n",
    "pd.DataFrame(he2020).head()"
   ]
  },
  {
   "cell_type": "code",
   "execution_count": 16,
   "metadata": {},
   "outputs": [
    {
     "name": "stdout",
     "output_type": "stream",
     "text": [
      "<class 'list'>\n",
      "<class 'dict'>\n"
     ]
    },
    {
     "data": {
      "text/plain": [
       "{'id': '250065179',\n",
       " 'pFName': 'Roland Sallai',\n",
       " 'latinName': 'Roland Sallai',\n",
       " 'tName': 'Hungary',\n",
       " 'tId': '57',\n",
       " 'cCode': 'HUN',\n",
       " 'skill': 4,\n",
       " 'value': 6.5,\n",
       " 'BirthDate': '05.22.1997.',\n",
       " 'Minutes Played': 242,\n",
       " 'Club': 'Freiburg',\n",
       " 'Goals': 0}"
      ]
     },
     "execution_count": 16,
     "metadata": {},
     "output_type": "execute_result"
    }
   ],
   "source": [
    "players_list = he2020['Players']\n",
    "players_list\n",
    "print(type(players_list))\n",
    "print(type(players_list[0]))\n",
    "players_list[0]"
   ]
  },
  {
   "cell_type": "markdown",
   "metadata": {},
   "source": [
    "##### Collecting the important information"
   ]
  },
  {
   "cell_type": "markdown",
   "metadata": {},
   "source": [
    "Filtering important attributes"
   ]
  },
  {
   "cell_type": "code",
   "execution_count": 17,
   "metadata": {},
   "outputs": [],
   "source": [
    "keys = ['pFName', 'Minutes Played', 'Goals', 'BirthDate', 'Club']"
   ]
  },
  {
   "cell_type": "code",
   "execution_count": 18,
   "metadata": {},
   "outputs": [],
   "source": [
    "# extracting information about players\n",
    "players_dat = []\n",
    "for player in players_list:\n",
    "    player_dat = []\n",
    "    for key in keys:\n",
    "        player_dat.append(player[key])\n",
    "    players_dat.append(player_dat)"
   ]
  },
  {
   "cell_type": "code",
   "execution_count": 19,
   "metadata": {},
   "outputs": [
    {
     "data": {
      "text/plain": [
       "[['Roland Sallai', 242, 0, '05.22.1997.', 'Freiburg'],\n",
       " ['Kevin Varga', 10, 0, '03.30.1996.', 'Kasimpasa'],\n",
       " ['Ádám Szalai', 198, 1, '12.09.1987.', 'Mainz'],\n",
       " ['Tamás Cseri', 15, 0, '01.15.1988.', 'Mezőkövesd'],\n",
       " ['Nemanja Nikolić', 66, 0, '12.31.1987.', 'Fehérvár']]"
      ]
     },
     "execution_count": 19,
     "metadata": {},
     "output_type": "execute_result"
    }
   ],
   "source": [
    "# same as above but with list comprehension \n",
    "players_dat = [[player[i] for i in keys] for player in players_list] \n",
    "players_dat[0:5]"
   ]
  },
  {
   "cell_type": "markdown",
   "metadata": {},
   "source": [
    "From list to Pandas data frame"
   ]
  },
  {
   "cell_type": "code",
   "execution_count": 21,
   "metadata": {},
   "outputs": [
    {
     "data": {
      "text/html": [
       "<div>\n",
       "<style scoped>\n",
       "    .dataframe tbody tr th:only-of-type {\n",
       "        vertical-align: middle;\n",
       "    }\n",
       "\n",
       "    .dataframe tbody tr th {\n",
       "        vertical-align: top;\n",
       "    }\n",
       "\n",
       "    .dataframe thead th {\n",
       "        text-align: right;\n",
       "    }\n",
       "</style>\n",
       "<table border=\"1\" class=\"dataframe\">\n",
       "  <thead>\n",
       "    <tr style=\"text-align: right;\">\n",
       "      <th></th>\n",
       "      <th>Full name</th>\n",
       "      <th>Minutes played</th>\n",
       "      <th>Goals</th>\n",
       "      <th>Date of birth</th>\n",
       "      <th>Club</th>\n",
       "    </tr>\n",
       "  </thead>\n",
       "  <tbody>\n",
       "    <tr>\n",
       "      <th>0</th>\n",
       "      <td>Roland Sallai</td>\n",
       "      <td>242</td>\n",
       "      <td>0</td>\n",
       "      <td>05.22.1997.</td>\n",
       "      <td>Freiburg</td>\n",
       "    </tr>\n",
       "    <tr>\n",
       "      <th>1</th>\n",
       "      <td>Kevin Varga</td>\n",
       "      <td>10</td>\n",
       "      <td>0</td>\n",
       "      <td>03.30.1996.</td>\n",
       "      <td>Kasimpasa</td>\n",
       "    </tr>\n",
       "    <tr>\n",
       "      <th>2</th>\n",
       "      <td>Ádám Szalai</td>\n",
       "      <td>198</td>\n",
       "      <td>1</td>\n",
       "      <td>12.09.1987.</td>\n",
       "      <td>Mainz</td>\n",
       "    </tr>\n",
       "    <tr>\n",
       "      <th>3</th>\n",
       "      <td>Tamás Cseri</td>\n",
       "      <td>15</td>\n",
       "      <td>0</td>\n",
       "      <td>01.15.1988.</td>\n",
       "      <td>Mezőkövesd</td>\n",
       "    </tr>\n",
       "    <tr>\n",
       "      <th>4</th>\n",
       "      <td>Nemanja Nikolić</td>\n",
       "      <td>66</td>\n",
       "      <td>0</td>\n",
       "      <td>12.31.1987.</td>\n",
       "      <td>Fehérvár</td>\n",
       "    </tr>\n",
       "  </tbody>\n",
       "</table>\n",
       "</div>"
      ],
      "text/plain": [
       "         Full name  Minutes played  Goals Date of birth        Club\n",
       "0    Roland Sallai             242      0   05.22.1997.    Freiburg\n",
       "1      Kevin Varga              10      0   03.30.1996.   Kasimpasa\n",
       "2      Ádám Szalai             198      1   12.09.1987.       Mainz\n",
       "3      Tamás Cseri              15      0   01.15.1988.  Mezőkövesd\n",
       "4  Nemanja Nikolić              66      0   12.31.1987.    Fehérvár"
      ]
     },
     "execution_count": 21,
     "metadata": {},
     "output_type": "execute_result"
    }
   ],
   "source": [
    "import pandas as pd\n",
    "\n",
    "players_df = pd.DataFrame(players_dat)\n",
    "players_df.columns = ['Full name', 'Minutes played', 'Goals', 'Date of birth', 'Club']\n",
    "players_df.head()"
   ]
  },
  {
   "cell_type": "markdown",
   "metadata": {},
   "source": [
    "## Web Scraping"
   ]
  },
  {
   "cell_type": "markdown",
   "metadata": {},
   "source": [
    "- Urllib: the most basic webscraping package \n",
    "- BeautifulSoup: Lightning fast static web page processing\n",
    "- Selenium: To manipulate, test and scrape dynamic HTML web pages. It is able to use the elements of the user interface, for example fill in forms, check the checkboxes and so on...\n",
    "\n",
    "**Strategy:** \n",
    "1. Extract the data with Selenium or Urllib\n",
    "2. Turn the data into a beautiful soup object to search the html with BeautifulSoup functions."
   ]
  },
  {
   "cell_type": "markdown",
   "metadata": {},
   "source": [
    "**Be careful and fair (copyright, license, media law, server overloading, etc.)!**\n",
    "- the robots.txt file, generally located at the root of a website, communicates to webcrawlers about what is off limits to scrape, protecting their intellectual property\n",
    "- it is not a legal requirement but a widely used convention"
   ]
  },
  {
   "cell_type": "markdown",
   "metadata": {},
   "source": [
    "For web scraping we should have a basic understanding of HTML tags!"
   ]
  },
  {
   "cell_type": "markdown",
   "metadata": {},
   "source": [
    "## HTML, just the basics "
   ]
  },
  {
   "cell_type": "markdown",
   "metadata": {},
   "source": [
    "### Tags, Elements, Attributes"
   ]
  },
  {
   "cell_type": "markdown",
   "metadata": {},
   "source": [
    "Tag: < something between angle brackets > <br>\n",
    "Some important tags:\n",
    "- <div>                   sections\n",
    "- <h1> - <h6>             headings\n",
    "- <p>, <pre>              paragraphs\n",
    "- <ul>, <ol>, <li>        lists\n",
    "- <a>                     links\n",
    "- <img>                   images\n",
    "- <table>                 tables\n",
    "- <tr>                    rows within a table"
   ]
  },
  {
   "cell_type": "markdown",
   "metadata": {},
   "source": [
    "Element: It begins with a tag, ends with a tag, and it contains the text between them aswell.\n",
    "for example:\n",
    "\n",
    "<html>\n",
    "\n",
    "    <head>\n",
    "    \n",
    "        <h1> Fake header on a fake website </h1>\n",
    "    \n",
    "        <p style:'color:red'> This thing with it's tags is an element. </p>\n",
    "        \n",
    "    </head>\n",
    "    \n",
    "</html>\n"
   ]
  },
  {
   "cell_type": "markdown",
   "metadata": {},
   "source": [
    "Attributes: Contains aditional information about the elements (in general they are in the opening of the tag). For example:\n",
    "\n",
    "\n",
    "- <img src=\"picture.png\">                  src is an attribute with the value \"picture.png\"\n",
    "- <p style='color:red'> This is a red paragraph. </p>              color is a style attribute\n",
    "- <a href=\"https://www.w3schools.com\"> Visit W3Schools </a>  href is a link attribute"
   ]
  },
  {
   "cell_type": "markdown",
   "metadata": {},
   "source": [
    "Learn more about HTML\n",
    "\n",
    "https://www.w3schools.com/html/html_basic.asp"
   ]
  },
  {
   "cell_type": "markdown",
   "metadata": {},
   "source": [
    "#### Most of the time when we scrape html pages we locate the information by it's tags and attributes. The most important attributes in this manner are id and class."
   ]
  },
  {
   "cell_type": "markdown",
   "metadata": {},
   "source": [
    "### DOM tree (Document Object Model)"
   ]
  },
  {
   "cell_type": "markdown",
   "metadata": {},
   "source": [
    "#### The inner HTML of  the elements are of the same nature as the whole html page. We can use the same methods to locate an information for example in a div as we do in the html. "
   ]
  },
  {
   "cell_type": "markdown",
   "metadata": {},
   "source": [
    "### Scraping static webpages using Beautifulsoup and Urllib"
   ]
  },
  {
   "cell_type": "markdown",
   "metadata": {},
   "source": [
    "**Reading an entire webpage as a string using Urllib**"
   ]
  },
  {
   "cell_type": "code",
   "execution_count": 22,
   "metadata": {},
   "outputs": [
    {
     "name": "stderr",
     "output_type": "stream",
     "text": [
      "C:\\Users\\ogiev\\anaconda3\\Lib\\site-packages\\IPython\\core\\display.py:431: UserWarning: Consider using IPython.display.IFrame instead\n",
      "  warnings.warn(\"Consider using IPython.display.IFrame instead\")\n"
     ]
    },
    {
     "data": {
      "text/html": [
       "<iframe src=https://www.crummy.com/software/BeautifulSoup/ width=1000 height=400></iframe>"
      ],
      "text/plain": [
       "<IPython.core.display.HTML object>"
      ]
     },
     "execution_count": 22,
     "metadata": {},
     "output_type": "execute_result"
    }
   ],
   "source": [
    "from IPython.display import Image, display\n",
    "from IPython.display import HTML\n",
    "\n",
    "# the website we will scrape first\n",
    "HTML('<iframe src=https://www.crummy.com/software/BeautifulSoup/ width=1000 height=400></iframe>')"
   ]
  },
  {
   "cell_type": "code",
   "execution_count": 23,
   "metadata": {},
   "outputs": [
    {
     "name": "stdout",
     "output_type": "stream",
     "text": [
      "<!DOCTYPE HTML PUBLIC \"-//W3C//DTD HTML 4.0 Transitional//EN\"\n",
      "\"http://www.w3.org/TR/REC-html40/transitional.dtd\">\n",
      "<html>\n",
      "<head>\n",
      "<meta http-equiv=\"Content-Type\" content=\"text/html; charset=utf-8\">\n",
      "<title>Beautiful Soup: We called him Tortoise because he taught us.</title>\n",
      "<link rev=\"made\" href=\"mailto:leonardr@segfault.org\">\n",
      "<link rel=\"stylesheet\" type=\"text/css\" href=\"/nb/themes/Default/nb.css\">\n",
      "<meta name=\"Description\" content=\"Beautiful Soup: a library designed for screen-scraping HTML and XML.\">\n",
      "<meta name=\"generator\" content=\"Markov Approximation 1.4 (module: leonardr)\">\n",
      "<meta name=\"author\" content=\"Leonard Richardson\">\n",
      "</head>\n",
      "<body bgcolor=\"white\" text=\"black\" link=\"blue\" vlink=\"660066\" alink=\"red\">\n",
      "<style>\n",
      "#tidelift { }\n",
      "\n",
      "#tidelift a {\n",
      " border: 1px solid #666666;\n",
      " margin-left: auto;\n",
      " padding: 10px;\n",
      " text-decoration: none;\n",
      "}\n",
      "\n",
      "#tidelift .cta {\n",
      " background: url(\"tidelift.svg\") no-repeat;\n",
      " padding-left: 30px;\n",
      "}\n",
      "</style>\t\t   \n",
      "\n",
      "<img align=\"right\" src=\"10.1.jpg\" width=\"250\"><br />\n",
      "\n",
      "<p>[ <a href=\"#Download\">Download</a> | <a\n",
      "href=\"bs4/doc/\">Documentation</a> | <a href=\"#HallOfFame\">Hall of Fame</a> | <a href=\"enterprise.html\">For enterprise</a> | <a href=\"https://code.launchpad.net/beautifulsoup\">Source</a> | <a href=\"https://git.launchpad.net/beautifulsoup/tree/CHANGELOG\">Changelog</a> | <a href=\"https://groups.google.com/forum/?fromgroups#!forum/beautifulsoup\">Discussion group</a>  | <a href=\"zine/\">Zine</a> ]</p>\n",
      "\n",
      "<div align=\"center\">\n",
      "\n",
      "<a href=\"bs4/download/\"><h1>Beautiful Soup</h1></a>\n",
      "\n",
      "</div>\n",
      "\n",
      "<p>You didn't write that awful page. You're just trying to get some\n",
      "data out of it. Beautiful Soup is here to help. Since 2004, it's been\n",
      "saving programmers hours or days of work on quick-turnaround\n",
      "screen scraping projects.</p>\n",
      "\n",
      "<p>Beautiful Soup is a Python library designed for quick turnaround\n",
      "projects like screen-scraping. Three features make it powerful:\n",
      "\n",
      "<ol>\n",
      "\n",
      "<li>Beautiful Soup provides a few simple methods and Pythonic idioms\n",
      "for navigating, searching, and modifying a parse tree: a toolkit for\n",
      "dissecting a document and extracting what you need. It doesn't take\n",
      "much code to write an application\n",
      "\n",
      "<li>Beautiful Soup automatically converts incoming documents to\n",
      "Unicode and outgoing documents to UTF-8. You don't have to think\n",
      "about encodings, unless the document doesn't specify an encoding and\n",
      "Beautiful Soup can't detect one. Then you just have to specify the\n",
      "original encoding.\n",
      "\n",
      "<li>Beautiful Soup sits on top of popular Python parsers like <a\n",
      "href=\"http://lxml.de/\">lxml</a> and <a\n",
      "href=\"http://code.google.com/p/html5lib/\">html5lib</a>, allowing you\n",
      "to try out different parsing strategies or trade speed for\n",
      "flexibility.\n",
      "\n",
      "</ol>\n",
      "\n",
      "<p>Beautiful Soup parses anything you give it, and does the tree\n",
      "traversal stuff for you. You can tell it \"Find all the links\", or\n",
      "\"Find all the links of class <tt>externalLink</tt>\", or \"Find all the\n",
      "links whose urls match \"foo.com\", or \"Find the table heading that's\n",
      "got bold text, then give me that text.\"\n",
      "\n",
      "<p>Valuable data that was once locked up in poorly-designed websites\n",
      "is now within your reach. Projects that would have taken hours take\n",
      "only minutes with Beautiful Soup.\n",
      "\n",
      "<p>Interested? <a href=\"bs4/doc/\">Read more.</a>\n",
      "\n",
      "<h3>Getting and giving support</h3>\n",
      "\n",
      "<div id=\"tidelift\" align=\"center\">\n",
      "<a href=\"https://tidelift.com/subscription/pkg/pypi-beautifulsoup4?utm_source=pypi-beautifulsoup4&utm_medium=referral&utm_campaign=enterprise\" target=\"_blank\">\n",
      " <span class=\"cta\">\n",
      "  Beautiful Soup for enterprise available via Tidelift\n",
      " </span>\n",
      "</a>\n",
      "</div>\n",
      "\n",
      "<p>If you have questions, send them to <a\n",
      "href=\"https://groups.google.com/forum/?fromgroups#!forum/beautifulsoup\">the discussion\n",
      "group</a>. If you find a bug, <a href=\"https://bugs.launchpad.net/beautifulsoup/\">file it on Launchpad</a>. If it's a security vulnerability, report it confidentially through <a href=\"https://tidelift.com/security\">Tidelift</a>.</p>\n",
      "\n",
      "<p>If you use Beautiful Soup as part of your work, please consider a <a href=\"https://tidelift.com/subscription/pkg/pypi-beautifulsoup4?utm_source=pypi-beautifulsoup4&utm_medium=referral&utm_campaign=website\">Tidelift subscription</a>. This will support many of the free software projects your organization depends on, not just Beautiful Soup.\n",
      "\n",
      "\n",
      "<p>If Beautiful Soup is useful to you on a personal level, you might like to read <a href=\"zine/\"><i>Tool Safety</i></a>, a short zine I wrote about what I learned about software development from working on Beautiful Soup. Thanks!</p>\n",
      "</div>\n",
      "\n",
      "\n",
      "<a name=\"Download\"><h2>Download Beautiful Soup</h2></a>\n",
      "\n",
      "<p>The current release is <a href=\"bs4/download/\">Beautiful Soup\n",
      "4.12.3</a> (January 17, 2024). You can install Beautiful Soup 4 with\n",
      "<code>pip install beautifulsoup4</code>.\n",
      "\n",
      "<p>In Debian and Ubuntu, Beautiful Soup is available as the\n",
      "<code>python3-bs4</code> package. In Fedora it's\n",
      "available as the <code>python3-beautifulsoup4</code> package.\n",
      "\n",
      "<p>Beautiful Soup is licensed under the MIT license, so you can also\n",
      "download the tarball, drop the <code>bs4/</code> directory into almost\n",
      "any Python application (or into your library path) and start using it\n",
      "immediately.\n",
      "\n",
      "<p>Beautiful Soup 4 is supported on Python versions 3.6 and\n",
      "greater. Support for Python 2 was discontinued on January 1, 2021&mdash;one\n",
      "year after the Python 2 sunsetting date.\n",
      "\n",
      "<h3>Beautiful Soup 3</h3>\n",
      "\n",
      "<p>Beautiful Soup 3 was the official release line of Beautiful Soup\n",
      "from May 2006 to March 2012. It does not support Python 3 and was\n",
      "discontinued or January 1, 2021&mdash;one year after the Python 2\n",
      "sunsetting date. If you have any active projects using Beautiful Soup\n",
      "3, you should migrate to Beautiful Soup 4 as part of your Python 3\n",
      "conversion.\n",
      "\n",
      "<p><a\n",
      "href=\"http://www.crummy.com/software/BeautifulSoup/bs3/documentation.html\">Here's\n",
      "the Beautiful Soup 3 documentation.</a>\n",
      "\n",
      "<p>The current and hopefully final release of Beautiful Soup 3 is <a\n",
      "href=\"download/3.x/BeautifulSoup-3.2.2.tar.gz\">3.2.2</a> (October 5,\n",
      "2019). It's the <code>BeautifulSoup</code> package on pip. It's also\n",
      "available as <code>python-beautifulsoup</code> in Debian and Ubuntu,\n",
      "and as <code>python-BeautifulSoup</code> in Fedora.\n",
      "\n",
      "<p>Once Beautiful Soup 3 is discontinued, these package names will be available for use by a more recent version of Beautiful Soup.\n",
      "\n",
      "<p>Beautiful Soup 3, like Beautiful Soup 4, is <a href=\"https://tidelift.com/subscription/pkg/pypi-beautifulsoup?utm_source=pypi-beautifulsoup&utm_medium=referral&utm_campaign=website\">supported through Tidelift</a>.</p>\n",
      "\n",
      "<a name=\"HallOfFame\"><h2>Hall of Fame</h2></a>\n",
      "\n",
      "<p>Over the years, Beautiful Soup has been used in hundreds of\n",
      "different projects. There's no way I can list them all, but I want to\n",
      "highlight a few high-profile projects. Beautiful Soup isn't what makes\n",
      "these projects interesting, but it did make their completion easier:\n",
      "\n",
      "<ul>\n",
      "\n",
      "<li><a\n",
      " href=\"http://www.nytimes.com/2007/10/25/arts/design/25vide.html\">\"Movable\n",
      " Type\"</a>, a work of digital art on display in the lobby of the New\n",
      " York Times building, uses Beautiful Soup to scrape news feeds.\n",
      "\n",
      "<li>Jiabao Lin's <a\n",
      "href=\"https://github.com/BlankerL/DXY-COVID-19-Crawler\">DXY-COVID-19-Crawler</a>\n",
      "uses Beautiful Soup to scrape a Chinese medical site for information\n",
      "about COVID-19, making it easier for researchers to track the spread\n",
      "of the virus. (Source: <a href=\"https://blog.tidelift.com/how-open-source-software-is-fighting-covid-19\">\"How open source software is fighting COVID-19\"</a>)\n",
      "\n",
      "<li>Reddit uses Beautiful Soup to <a\n",
      "href=\"https://github.com/reddit/reddit/blob/85f9cff3e2ab9bb8f19b96acd8da4ebacc079f04/r2/r2/lib/media.py\">parse\n",
      "a page that's been linked to and find a representative image</a>.\n",
      "\n",
      "<li>Alexander Harrowell uses Beautiful Soup to <a\n",
      " href=\"http://www.harrowell.org.uk/viktormap.html\">track the business\n",
      " activities</a> of an arms merchant.\n",
      "\n",
      "<li>The developers of Python itself used Beautiful Soup to <a\n",
      "href=\"http://svn.python.org/view/tracker/importer/\">migrate the Python\n",
      "bug tracker from Sourceforge to Roundup</a>.\n",
      "\n",
      "<li>The <a href=\"http://www2.ljworld.com/\">Lawrence Journal-World</a>\n",
      "uses Beautiful Soup to <A\n",
      "href=\"http://www.b-list.org/weblog/2010/nov/02/news-done-broke/\">gather\n",
      "statewide election results</a>.\n",
      "\n",
      "<li>The <a href=\"http://esrl.noaa.gov/gsd/fab/\">NOAA's Forecast\n",
      "Applications Branch</a> uses Beautiful Soup in <a\n",
      "href=\"http://laps.noaa.gov/topograbber/\">TopoGrabber</a>, a script for\n",
      "downloading \"high resolution USGS datasets.\"\n",
      "\n",
      "</ul>\n",
      "\n",
      "<p>If you've used Beautiful Soup in a project you'd like me to know\n",
      "about, please do send email to me or <a\n",
      "href=\"http://groups.google.com/group/beautifulsoup/\">the discussion\n",
      "group</a>.\n",
      "\n",
      "<h2>Development</h2>\n",
      "\n",
      "<p>Development happens at <a\n",
      "href=\"https://launchpad.net/beautifulsoup\">Launchpad</a>. You can <a\n",
      "href=\"https://code.launchpad.net/beautifulsoup/\">get the source\n",
      "code</a> or <a href=\"https://bugs.launchpad.net/beautifulsoup/\">file\n",
      "bugs</a>.<hr><table><tr><td valign=\"top\">\n",
      "<p>This document is part of Crummy, the webspace of <a href=\"/self/\">Leonard Richardson</a> (<a href=\"/self/contact.html\">contact information</a>). It was last modified on Wednesday, January 17 2024, 16:54:42 Nowhere Standard Time and last built on Tuesday, April 09 2024, 08:00:01 Nowhere Standard Time.</p><p><table class=\"licenseText\"><tr><td><a href=\"http://creativecommons.org/licenses/by-sa/2.0/\"><img border=\"0\" src=\"/nb//resources/img/somerights20.jpg\"></a></td><td valign=\"top\">Crummy is &copy; 1996-2024 Leonard Richardson. Unless otherwise noted, all text licensed under a <a href=\"http://creativecommons.org/licenses/by-sa/2.0/\">Creative Commons License</a>.</td></tr></table></span><!--<rdf:RDF xmlns=\"http://web.resource.org/cc/\" xmlns:dc=\"http://purl.org/dc/elements/1.1/\" xmlns:rdf=\"http://www.w3.org/1999/02/22-rdf-syntax-ns#\"><Work rdf:about=\"http://www.crummy.com/\"><dc:title>Crummy: The Site</dc:title><dc:rights><Agent><dc:title>Crummy: the Site</dc:title></Agent></dc:rights><dc:format>text/html</dc:format><license rdf:resource=http://creativecommons.org/licenses/by-sa/2.0//></Work><License rdf:about=\"http://creativecommons.org/licenses/by-sa/2.0/\"></License></rdf:RDF>--></p></td><td valign=top><p><b>Document tree:</b>\n",
      "<dl><dd><a href=\"http://www.crummy.com/\">http://www.crummy.com/</a><dl><dd><a href=\"http://www.crummy.com/software/\">software/</a><dl><dd><a href=\"http://www.crummy.com/software/BeautifulSoup/\">BeautifulSoup/</a></dl>\n",
      "</dl>\n",
      "</dl>\n",
      "\n",
      "\n",
      "Site Search:\n",
      "\n",
      "<form method=\"get\" action=\"/search/\">\n",
      "        <input type=\"text\" name=\"q\" maxlength=\"255\" value=\"\"></input>\n",
      "        </form>\n",
      "        </td>\n",
      "\n",
      "</tr>\n",
      "\n",
      "</table>\n",
      "</body>\n",
      "</html>\n",
      "\n"
     ]
    }
   ],
   "source": [
    "from urllib.request import urlopen\n",
    "\n",
    "url = 'https://www.crummy.com/software/BeautifulSoup/'\n",
    "source = urlopen(url).read().decode('utf-8') # read in html and decode bytes into string\n",
    "print(source)"
   ]
  },
  {
   "cell_type": "markdown",
   "metadata": {},
   "source": [
    "The scraped contents of the url are just a string so you can use all of the python string manipulation methods you're familiar with like find(), count() and replace()"
   ]
  },
  {
   "cell_type": "code",
   "execution_count": 24,
   "metadata": {},
   "outputs": [
    {
     "name": "stdout",
     "output_type": "stream",
     "text": [
      "<class 'str'>\n",
      "49\n"
     ]
    }
   ],
   "source": [
    "## count occurences of 'Soup'\n",
    "print(type(source))\n",
    "print(source.count('Soup'))"
   ]
  },
  {
   "cell_type": "code",
   "execution_count": 25,
   "metadata": {},
   "outputs": [
    {
     "name": "stdout",
     "output_type": "stream",
     "text": [
      "7427\n"
     ]
    }
   ],
   "source": [
    "## find index of 'Reddit uses Beautiful Soup'\n",
    "position =  source.find('Reddit uses Beautiful Soup')\n",
    "print(position)"
   ]
  },
  {
   "cell_type": "code",
   "execution_count": 26,
   "metadata": {},
   "outputs": [
    {
     "name": "stdout",
     "output_type": "stream",
     "text": [
      "Reddit uses Beautiful Soup\n"
     ]
    }
   ],
   "source": [
    "# test to see the substring\n",
    "print(source[position:position + len('Reddit uses Beautiful Soup')])"
   ]
  },
  {
   "cell_type": "code",
   "execution_count": 27,
   "metadata": {},
   "outputs": [
    {
     "name": "stdout",
     "output_type": "stream",
     "text": [
      "<!DOCTYPE HTML PUBLIC \"-//W3C//DTD HTML 4.0 Transitional//EN\" \"http://www.w3.org/TR/REC-html40/transitional.dtd\">\n",
      "<html>\n",
      "<head>\n",
      "<meta content=\"text/html; charset=utf-8\" http-equiv=\"Content-Type\"/>\n",
      "<title>Beautiful Soup: We called him Tortoise because he taught us.</title>\n",
      "<link href=\"mailto:leonardr@segfault.org\" rev=\"made\"/>\n",
      "<link href=\"/nb/themes/Default/nb.css\" rel=\"stylesheet\" type=\"text/css\"/>\n",
      "<meta content=\"Beautiful Soup: a library designed for screen-scraping HTML and XML.\" name=\"Description\"/>\n",
      "<meta content=\"Markov Approximation 1.4 (module: leonardr)\" name=\"generator\"/>\n",
      "<meta content=\"Leonard Richardson\" name=\"author\"/>\n",
      "</head>\n",
      "<body alink=\"red\" bgcolor=\"white\" link=\"blue\" text=\"black\" vlink=\"660066\">\n",
      "<style>\n",
      "#tidelift { }\n",
      "\n",
      "#tidelift a {\n",
      " border: 1px solid #666666;\n",
      " margin-left: auto;\n",
      " padding: 10px;\n",
      " text-decoration: none;\n",
      "}\n",
      "\n",
      "#tidelift .cta {\n",
      " background: url(\"tidelift.svg\") no-repeat;\n",
      " padding-left: 30px;\n",
      "}\n",
      "</style>\n",
      "<img align=\"right\" src=\"10.1.jpg\" width=\"250\"/><br/>\n",
      "<p>[ <a href=\"#Download\">Download</a> | <a href=\"bs4/doc/\">Documentation</a> | <a href=\"#HallOfFame\">Hall of Fame</a> | <a href=\"enterprise.html\">For enterprise</a> | <a href=\"https://code.launchpad.net/beautifulsoup\">Source</a> | <a href=\"https://git.launchpad.net/beautifulsoup/tree/CHANGELOG\">Changelog</a> | <a href=\"https://groups.google.com/forum/?fromgroups#!forum/beautifulsoup\">Discussion group</a>  | <a href=\"zine/\">Zine</a> ]</p>\n",
      "<div align=\"center\">\n",
      "<a href=\"bs4/download/\"><h1>Beautiful Soup</h1></a>\n",
      "</div>\n",
      "<p>You didn't write that awful page. You're just trying to get some\n",
      "data out of it. Beautiful Soup is here to help. Since 2004, it's been\n",
      "saving programmers hours or days of work on quick-turnaround\n",
      "screen scraping projects.</p>\n",
      "<p>Beautiful Soup is a Python library designed for quick turnaround\n",
      "projects like screen-scraping. Three features make it powerful:\n",
      "\n",
      "</p><ol>\n",
      "<li>Beautiful Soup provides a few simple methods and Pythonic idioms\n",
      "for navigating, searching, and modifying a parse tree: a toolkit for\n",
      "dissecting a document and extracting what you need. It doesn't take\n",
      "much code to write an application\n",
      "\n",
      "</li><li>Beautiful Soup automatically converts incoming documents to\n",
      "Unicode and outgoing documents to UTF-8. You don't have to think\n",
      "about encodings, unless the document doesn't specify an encoding and\n",
      "Beautiful Soup can't detect one. Then you just have to specify the\n",
      "original encoding.\n",
      "\n",
      "</li><li>Beautiful Soup sits on top of popular Python parsers like <a href=\"http://lxml.de/\">lxml</a> and <a href=\"http://code.google.com/p/html5lib/\">html5lib</a>, allowing you\n",
      "to try out different parsing strategies or trade speed for\n",
      "flexibility.\n",
      "\n",
      "</li></ol>\n",
      "<p>Beautiful Soup parses anything you give it, and does the tree\n",
      "traversal stuff for you. You can tell it \"Find all the links\", or\n",
      "\"Find all the links of class <tt>externalLink</tt>\", or \"Find all the\n",
      "links whose urls match \"foo.com\", or \"Find the table heading that's\n",
      "got bold text, then give me that text.\"\n",
      "\n",
      "</p><p>Valuable data that was once locked up in poorly-designed websites\n",
      "is now within your reach. Projects that would have taken hours take\n",
      "only minutes with Beautiful Soup.\n",
      "\n",
      "</p><p>Interested? <a href=\"bs4/doc/\">Read more.</a>\n",
      "</p><h3>Getting and giving support</h3>\n",
      "<div align=\"center\" id=\"tidelift\">\n",
      "<a href=\"https://tidelift.com/subscription/pkg/pypi-beautifulsoup4?utm_source=pypi-beautifulsoup4&amp;utm_medium=referral&amp;utm_campaign=enterprise\" target=\"_blank\">\n",
      "<span class=\"cta\">\n",
      "  Beautiful Soup for enterprise available via Tidelift\n",
      " </span>\n",
      "</a>\n",
      "</div>\n",
      "<p>If you have questions, send them to <a href=\"https://groups.google.com/forum/?fromgroups#!forum/beautifulsoup\">the discussion\n",
      "group</a>. If you find a bug, <a href=\"https://bugs.launchpad.net/beautifulsoup/\">file it on Launchpad</a>. If it's a security vulnerability, report it confidentially through <a href=\"https://tidelift.com/security\">Tidelift</a>.</p>\n",
      "<p>If you use Beautiful Soup as part of your work, please consider a <a href=\"https://tidelift.com/subscription/pkg/pypi-beautifulsoup4?utm_source=pypi-beautifulsoup4&amp;utm_medium=referral&amp;utm_campaign=website\">Tidelift subscription</a>. This will support many of the free software projects your organization depends on, not just Beautiful Soup.\n",
      "\n",
      "\n",
      "</p><p>If Beautiful Soup is useful to you on a personal level, you might like to read <a href=\"zine/\"><i>Tool Safety</i></a>, a short zine I wrote about what I learned about software development from working on Beautiful Soup. Thanks!</p>\n",
      "<a name=\"Download\"><h2>Download Beautiful Soup</h2></a>\n",
      "<p>The current release is <a href=\"bs4/download/\">Beautiful Soup\n",
      "4.12.3</a> (January 17, 2024). You can install Beautiful Soup 4 with\n",
      "<code>pip install beautifulsoup4</code>.\n",
      "\n",
      "</p><p>In Debian and Ubuntu, Beautiful Soup is available as the\n",
      "<code>python3-bs4</code> package. In Fedora it's\n",
      "available as the <code>python3-beautifulsoup4</code> package.\n",
      "\n",
      "</p><p>Beautiful Soup is licensed under the MIT license, so you can also\n",
      "download the tarball, drop the <code>bs4/</code> directory into almost\n",
      "any Python application (or into your library path) and start using it\n",
      "immediately.\n",
      "\n",
      "</p><p>Beautiful Soup 4 is supported on Python versions 3.6 and\n",
      "greater. Support for Python 2 was discontinued on January 1, 2021—one\n",
      "year after the Python 2 sunsetting date.\n",
      "\n",
      "</p><h3>Beautiful Soup 3</h3>\n",
      "<p>Beautiful Soup 3 was the official release line of Beautiful Soup\n",
      "from May 2006 to March 2012. It does not support Python 3 and was\n",
      "discontinued or January 1, 2021—one year after the Python 2\n",
      "sunsetting date. If you have any active projects using Beautiful Soup\n",
      "3, you should migrate to Beautiful Soup 4 as part of your Python 3\n",
      "conversion.\n",
      "\n",
      "</p><p><a href=\"http://www.crummy.com/software/BeautifulSoup/bs3/documentation.html\">Here's\n",
      "the Beautiful Soup 3 documentation.</a>\n",
      "</p><p>The current and hopefully final release of Beautiful Soup 3 is <a href=\"download/3.x/BeautifulSoup-3.2.2.tar.gz\">3.2.2</a> (October 5,\n",
      "2019). It's the <code>BeautifulSoup</code> package on pip. It's also\n",
      "available as <code>python-beautifulsoup</code> in Debian and Ubuntu,\n",
      "and as <code>python-BeautifulSoup</code> in Fedora.\n",
      "\n",
      "</p><p>Once Beautiful Soup 3 is discontinued, these package names will be available for use by a more recent version of Beautiful Soup.\n",
      "\n",
      "</p><p>Beautiful Soup 3, like Beautiful Soup 4, is <a href=\"https://tidelift.com/subscription/pkg/pypi-beautifulsoup?utm_source=pypi-beautifulsoup&amp;utm_medium=referral&amp;utm_campaign=website\">supported through Tidelift</a>.</p>\n",
      "<a name=\"HallOfFame\"><h2>Hall of Fame</h2></a>\n",
      "<p>Over the years, Beautiful Soup has been used in hundreds of\n",
      "different projects. There's no way I can list them all, but I want to\n",
      "highlight a few high-profile projects. Beautiful Soup isn't what makes\n",
      "these projects interesting, but it did make their completion easier:\n",
      "\n",
      "</p><ul>\n",
      "<li><a href=\"http://www.nytimes.com/2007/10/25/arts/design/25vide.html\">\"Movable\n",
      " Type\"</a>, a work of digital art on display in the lobby of the New\n",
      " York Times building, uses Beautiful Soup to scrape news feeds.\n",
      "\n",
      "</li><li>Jiabao Lin's <a href=\"https://github.com/BlankerL/DXY-COVID-19-Crawler\">DXY-COVID-19-Crawler</a>\n",
      "uses Beautiful Soup to scrape a Chinese medical site for information\n",
      "about COVID-19, making it easier for researchers to track the spread\n",
      "of the virus. (Source: <a href=\"https://blog.tidelift.com/how-open-source-software-is-fighting-covid-19\">\"How open source software is fighting COVID-19\"</a>)\n",
      "\n",
      "</li><li>Reddit uses Beautiful Soup to <a href=\"https://github.com/reddit/reddit/blob/85f9cff3e2ab9bb8f19b96acd8da4ebacc079f04/r2/r2/lib/media.py\">parse\n",
      "a page that's been linked to and find a representative image</a>.\n",
      "\n",
      "</li><li>Alexander Harrowell uses Beautiful Soup to <a href=\"http://www.harrowell.org.uk/viktormap.html\">track the business\n",
      " activities</a> of an arms merchant.\n",
      "\n",
      "</li><li>The developers of Python itself used Beautiful Soup to <a href=\"http://svn.python.org/view/tracker/importer/\">migrate the Python\n",
      "bug tracker from Sourceforge to Roundup</a>.\n",
      "\n",
      "</li><li>The <a href=\"http://www2.ljworld.com/\">Lawrence Journal-World</a>\n",
      "uses Beautiful Soup to <a href=\"http://www.b-list.org/weblog/2010/nov/02/news-done-broke/\">gather\n",
      "statewide election results</a>.\n",
      "\n",
      "</li><li>The <a href=\"http://esrl.noaa.gov/gsd/fab/\">NOAA's Forecast\n",
      "Applications Branch</a> uses Beautiful Soup in <a href=\"http://laps.noaa.gov/topograbber/\">TopoGrabber</a>, a script for\n",
      "downloading \"high resolution USGS datasets.\"\n",
      "\n",
      "</li></ul>\n",
      "<p>If you've used Beautiful Soup in a project you'd like me to know\n",
      "about, please do send email to me or <a href=\"http://groups.google.com/group/beautifulsoup/\">the discussion\n",
      "group</a>.\n",
      "\n",
      "</p><h2>Development</h2>\n",
      "<p>Development happens at <a href=\"https://launchpad.net/beautifulsoup\">Launchpad</a>. You can <a href=\"https://code.launchpad.net/beautifulsoup/\">get the source\n",
      "code</a> or <a href=\"https://bugs.launchpad.net/beautifulsoup/\">file\n",
      "bugs</a>.</p><hr/><table><tr><td valign=\"top\">\n",
      "<p>This document is part of Crummy, the webspace of <a href=\"/self/\">Leonard Richardson</a> (<a href=\"/self/contact.html\">contact information</a>). It was last modified on Wednesday, January 17 2024, 16:54:42 Nowhere Standard Time and last built on Tuesday, April 09 2024, 08:00:01 Nowhere Standard Time.</p><p></p><table class=\"licenseText\"><tr><td><a href=\"http://creativecommons.org/licenses/by-sa/2.0/\"><img border=\"0\" src=\"/nb//resources/img/somerights20.jpg\"/></a></td><td valign=\"top\">Crummy is © 1996-2024 Leonard Richardson. Unless otherwise noted, all text licensed under a <a href=\"http://creativecommons.org/licenses/by-sa/2.0/\">Creative Commons License</a>.</td></tr></table><!--<rdf:RDF xmlns=\"http://web.resource.org/cc/\" xmlns:dc=\"http://purl.org/dc/elements/1.1/\" xmlns:rdf=\"http://www.w3.org/1999/02/22-rdf-syntax-ns#\"><Work rdf:about=\"http://www.crummy.com/\"><dc:title>Crummy: The Site</dc:title><dc:rights><Agent><dc:title>Crummy: the Site</dc:title></Agent></dc:rights><dc:format>text/html</dc:format><license rdf:resource=http://creativecommons.org/licenses/by-sa/2.0//></Work><License rdf:about=\"http://creativecommons.org/licenses/by-sa/2.0/\"></License></rdf:RDF>--></td><td valign=\"top\"><p><b>Document tree:</b>\n",
      "</p><dl><dd><a href=\"http://www.crummy.com/\">http://www.crummy.com/</a><dl><dd><a href=\"http://www.crummy.com/software/\">software/</a><dl><dd><a href=\"http://www.crummy.com/software/BeautifulSoup/\">BeautifulSoup/</a></dd></dl>\n",
      "</dd></dl>\n",
      "</dd></dl>\n",
      "\n",
      "\n",
      "Site Search:\n",
      "\n",
      "<form action=\"/search/\" method=\"get\">\n",
      "<input maxlength=\"255\" name=\"q\" type=\"text\" value=\"\"/>\n",
      "</form>\n",
      "</td>\n",
      "</tr>\n",
      "</table>\n",
      "</body>\n",
      "</html>\n",
      "\n"
     ]
    }
   ],
   "source": [
    "import bs4 #this is beautiful soup\n",
    "\n",
    "soup = bs4.BeautifulSoup(source)\n",
    "print(soup)"
   ]
  },
  {
   "cell_type": "code",
   "execution_count": 28,
   "metadata": {},
   "outputs": [
    {
     "name": "stdout",
     "output_type": "stream",
     "text": [
      "<class 'bs4.BeautifulSoup'>\n"
     ]
    }
   ],
   "source": [
    "print(type(soup))"
   ]
  },
  {
   "cell_type": "code",
   "execution_count": 29,
   "metadata": {},
   "outputs": [
    {
     "name": "stdout",
     "output_type": "stream",
     "text": [
      "<!DOCTYPE HTML PUBLIC \"-//W3C//DTD HTML 4.0 Transitional//EN\" \"http://www.w3.org/TR/REC-html40/transitional.dtd\">\n",
      "<html>\n",
      " <head>\n",
      "  <meta content=\"text/html; charset=utf-8\" http-equiv=\"Content-Type\"/>\n",
      "  <title>\n",
      "   Beautiful Soup: We called him Tortoise because he taught us.\n",
      "  </title>\n",
      "  <link href=\"mailto:leonardr@segfault.org\" rev=\"made\"/>\n",
      "  <link href=\"/nb/themes/Default/nb.css\" rel=\"stylesheet\" type=\"text/css\"/>\n",
      "  <meta content=\"Beautiful Soup: a library designed for screen-scraping HTML and XML.\" name=\"Description\"/>\n",
      "  <meta content=\"Markov Approximation 1.4 (module: leonardr)\" name=\"generator\"/>\n",
      "  <meta content=\"Leonard Richardson\" name=\"author\"/>\n",
      " </head>\n",
      " <body alink=\"red\" bgcolor=\"white\" link=\"blue\" text=\"black\" vlink=\"660066\">\n",
      "  <style>\n",
      "   #tidelift { }\n",
      "\n",
      "#tidelift a {\n",
      " border: 1px solid #666666;\n",
      " margin-left: auto;\n",
      " padding: 10px;\n",
      " text-decoration: none;\n",
      "}\n",
      "\n",
      "#tidelift .cta {\n",
      " background: url(\"tidelift.svg\") no-repeat;\n",
      " padding-left: 30px;\n",
      "}\n",
      "  </style>\n",
      "  <img align=\"right\" src=\"10.1.jpg\" width=\"250\"/>\n",
      "  <br/>\n",
      "  <p>\n",
      "   [\n",
      "   <a href=\"#Download\">\n",
      "    Download\n",
      "   </a>\n",
      "   |\n",
      "   <a href=\"bs4/doc/\">\n",
      "    Documentation\n",
      "   </a>\n",
      "   |\n",
      "   <a href=\"#HallOfFame\">\n",
      "    Hall of Fame\n",
      "   </a>\n",
      "   |\n",
      "   <a href=\"enterprise.html\">\n",
      "    For enterprise\n",
      "   </a>\n",
      "   |\n",
      "   <a href=\"https://code.launchpad.net/beautifulsoup\">\n",
      "    Source\n",
      "   </a>\n",
      "   |\n",
      "   <a href=\"https://git.launchpad.net/beautifulsoup/tree/CHANGELOG\">\n",
      "    Changelog\n",
      "   </a>\n",
      "   |\n",
      "   <a href=\"https://groups.google.com/forum/?fromgroups#!forum/beautifulsoup\">\n",
      "    Discussion group\n",
      "   </a>\n",
      "   |\n",
      "   <a href=\"zine/\">\n",
      "    Zine\n",
      "   </a>\n",
      "   ]\n",
      "  </p>\n",
      "  <div align=\"center\">\n",
      "   <a href=\"bs4/download/\">\n",
      "    <h1>\n",
      "     Beautiful Soup\n",
      "    </h1>\n",
      "   </a>\n",
      "  </div>\n",
      "  <p>\n",
      "   You didn't write that awful page. You're just trying to get some\n",
      "data out of it. Beautiful Soup is here to help. Since 2004, it's been\n",
      "saving programmers hours or days of work on quick-turnaround\n",
      "screen scraping projects.\n",
      "  </p>\n",
      "  <p>\n",
      "   Beautiful Soup is a Python library designed for quick turnaround\n",
      "projects like screen-scraping. Three features make it powerful:\n",
      "  </p>\n",
      "  <ol>\n",
      "   <li>\n",
      "    Beautiful Soup provides a few simple methods and Pythonic idioms\n",
      "for navigating, searching, and modifying a parse tree: a toolkit for\n",
      "dissecting a document and extracting what you need. It doesn't take\n",
      "much code to write an application\n",
      "   </li>\n",
      "   <li>\n",
      "    Beautiful Soup automatically converts incoming documents to\n",
      "Unicode and outgoing documents to UTF-8. You don't have to think\n",
      "about encodings, unless the document doesn't specify an encoding and\n",
      "Beautiful Soup can't detect one. Then you just have to specify the\n",
      "original encoding.\n",
      "   </li>\n",
      "   <li>\n",
      "    Beautiful Soup sits on top of popular Python parsers like\n",
      "    <a href=\"http://lxml.de/\">\n",
      "     lxml\n",
      "    </a>\n",
      "    and\n",
      "    <a href=\"http://code.google.com/p/html5lib/\">\n",
      "     html5lib\n",
      "    </a>\n",
      "    , allowing you\n",
      "to try out different parsing strategies or trade speed for\n",
      "flexibility.\n",
      "   </li>\n",
      "  </ol>\n",
      "  <p>\n",
      "   Beautiful Soup parses anything you give it, and does the tree\n",
      "traversal stuff for you. You can tell it \"Find all the links\", or\n",
      "\"Find all the links of class\n",
      "   <tt>\n",
      "    externalLink\n",
      "   </tt>\n",
      "   \", or \"Find all the\n",
      "links whose urls match \"foo.com\", or \"Find the table heading that's\n",
      "got bold text, then give me that text.\"\n",
      "  </p>\n",
      "  <p>\n",
      "   Valuable data that was once locked up in poorly-designed websites\n",
      "is now within your reach. Projects that would have taken hours take\n",
      "only minutes with Beautiful Soup.\n",
      "  </p>\n",
      "  <p>\n",
      "   Interested?\n",
      "   <a href=\"bs4/doc/\">\n",
      "    Read more.\n",
      "   </a>\n",
      "  </p>\n",
      "  <h3>\n",
      "   Getting and giving support\n",
      "  </h3>\n",
      "  <div align=\"center\" id=\"tidelift\">\n",
      "   <a href=\"https://tidelift.com/subscription/pkg/pypi-beautifulsoup4?utm_source=pypi-beautifulsoup4&amp;utm_medium=referral&amp;utm_campaign=enterprise\" target=\"_blank\">\n",
      "    <span class=\"cta\">\n",
      "     Beautiful Soup for enterprise available via Tidelift\n",
      "    </span>\n",
      "   </a>\n",
      "  </div>\n",
      "  <p>\n",
      "   If you have questions, send them to\n",
      "   <a href=\"https://groups.google.com/forum/?fromgroups#!forum/beautifulsoup\">\n",
      "    the discussion\n",
      "group\n",
      "   </a>\n",
      "   . If you find a bug,\n",
      "   <a href=\"https://bugs.launchpad.net/beautifulsoup/\">\n",
      "    file it on Launchpad\n",
      "   </a>\n",
      "   . If it's a security vulnerability, report it confidentially through\n",
      "   <a href=\"https://tidelift.com/security\">\n",
      "    Tidelift\n",
      "   </a>\n",
      "   .\n",
      "  </p>\n",
      "  <p>\n",
      "   If you use Beautiful Soup as part of your work, please consider a\n",
      "   <a href=\"https://tidelift.com/subscription/pkg/pypi-beautifulsoup4?utm_source=pypi-beautifulsoup4&amp;utm_medium=referral&amp;utm_campaign=website\">\n",
      "    Tidelift subscription\n",
      "   </a>\n",
      "   . This will support many of the free software projects your organization depends on, not just Beautiful Soup.\n",
      "  </p>\n",
      "  <p>\n",
      "   If Beautiful Soup is useful to you on a personal level, you might like to read\n",
      "   <a href=\"zine/\">\n",
      "    <i>\n",
      "     Tool Safety\n",
      "    </i>\n",
      "   </a>\n",
      "   , a short zine I wrote about what I learned about software development from working on Beautiful Soup. Thanks!\n",
      "  </p>\n",
      "  <a name=\"Download\">\n",
      "   <h2>\n",
      "    Download Beautiful Soup\n",
      "   </h2>\n",
      "  </a>\n",
      "  <p>\n",
      "   The current release is\n",
      "   <a href=\"bs4/download/\">\n",
      "    Beautiful Soup\n",
      "4.12.3\n",
      "   </a>\n",
      "   (January 17, 2024). You can install Beautiful Soup 4 with\n",
      "   <code>\n",
      "    pip install beautifulsoup4\n",
      "   </code>\n",
      "   .\n",
      "  </p>\n",
      "  <p>\n",
      "   In Debian and Ubuntu, Beautiful Soup is available as the\n",
      "   <code>\n",
      "    python3-bs4\n",
      "   </code>\n",
      "   package. In Fedora it's\n",
      "available as the\n",
      "   <code>\n",
      "    python3-beautifulsoup4\n",
      "   </code>\n",
      "   package.\n",
      "  </p>\n",
      "  <p>\n",
      "   Beautiful Soup is licensed under the MIT license, so you can also\n",
      "download the tarball, drop the\n",
      "   <code>\n",
      "    bs4/\n",
      "   </code>\n",
      "   directory into almost\n",
      "any Python application (or into your library path) and start using it\n",
      "immediately.\n",
      "  </p>\n",
      "  <p>\n",
      "   Beautiful Soup 4 is supported on Python versions 3.6 and\n",
      "greater. Support for Python 2 was discontinued on January 1, 2021—one\n",
      "year after the Python 2 sunsetting date.\n",
      "  </p>\n",
      "  <h3>\n",
      "   Beautiful Soup 3\n",
      "  </h3>\n",
      "  <p>\n",
      "   Beautiful Soup 3 was the official release line of Beautiful Soup\n",
      "from May 2006 to March 2012. It does not support Python 3 and was\n",
      "discontinued or January 1, 2021—one year after the Python 2\n",
      "sunsetting date. If you have any active projects using Beautiful Soup\n",
      "3, you should migrate to Beautiful Soup 4 as part of your Python 3\n",
      "conversion.\n",
      "  </p>\n",
      "  <p>\n",
      "   <a href=\"http://www.crummy.com/software/BeautifulSoup/bs3/documentation.html\">\n",
      "    Here's\n",
      "the Beautiful Soup 3 documentation.\n",
      "   </a>\n",
      "  </p>\n",
      "  <p>\n",
      "   The current and hopefully final release of Beautiful Soup 3 is\n",
      "   <a href=\"download/3.x/BeautifulSoup-3.2.2.tar.gz\">\n",
      "    3.2.2\n",
      "   </a>\n",
      "   (October 5,\n",
      "2019). It's the\n",
      "   <code>\n",
      "    BeautifulSoup\n",
      "   </code>\n",
      "   package on pip. It's also\n",
      "available as\n",
      "   <code>\n",
      "    python-beautifulsoup\n",
      "   </code>\n",
      "   in Debian and Ubuntu,\n",
      "and as\n",
      "   <code>\n",
      "    python-BeautifulSoup\n",
      "   </code>\n",
      "   in Fedora.\n",
      "  </p>\n",
      "  <p>\n",
      "   Once Beautiful Soup 3 is discontinued, these package names will be available for use by a more recent version of Beautiful Soup.\n",
      "  </p>\n",
      "  <p>\n",
      "   Beautiful Soup 3, like Beautiful Soup 4, is\n",
      "   <a href=\"https://tidelift.com/subscription/pkg/pypi-beautifulsoup?utm_source=pypi-beautifulsoup&amp;utm_medium=referral&amp;utm_campaign=website\">\n",
      "    supported through Tidelift\n",
      "   </a>\n",
      "   .\n",
      "  </p>\n",
      "  <a name=\"HallOfFame\">\n",
      "   <h2>\n",
      "    Hall of Fame\n",
      "   </h2>\n",
      "  </a>\n",
      "  <p>\n",
      "   Over the years, Beautiful Soup has been used in hundreds of\n",
      "different projects. There's no way I can list them all, but I want to\n",
      "highlight a few high-profile projects. Beautiful Soup isn't what makes\n",
      "these projects interesting, but it did make their completion easier:\n",
      "  </p>\n",
      "  <ul>\n",
      "   <li>\n",
      "    <a href=\"http://www.nytimes.com/2007/10/25/arts/design/25vide.html\">\n",
      "     \"Movable\n",
      " Type\"\n",
      "    </a>\n",
      "    , a work of digital art on display in the lobby of the New\n",
      " York Times building, uses Beautiful Soup to scrape news feeds.\n",
      "   </li>\n",
      "   <li>\n",
      "    Jiabao Lin's\n",
      "    <a href=\"https://github.com/BlankerL/DXY-COVID-19-Crawler\">\n",
      "     DXY-COVID-19-Crawler\n",
      "    </a>\n",
      "    uses Beautiful Soup to scrape a Chinese medical site for information\n",
      "about COVID-19, making it easier for researchers to track the spread\n",
      "of the virus. (Source:\n",
      "    <a href=\"https://blog.tidelift.com/how-open-source-software-is-fighting-covid-19\">\n",
      "     \"How open source software is fighting COVID-19\"\n",
      "    </a>\n",
      "    )\n",
      "   </li>\n",
      "   <li>\n",
      "    Reddit uses Beautiful Soup to\n",
      "    <a href=\"https://github.com/reddit/reddit/blob/85f9cff3e2ab9bb8f19b96acd8da4ebacc079f04/r2/r2/lib/media.py\">\n",
      "     parse\n",
      "a page that's been linked to and find a representative image\n",
      "    </a>\n",
      "    .\n",
      "   </li>\n",
      "   <li>\n",
      "    Alexander Harrowell uses Beautiful Soup to\n",
      "    <a href=\"http://www.harrowell.org.uk/viktormap.html\">\n",
      "     track the business\n",
      " activities\n",
      "    </a>\n",
      "    of an arms merchant.\n",
      "   </li>\n",
      "   <li>\n",
      "    The developers of Python itself used Beautiful Soup to\n",
      "    <a href=\"http://svn.python.org/view/tracker/importer/\">\n",
      "     migrate the Python\n",
      "bug tracker from Sourceforge to Roundup\n",
      "    </a>\n",
      "    .\n",
      "   </li>\n",
      "   <li>\n",
      "    The\n",
      "    <a href=\"http://www2.ljworld.com/\">\n",
      "     Lawrence Journal-World\n",
      "    </a>\n",
      "    uses Beautiful Soup to\n",
      "    <a href=\"http://www.b-list.org/weblog/2010/nov/02/news-done-broke/\">\n",
      "     gather\n",
      "statewide election results\n",
      "    </a>\n",
      "    .\n",
      "   </li>\n",
      "   <li>\n",
      "    The\n",
      "    <a href=\"http://esrl.noaa.gov/gsd/fab/\">\n",
      "     NOAA's Forecast\n",
      "Applications Branch\n",
      "    </a>\n",
      "    uses Beautiful Soup in\n",
      "    <a href=\"http://laps.noaa.gov/topograbber/\">\n",
      "     TopoGrabber\n",
      "    </a>\n",
      "    , a script for\n",
      "downloading \"high resolution USGS datasets.\"\n",
      "   </li>\n",
      "  </ul>\n",
      "  <p>\n",
      "   If you've used Beautiful Soup in a project you'd like me to know\n",
      "about, please do send email to me or\n",
      "   <a href=\"http://groups.google.com/group/beautifulsoup/\">\n",
      "    the discussion\n",
      "group\n",
      "   </a>\n",
      "   .\n",
      "  </p>\n",
      "  <h2>\n",
      "   Development\n",
      "  </h2>\n",
      "  <p>\n",
      "   Development happens at\n",
      "   <a href=\"https://launchpad.net/beautifulsoup\">\n",
      "    Launchpad\n",
      "   </a>\n",
      "   . You can\n",
      "   <a href=\"https://code.launchpad.net/beautifulsoup/\">\n",
      "    get the source\n",
      "code\n",
      "   </a>\n",
      "   or\n",
      "   <a href=\"https://bugs.launchpad.net/beautifulsoup/\">\n",
      "    file\n",
      "bugs\n",
      "   </a>\n",
      "   .\n",
      "  </p>\n",
      "  <hr/>\n",
      "  <table>\n",
      "   <tr>\n",
      "    <td valign=\"top\">\n",
      "     <p>\n",
      "      This document is part of Crummy, the webspace of\n",
      "      <a href=\"/self/\">\n",
      "       Leonard Richardson\n",
      "      </a>\n",
      "      (\n",
      "      <a href=\"/self/contact.html\">\n",
      "       contact information\n",
      "      </a>\n",
      "      ). It was last modified on Wednesday, January 17 2024, 16:54:42 Nowhere Standard Time and last built on Tuesday, April 09 2024, 08:00:01 Nowhere Standard Time.\n",
      "     </p>\n",
      "     <p>\n",
      "     </p>\n",
      "     <table class=\"licenseText\">\n",
      "      <tr>\n",
      "       <td>\n",
      "        <a href=\"http://creativecommons.org/licenses/by-sa/2.0/\">\n",
      "         <img border=\"0\" src=\"/nb//resources/img/somerights20.jpg\"/>\n",
      "        </a>\n",
      "       </td>\n",
      "       <td valign=\"top\">\n",
      "        Crummy is © 1996-2024 Leonard Richardson. Unless otherwise noted, all text licensed under a\n",
      "        <a href=\"http://creativecommons.org/licenses/by-sa/2.0/\">\n",
      "         Creative Commons License\n",
      "        </a>\n",
      "        .\n",
      "       </td>\n",
      "      </tr>\n",
      "     </table>\n",
      "     <!--<rdf:RDF xmlns=\"http://web.resource.org/cc/\" xmlns:dc=\"http://purl.org/dc/elements/1.1/\" xmlns:rdf=\"http://www.w3.org/1999/02/22-rdf-syntax-ns#\"><Work rdf:about=\"http://www.crummy.com/\"><dc:title>Crummy: The Site</dc:title><dc:rights><Agent><dc:title>Crummy: the Site</dc:title></Agent></dc:rights><dc:format>text/html</dc:format><license rdf:resource=http://creativecommons.org/licenses/by-sa/2.0//></Work><License rdf:about=\"http://creativecommons.org/licenses/by-sa/2.0/\"></License></rdf:RDF>-->\n",
      "    </td>\n",
      "    <td valign=\"top\">\n",
      "     <p>\n",
      "      <b>\n",
      "       Document tree:\n",
      "      </b>\n",
      "     </p>\n",
      "     <dl>\n",
      "      <dd>\n",
      "       <a href=\"http://www.crummy.com/\">\n",
      "        http://www.crummy.com/\n",
      "       </a>\n",
      "       <dl>\n",
      "        <dd>\n",
      "         <a href=\"http://www.crummy.com/software/\">\n",
      "          software/\n",
      "         </a>\n",
      "         <dl>\n",
      "          <dd>\n",
      "           <a href=\"http://www.crummy.com/software/BeautifulSoup/\">\n",
      "            BeautifulSoup/\n",
      "           </a>\n",
      "          </dd>\n",
      "         </dl>\n",
      "        </dd>\n",
      "       </dl>\n",
      "      </dd>\n",
      "     </dl>\n",
      "     Site Search:\n",
      "     <form action=\"/search/\" method=\"get\">\n",
      "      <input maxlength=\"255\" name=\"q\" type=\"text\" value=\"\"/>\n",
      "     </form>\n",
      "    </td>\n",
      "   </tr>\n",
      "  </table>\n",
      " </body>\n",
      "</html>\n",
      "\n"
     ]
    }
   ],
   "source": [
    "print(soup.prettify()) # prettify() method to display the HTML in a readable format"
   ]
  },
  {
   "cell_type": "code",
   "execution_count": 32,
   "metadata": {},
   "outputs": [
    {
     "data": {
      "text/plain": [
       "<title>Beautiful Soup: We called him Tortoise because he taught us.</title>"
      ]
     },
     "execution_count": 32,
     "metadata": {},
     "output_type": "execute_result"
    }
   ],
   "source": [
    "header = soup.findAll('title') # or .find() to just get the first instance of the requested tag\n",
    "header[0]"
   ]
  },
  {
   "cell_type": "code",
   "execution_count": 33,
   "metadata": {},
   "outputs": [
    {
     "data": {
      "text/plain": [
       "'Beautiful Soup: We called him Tortoise because he taught us.'"
      ]
     },
     "execution_count": 33,
     "metadata": {},
     "output_type": "execute_result"
    }
   ],
   "source": [
    "header[0].text"
   ]
  },
  {
   "cell_type": "markdown",
   "metadata": {},
   "source": [
    "<span style=\"color:red\">How would I extract just the website title?</span>"
   ]
  },
  {
   "cell_type": "code",
   "execution_count": 34,
   "metadata": {},
   "outputs": [
    {
     "data": {
      "text/plain": [
       "[<a href=\"#Download\">Download</a>,\n",
       " <a href=\"bs4/doc/\">Documentation</a>,\n",
       " <a href=\"#HallOfFame\">Hall of Fame</a>,\n",
       " <a href=\"enterprise.html\">For enterprise</a>,\n",
       " <a href=\"https://code.launchpad.net/beautifulsoup\">Source</a>,\n",
       " <a href=\"https://git.launchpad.net/beautifulsoup/tree/CHANGELOG\">Changelog</a>,\n",
       " <a href=\"https://groups.google.com/forum/?fromgroups#!forum/beautifulsoup\">Discussion group</a>,\n",
       " <a href=\"zine/\">Zine</a>,\n",
       " <a href=\"bs4/download/\"><h1>Beautiful Soup</h1></a>,\n",
       " <a href=\"http://lxml.de/\">lxml</a>,\n",
       " <a href=\"http://code.google.com/p/html5lib/\">html5lib</a>,\n",
       " <a href=\"bs4/doc/\">Read more.</a>,\n",
       " <a href=\"https://tidelift.com/subscription/pkg/pypi-beautifulsoup4?utm_source=pypi-beautifulsoup4&amp;utm_medium=referral&amp;utm_campaign=enterprise\" target=\"_blank\">\n",
       " <span class=\"cta\">\n",
       "   Beautiful Soup for enterprise available via Tidelift\n",
       "  </span>\n",
       " </a>,\n",
       " <a href=\"https://groups.google.com/forum/?fromgroups#!forum/beautifulsoup\">the discussion\n",
       " group</a>,\n",
       " <a href=\"https://bugs.launchpad.net/beautifulsoup/\">file it on Launchpad</a>,\n",
       " <a href=\"https://tidelift.com/security\">Tidelift</a>,\n",
       " <a href=\"https://tidelift.com/subscription/pkg/pypi-beautifulsoup4?utm_source=pypi-beautifulsoup4&amp;utm_medium=referral&amp;utm_campaign=website\">Tidelift subscription</a>,\n",
       " <a href=\"zine/\"><i>Tool Safety</i></a>,\n",
       " <a name=\"Download\"><h2>Download Beautiful Soup</h2></a>,\n",
       " <a href=\"bs4/download/\">Beautiful Soup\n",
       " 4.12.3</a>,\n",
       " <a href=\"http://www.crummy.com/software/BeautifulSoup/bs3/documentation.html\">Here's\n",
       " the Beautiful Soup 3 documentation.</a>,\n",
       " <a href=\"download/3.x/BeautifulSoup-3.2.2.tar.gz\">3.2.2</a>,\n",
       " <a href=\"https://tidelift.com/subscription/pkg/pypi-beautifulsoup?utm_source=pypi-beautifulsoup&amp;utm_medium=referral&amp;utm_campaign=website\">supported through Tidelift</a>,\n",
       " <a name=\"HallOfFame\"><h2>Hall of Fame</h2></a>,\n",
       " <a href=\"http://www.nytimes.com/2007/10/25/arts/design/25vide.html\">\"Movable\n",
       "  Type\"</a>,\n",
       " <a href=\"https://github.com/BlankerL/DXY-COVID-19-Crawler\">DXY-COVID-19-Crawler</a>,\n",
       " <a href=\"https://blog.tidelift.com/how-open-source-software-is-fighting-covid-19\">\"How open source software is fighting COVID-19\"</a>,\n",
       " <a href=\"https://github.com/reddit/reddit/blob/85f9cff3e2ab9bb8f19b96acd8da4ebacc079f04/r2/r2/lib/media.py\">parse\n",
       " a page that's been linked to and find a representative image</a>,\n",
       " <a href=\"http://www.harrowell.org.uk/viktormap.html\">track the business\n",
       "  activities</a>,\n",
       " <a href=\"http://svn.python.org/view/tracker/importer/\">migrate the Python\n",
       " bug tracker from Sourceforge to Roundup</a>,\n",
       " <a href=\"http://www2.ljworld.com/\">Lawrence Journal-World</a>,\n",
       " <a href=\"http://www.b-list.org/weblog/2010/nov/02/news-done-broke/\">gather\n",
       " statewide election results</a>,\n",
       " <a href=\"http://esrl.noaa.gov/gsd/fab/\">NOAA's Forecast\n",
       " Applications Branch</a>,\n",
       " <a href=\"http://laps.noaa.gov/topograbber/\">TopoGrabber</a>,\n",
       " <a href=\"http://groups.google.com/group/beautifulsoup/\">the discussion\n",
       " group</a>,\n",
       " <a href=\"https://launchpad.net/beautifulsoup\">Launchpad</a>,\n",
       " <a href=\"https://code.launchpad.net/beautifulsoup/\">get the source\n",
       " code</a>,\n",
       " <a href=\"https://bugs.launchpad.net/beautifulsoup/\">file\n",
       " bugs</a>,\n",
       " <a href=\"/self/\">Leonard Richardson</a>,\n",
       " <a href=\"/self/contact.html\">contact information</a>,\n",
       " <a href=\"http://creativecommons.org/licenses/by-sa/2.0/\"><img border=\"0\" src=\"/nb//resources/img/somerights20.jpg\"/></a>,\n",
       " <a href=\"http://creativecommons.org/licenses/by-sa/2.0/\">Creative Commons License</a>,\n",
       " <a href=\"http://www.crummy.com/\">http://www.crummy.com/</a>,\n",
       " <a href=\"http://www.crummy.com/software/\">software/</a>,\n",
       " <a href=\"http://www.crummy.com/software/BeautifulSoup/\">BeautifulSoup/</a>]"
      ]
     },
     "execution_count": 34,
     "metadata": {},
     "output_type": "execute_result"
    }
   ],
   "source": [
    "# find all links\n",
    "soup.findAll('a')"
   ]
  },
  {
   "cell_type": "code",
   "execution_count": 35,
   "metadata": {},
   "outputs": [
    {
     "name": "stdout",
     "output_type": "stream",
     "text": [
      "<a href=\"http://code.google.com/p/html5lib/\">html5lib</a>\n"
     ]
    },
    {
     "data": {
      "text/plain": [
       "'http://code.google.com/p/html5lib/'"
      ]
     },
     "execution_count": 35,
     "metadata": {},
     "output_type": "execute_result"
    }
   ],
   "source": [
    "links = soup.find_all('a')\n",
    "a_link = links[10]\n",
    "print(a_link)\n",
    "a_link.get('href') # search within one tag for a specific attribute using .get()"
   ]
  },
  {
   "cell_type": "code",
   "execution_count": 36,
   "metadata": {},
   "outputs": [
    {
     "data": {
      "text/plain": [
       "['#Download',\n",
       " 'bs4/doc/',\n",
       " '#HallOfFame',\n",
       " 'enterprise.html',\n",
       " 'https://code.launchpad.net/beautifulsoup',\n",
       " 'https://git.launchpad.net/beautifulsoup/tree/CHANGELOG',\n",
       " 'https://groups.google.com/forum/?fromgroups#!forum/beautifulsoup',\n",
       " 'zine/',\n",
       " 'bs4/download/',\n",
       " 'http://lxml.de/',\n",
       " 'http://code.google.com/p/html5lib/',\n",
       " 'bs4/doc/',\n",
       " 'https://tidelift.com/subscription/pkg/pypi-beautifulsoup4?utm_source=pypi-beautifulsoup4&utm_medium=referral&utm_campaign=enterprise',\n",
       " 'https://groups.google.com/forum/?fromgroups#!forum/beautifulsoup',\n",
       " 'https://bugs.launchpad.net/beautifulsoup/',\n",
       " 'https://tidelift.com/security',\n",
       " 'https://tidelift.com/subscription/pkg/pypi-beautifulsoup4?utm_source=pypi-beautifulsoup4&utm_medium=referral&utm_campaign=website',\n",
       " 'zine/',\n",
       " None,\n",
       " 'bs4/download/',\n",
       " 'http://www.crummy.com/software/BeautifulSoup/bs3/documentation.html',\n",
       " 'download/3.x/BeautifulSoup-3.2.2.tar.gz',\n",
       " 'https://tidelift.com/subscription/pkg/pypi-beautifulsoup?utm_source=pypi-beautifulsoup&utm_medium=referral&utm_campaign=website',\n",
       " None,\n",
       " 'http://www.nytimes.com/2007/10/25/arts/design/25vide.html',\n",
       " 'https://github.com/BlankerL/DXY-COVID-19-Crawler',\n",
       " 'https://blog.tidelift.com/how-open-source-software-is-fighting-covid-19',\n",
       " 'https://github.com/reddit/reddit/blob/85f9cff3e2ab9bb8f19b96acd8da4ebacc079f04/r2/r2/lib/media.py',\n",
       " 'http://www.harrowell.org.uk/viktormap.html',\n",
       " 'http://svn.python.org/view/tracker/importer/',\n",
       " 'http://www2.ljworld.com/',\n",
       " 'http://www.b-list.org/weblog/2010/nov/02/news-done-broke/',\n",
       " 'http://esrl.noaa.gov/gsd/fab/',\n",
       " 'http://laps.noaa.gov/topograbber/',\n",
       " 'http://groups.google.com/group/beautifulsoup/',\n",
       " 'https://launchpad.net/beautifulsoup',\n",
       " 'https://code.launchpad.net/beautifulsoup/',\n",
       " 'https://bugs.launchpad.net/beautifulsoup/',\n",
       " '/self/',\n",
       " '/self/contact.html',\n",
       " 'http://creativecommons.org/licenses/by-sa/2.0/',\n",
       " 'http://creativecommons.org/licenses/by-sa/2.0/',\n",
       " 'http://www.crummy.com/',\n",
       " 'http://www.crummy.com/software/',\n",
       " 'http://www.crummy.com/software/BeautifulSoup/']"
      ]
     },
     "execution_count": 36,
     "metadata": {},
     "output_type": "execute_result"
    }
   ],
   "source": [
    "# store all links on the page in a list\n",
    "link_list = [l.get('href') for l in soup.findAll('a')]\n",
    "link_list"
   ]
  },
  {
   "cell_type": "code",
   "execution_count": 37,
   "metadata": {},
   "outputs": [
    {
     "data": {
      "text/plain": [
       "['https://code.launchpad.net/beautifulsoup',\n",
       " 'https://git.launchpad.net/beautifulsoup/tree/CHANGELOG',\n",
       " 'https://groups.google.com/forum/?fromgroups#!forum/beautifulsoup',\n",
       " 'http://lxml.de/',\n",
       " 'http://code.google.com/p/html5lib/',\n",
       " 'https://tidelift.com/subscription/pkg/pypi-beautifulsoup4?utm_source=pypi-beautifulsoup4&utm_medium=referral&utm_campaign=enterprise',\n",
       " 'https://groups.google.com/forum/?fromgroups#!forum/beautifulsoup',\n",
       " 'https://bugs.launchpad.net/beautifulsoup/',\n",
       " 'https://tidelift.com/security',\n",
       " 'https://tidelift.com/subscription/pkg/pypi-beautifulsoup4?utm_source=pypi-beautifulsoup4&utm_medium=referral&utm_campaign=website',\n",
       " 'http://www.crummy.com/software/BeautifulSoup/bs3/documentation.html',\n",
       " 'https://tidelift.com/subscription/pkg/pypi-beautifulsoup?utm_source=pypi-beautifulsoup&utm_medium=referral&utm_campaign=website',\n",
       " 'http://www.nytimes.com/2007/10/25/arts/design/25vide.html',\n",
       " 'https://github.com/BlankerL/DXY-COVID-19-Crawler',\n",
       " 'https://blog.tidelift.com/how-open-source-software-is-fighting-covid-19',\n",
       " 'https://github.com/reddit/reddit/blob/85f9cff3e2ab9bb8f19b96acd8da4ebacc079f04/r2/r2/lib/media.py',\n",
       " 'http://www.harrowell.org.uk/viktormap.html',\n",
       " 'http://svn.python.org/view/tracker/importer/',\n",
       " 'http://www2.ljworld.com/',\n",
       " 'http://www.b-list.org/weblog/2010/nov/02/news-done-broke/',\n",
       " 'http://esrl.noaa.gov/gsd/fab/',\n",
       " 'http://laps.noaa.gov/topograbber/',\n",
       " 'http://groups.google.com/group/beautifulsoup/',\n",
       " 'https://launchpad.net/beautifulsoup',\n",
       " 'https://code.launchpad.net/beautifulsoup/',\n",
       " 'https://bugs.launchpad.net/beautifulsoup/',\n",
       " 'http://creativecommons.org/licenses/by-sa/2.0/',\n",
       " 'http://creativecommons.org/licenses/by-sa/2.0/',\n",
       " 'http://www.crummy.com/',\n",
       " 'http://www.crummy.com/software/',\n",
       " 'http://www.crummy.com/software/BeautifulSoup/']"
      ]
     },
     "execution_count": 37,
     "metadata": {},
     "output_type": "execute_result"
    }
   ],
   "source": [
    "# extract all external links\n",
    "external_links = []\n",
    "\n",
    "# the loop filters out \"None\" and links that don't start with http\n",
    "for l in link_list:\n",
    "    if l is not None and l[:4] == 'http':\n",
    "        external_links.append(l)\n",
    "        \n",
    "external_links"
   ]
  },
  {
   "cell_type": "code",
   "execution_count": 38,
   "metadata": {},
   "outputs": [
    {
     "data": {
      "text/plain": [
       "['https://code.launchpad.net/beautifulsoup',\n",
       " 'https://git.launchpad.net/beautifulsoup/tree/CHANGELOG',\n",
       " 'https://groups.google.com/forum/?fromgroups#!forum/beautifulsoup',\n",
       " 'http://lxml.de/',\n",
       " 'http://code.google.com/p/html5lib/',\n",
       " 'https://tidelift.com/subscription/pkg/pypi-beautifulsoup4?utm_source=pypi-beautifulsoup4&utm_medium=referral&utm_campaign=enterprise',\n",
       " 'https://groups.google.com/forum/?fromgroups#!forum/beautifulsoup',\n",
       " 'https://bugs.launchpad.net/beautifulsoup/',\n",
       " 'https://tidelift.com/security',\n",
       " 'https://tidelift.com/subscription/pkg/pypi-beautifulsoup4?utm_source=pypi-beautifulsoup4&utm_medium=referral&utm_campaign=website',\n",
       " 'http://www.crummy.com/software/BeautifulSoup/bs3/documentation.html',\n",
       " 'https://tidelift.com/subscription/pkg/pypi-beautifulsoup?utm_source=pypi-beautifulsoup&utm_medium=referral&utm_campaign=website',\n",
       " 'http://www.nytimes.com/2007/10/25/arts/design/25vide.html',\n",
       " 'https://github.com/BlankerL/DXY-COVID-19-Crawler',\n",
       " 'https://blog.tidelift.com/how-open-source-software-is-fighting-covid-19',\n",
       " 'https://github.com/reddit/reddit/blob/85f9cff3e2ab9bb8f19b96acd8da4ebacc079f04/r2/r2/lib/media.py',\n",
       " 'http://www.harrowell.org.uk/viktormap.html',\n",
       " 'http://svn.python.org/view/tracker/importer/',\n",
       " 'http://www2.ljworld.com/',\n",
       " 'http://www.b-list.org/weblog/2010/nov/02/news-done-broke/',\n",
       " 'http://esrl.noaa.gov/gsd/fab/',\n",
       " 'http://laps.noaa.gov/topograbber/',\n",
       " 'http://groups.google.com/group/beautifulsoup/',\n",
       " 'https://launchpad.net/beautifulsoup',\n",
       " 'https://code.launchpad.net/beautifulsoup/',\n",
       " 'https://bugs.launchpad.net/beautifulsoup/',\n",
       " 'http://creativecommons.org/licenses/by-sa/2.0/',\n",
       " 'http://creativecommons.org/licenses/by-sa/2.0/',\n",
       " 'http://www.crummy.com/',\n",
       " 'http://www.crummy.com/software/',\n",
       " 'http://www.crummy.com/software/BeautifulSoup/']"
      ]
     },
     "execution_count": 38,
     "metadata": {},
     "output_type": "execute_result"
    }
   ],
   "source": [
    "# the same this using list comprehension\n",
    "\n",
    "[l for l in link_list if l is not None and l.startswith('http')]"
   ]
  },
  {
   "cell_type": "markdown",
   "metadata": {},
   "source": [
    "### Scraping dynamic webpages using Selenium"
   ]
  },
  {
   "cell_type": "code",
   "execution_count": 39,
   "metadata": {},
   "outputs": [
    {
     "name": "stdout",
     "output_type": "stream",
     "text": [
      "Requirement already satisfied: selenium in c:\\users\\ogiev\\anaconda3\\lib\\site-packages (4.18.1)\n",
      "Requirement already satisfied: urllib3[socks]<3,>=1.26 in c:\\users\\ogiev\\anaconda3\\lib\\site-packages (from selenium) (1.26.16)\n",
      "Requirement already satisfied: trio~=0.17 in c:\\users\\ogiev\\anaconda3\\lib\\site-packages (from selenium) (0.24.0)\n",
      "Requirement already satisfied: trio-websocket~=0.9 in c:\\users\\ogiev\\anaconda3\\lib\\site-packages (from selenium) (0.11.1)\n",
      "Requirement already satisfied: certifi>=2021.10.8 in c:\\users\\ogiev\\anaconda3\\lib\\site-packages (from selenium) (2023.11.17)\n",
      "Requirement already satisfied: typing_extensions>=4.9.0 in c:\\users\\ogiev\\anaconda3\\lib\\site-packages (from selenium) (4.10.0)\n",
      "Requirement already satisfied: attrs>=20.1.0 in c:\\users\\ogiev\\anaconda3\\lib\\site-packages (from trio~=0.17->selenium) (22.1.0)\n",
      "Requirement already satisfied: sortedcontainers in c:\\users\\ogiev\\anaconda3\\lib\\site-packages (from trio~=0.17->selenium) (2.4.0)\n",
      "Requirement already satisfied: idna in c:\\users\\ogiev\\anaconda3\\lib\\site-packages (from trio~=0.17->selenium) (3.4)\n",
      "Requirement already satisfied: outcome in c:\\users\\ogiev\\anaconda3\\lib\\site-packages (from trio~=0.17->selenium) (1.3.0.post0)\n",
      "Requirement already satisfied: sniffio>=1.3.0 in c:\\users\\ogiev\\anaconda3\\lib\\site-packages (from trio~=0.17->selenium) (1.3.1)\n",
      "Requirement already satisfied: cffi>=1.14 in c:\\users\\ogiev\\anaconda3\\lib\\site-packages (from trio~=0.17->selenium) (1.15.1)\n",
      "Requirement already satisfied: wsproto>=0.14 in c:\\users\\ogiev\\anaconda3\\lib\\site-packages (from trio-websocket~=0.9->selenium) (1.2.0)\n",
      "Requirement already satisfied: PySocks!=1.5.7,<2.0,>=1.5.6 in c:\\users\\ogiev\\anaconda3\\lib\\site-packages (from urllib3[socks]<3,>=1.26->selenium) (1.7.1)\n",
      "Requirement already satisfied: pycparser in c:\\users\\ogiev\\anaconda3\\lib\\site-packages (from cffi>=1.14->trio~=0.17->selenium) (2.21)\n",
      "Requirement already satisfied: h11<1,>=0.9.0 in c:\\users\\ogiev\\anaconda3\\lib\\site-packages (from wsproto>=0.14->trio-websocket~=0.9->selenium) (0.14.0)\n",
      "Requirement already satisfied: webdriver-manager in c:\\users\\ogiev\\anaconda3\\lib\\site-packages (4.0.1)\n",
      "Requirement already satisfied: requests in c:\\users\\ogiev\\anaconda3\\lib\\site-packages (from webdriver-manager) (2.31.0)\n",
      "Requirement already satisfied: python-dotenv in c:\\users\\ogiev\\anaconda3\\lib\\site-packages (from webdriver-manager) (0.21.0)\n",
      "Requirement already satisfied: packaging in c:\\users\\ogiev\\anaconda3\\lib\\site-packages (from webdriver-manager) (23.1)\n",
      "Requirement already satisfied: charset-normalizer<4,>=2 in c:\\users\\ogiev\\anaconda3\\lib\\site-packages (from requests->webdriver-manager) (2.0.4)\n",
      "Requirement already satisfied: idna<4,>=2.5 in c:\\users\\ogiev\\anaconda3\\lib\\site-packages (from requests->webdriver-manager) (3.4)\n",
      "Requirement already satisfied: urllib3<3,>=1.21.1 in c:\\users\\ogiev\\anaconda3\\lib\\site-packages (from requests->webdriver-manager) (1.26.16)\n",
      "Requirement already satisfied: certifi>=2017.4.17 in c:\\users\\ogiev\\anaconda3\\lib\\site-packages (from requests->webdriver-manager) (2023.11.17)\n"
     ]
    }
   ],
   "source": [
    "!pip3 install selenium\n",
    "!pip3 install webdriver-manager"
   ]
  },
  {
   "cell_type": "code",
   "execution_count": 40,
   "metadata": {},
   "outputs": [
    {
     "data": {
      "text/html": [
       "<iframe src=https://www.worldometers.info/coronavirus/weekly-trends/ width=1000 height=400></iframe>"
      ],
      "text/plain": [
       "<IPython.core.display.HTML object>"
      ]
     },
     "execution_count": 40,
     "metadata": {},
     "output_type": "execute_result"
    }
   ],
   "source": [
    "%%capture --no-display\n",
    "HTML('<iframe src=https://www.worldometers.info/coronavirus/weekly-trends/ width=1000 height=400></iframe>')"
   ]
  },
  {
   "cell_type": "markdown",
   "metadata": {},
   "source": [
    "What if we need information on the weekly case/death change? - Our robot must click on the Columns dropdown menu and select the required columns. We need another package called Selenium to this end."
   ]
  },
  {
   "cell_type": "code",
   "execution_count": 41,
   "metadata": {},
   "outputs": [],
   "source": [
    "import selenium\n",
    "from selenium import webdriver\n",
    "from bs4 import BeautifulSoup\n",
    "import time"
   ]
  },
  {
   "cell_type": "markdown",
   "metadata": {},
   "source": [
    "1. Open the website"
   ]
  },
  {
   "cell_type": "code",
   "execution_count": 42,
   "metadata": {},
   "outputs": [],
   "source": [
    "from selenium import webdriver\n",
    "from selenium.webdriver.chrome.service import Service\n",
    "from webdriver_manager.chrome import ChromeDriverManager\n",
    "\n",
    "driver = webdriver.Chrome(service=Service(ChromeDriverManager().install()))\n",
    "driver.get('https://www.worldometers.info/coronavirus/weekly-trends/')"
   ]
  },
  {
   "cell_type": "markdown",
   "metadata": {},
   "source": [
    "If this doesn't work for you, heres another way to open the website. You'll first have to install a Web Driver, for example Google Chrome:\n",
    "\n",
    "https://chromedriver.chromium.org/downloads \n",
    "\n",
    "Make sure to download the version that matches the current version of your chrome browser! Store the webdriver .exe file somewhere you can access it with a relative file path."
   ]
  },
  {
   "cell_type": "code",
   "execution_count": null,
   "metadata": {},
   "outputs": [],
   "source": [
    "options = webdriver.ChromeOptions()\n",
    "s = Service('../Data/chromedriver/chromedriver.exe') # chromedriver is an .exe file, depending on your computer you may have to specify this file extension\n",
    "driver = webdriver.Chrome(service=s, options=options)\n",
    "driver.get('https://www.worldometers.info/coronavirus/weekly-trends/')"
   ]
  },
  {
   "cell_type": "markdown",
   "metadata": {},
   "source": [
    "2. Select the dropdown menu"
   ]
  },
  {
   "cell_type": "code",
   "execution_count": 43,
   "metadata": {},
   "outputs": [
    {
     "name": "stdout",
     "output_type": "stream",
     "text": [
      "Columns\n"
     ]
    }
   ],
   "source": [
    "from selenium.webdriver.common.by import By\n",
    "\n",
    "element = driver.find_element(By.CLASS_NAME,'dropdown-toggle')\n",
    "print(element.text) # '.text' identifies whats on the website so check to make sure it's right"
   ]
  },
  {
   "cell_type": "markdown",
   "metadata": {},
   "source": [
    "3. Click on the dropdown menu"
   ]
  },
  {
   "cell_type": "code",
   "execution_count": 44,
   "metadata": {},
   "outputs": [
    {
     "data": {
      "text/plain": [
       "'Cases in the last 7 days\\nCases in the preceding 7 days\\nWeekly Case % Change\\nCases in the last 7 days/1M pop\\nDeaths in the last 7 days\\nDeaths in the preceding 7 days\\nWeekly Death % Change\\nDeaths in the last 7 days/1M pop\\nWeekly Case Change\\nWeekly Case Change/1M pop\\nWeekly Deaths Change\\nWeekly Deaths Change/1M pop\\nPopulation'"
      ]
     },
     "execution_count": 44,
     "metadata": {},
     "output_type": "execute_result"
    }
   ],
   "source": [
    "element = driver.find_element(By.CLASS_NAME,'dropdown-toggle')\n",
    "\n",
    "time.sleep(2) # pause to ensure that the website has fully opened, sometimes selenium is too fast\n",
    "element.click() # element must be visible in the simulated web browser in order to click on it\n",
    "time.sleep(2)\n",
    "\n",
    "element = driver.find_element(By.ID,'colsDrop')\n",
    "element.text"
   ]
  },
  {
   "cell_type": "code",
   "execution_count": 45,
   "metadata": {},
   "outputs": [
    {
     "data": {
      "text/plain": [
       "'\\n\\n            <li><div class=\"checkbox\"><label for=\"column_2\"><input id=\"column_2\" checked=\"\" type=\"checkbox\" class=\"toggle-vis\" data-column=\"2\">Cases in the last 7 days</label></div></li><li><div class=\"checkbox\"><label for=\"column_3\"><input id=\"column_3\" checked=\"\" type=\"checkbox\" class=\"toggle-vis\" data-column=\"3\">Cases in the preceding  7 days</label></div></li><li><div class=\"checkbox\"><label for=\"column_4\"><input id=\"column_4\" checked=\"\" type=\"checkbox\" class=\"toggle-vis\" data-column=\"4\"><nobr>Weekly Case</nobr> <nobr>% Change</nobr></label></div></li><li><div class=\"checkbox\"><label for=\"column_5\"><input id=\"column_5\" checked=\"\" type=\"checkbox\" class=\"toggle-vis\" data-column=\"5\">Cases in the last <nobr>7 days</nobr>/1M pop</label></div></li><li><div class=\"checkbox\"><label for=\"column_6\"><input id=\"column_6\" checked=\"\" type=\"checkbox\" class=\"toggle-vis\" data-column=\"6\">Deaths in the last <nobr>7 days</nobr></label></div></li><li><div class=\"checkbox\"><label for=\"column_7\"><input id=\"column_7\" checked=\"\" type=\"checkbox\" class=\"toggle-vis\" data-column=\"7\">Deaths in the preceding <nobr>7 days</nobr></label></div></li><li><div class=\"checkbox\"><label for=\"column_8\"><input id=\"column_8\" checked=\"\" type=\"checkbox\" class=\"toggle-vis\" data-column=\"8\"><nobr>Weekly Death</nobr> <nobr>% Change</nobr></label></div></li><li><div class=\"checkbox\"><label for=\"column_9\"><input id=\"column_9\" checked=\"\" type=\"checkbox\" class=\"toggle-vis\" data-column=\"9\">Deaths in the last 7 days/1M pop</label></div></li><li><div class=\"checkbox\"><label for=\"column_10\"><input id=\"column_10\" type=\"checkbox\" class=\"toggle-vis\" data-column=\"10\">Weekly Case Change</label></div></li><li><div class=\"checkbox\"><label for=\"column_11\"><input id=\"column_11\" type=\"checkbox\" class=\"toggle-vis\" data-column=\"11\">Weekly Case Change/1M pop</label></div></li><li><div class=\"checkbox\"><label for=\"column_12\"><input id=\"column_12\" type=\"checkbox\" class=\"toggle-vis\" data-column=\"12\">Weekly Deaths Change</label></div></li><li><div class=\"checkbox\"><label for=\"column_13\"><input id=\"column_13\" type=\"checkbox\" class=\"toggle-vis\" data-column=\"13\">Weekly Deaths Change/1M pop</label></div></li><li><div class=\"checkbox\"><label for=\"column_14\"><input id=\"column_14\" checked=\"\" type=\"checkbox\" class=\"toggle-vis\" data-column=\"14\">Population</label></div></li>'"
      ]
     },
     "execution_count": 45,
     "metadata": {},
     "output_type": "execute_result"
    }
   ],
   "source": [
    "element.get_attribute('innerHTML')"
   ]
  },
  {
   "cell_type": "markdown",
   "metadata": {},
   "source": [
    "4. Click the checkboxes"
   ]
  },
  {
   "cell_type": "markdown",
   "metadata": {},
   "source": []
  },
  {
   "cell_type": "code",
   "execution_count": 46,
   "metadata": {},
   "outputs": [],
   "source": [
    "element1 = element.find_element(By.ID, 'column_10')\n",
    "element2 = element.find_element(By.ID, 'column_12')\n",
    "\n",
    "driver.execute_script(\"arguments[0].click();\", element1)\n",
    "driver.execute_script(\"arguments[0].click();\", element2)"
   ]
  },
  {
   "cell_type": "markdown",
   "metadata": {},
   "source": [
    "5. Download the source"
   ]
  },
  {
   "cell_type": "code",
   "execution_count": 47,
   "metadata": {},
   "outputs": [],
   "source": [
    "source = driver.page_source"
   ]
  },
  {
   "cell_type": "markdown",
   "metadata": {},
   "source": [
    "We need a pandas data frame with the countires and their weekly case change and death change. Let's process the html source / data with BeautifulSoup."
   ]
  },
  {
   "cell_type": "code",
   "execution_count": 48,
   "metadata": {},
   "outputs": [],
   "source": [
    "soup = BeautifulSoup(source)"
   ]
  },
  {
   "cell_type": "code",
   "execution_count": 49,
   "metadata": {},
   "outputs": [
    {
     "data": {
      "text/plain": [
       "<table class=\"table table-bordered table-hover main_table_countries dataTable no-footer\" id=\"main_table_countries_today\" style=\"width: 100%; margin-top: 0px !important;\">\n",
       "<thead>\n",
       "<tr role=\"row\"><th aria-label=\"#\" class=\"sorting_disabled\" colspan=\"1\" rowspan=\"1\" style=\"width: 14.2px;\" width=\"1%\">#</th><th aria-controls=\"main_table_countries_today\" aria-label=\"Country,Other: activate to sort column ascending\" class=\"sorting\" colspan=\"1\" rowspan=\"1\" style=\"width: 100.2px;\" tabindex=\"0\" width=\"100\">Country,<br/>Other</th><th aria-controls=\"main_table_countries_today\" aria-label=\"Cases in the last 7 days: activate to sort column ascending\" aria-sort=\"descending\" class=\"sorting_desc\" colspan=\"1\" rowspan=\"1\" style=\"width: 40.2px;\" tabindex=\"0\" width=\"30\">Cases in the last 7 days</th><th aria-controls=\"main_table_countries_today\" aria-label=\"Cases in the preceding  7 days: activate to sort column descending\" class=\"sorting\" colspan=\"1\" rowspan=\"1\" style=\"width: 70.2px;\" tabindex=\"0\" width=\"30\">Cases in the preceding  7 days</th><th aria-controls=\"main_table_countries_today\" aria-label=\"Weekly Case % Change: activate to sort column descending\" class=\"sorting\" colspan=\"1\" rowspan=\"1\" style=\"width: 87.2px;\" tabindex=\"0\" width=\"30\"><nobr>Weekly Case</nobr> <nobr>% Change</nobr></th><th aria-controls=\"main_table_countries_today\" aria-label=\"Cases in the last 7 days/1M pop: activate to sort column descending\" class=\"sorting\" colspan=\"1\" rowspan=\"1\" style=\"width: 71.2px;\" tabindex=\"0\" width=\"30\">Cases in the last <nobr>7 days</nobr>/1M pop</th><th aria-controls=\"main_table_countries_today\" aria-label=\"Deaths in the last 7 days: activate to sort column descending\" class=\"sorting\" colspan=\"1\" rowspan=\"1\" style=\"width: 50.2px;\" tabindex=\"0\" width=\"30\">Deaths in the last <nobr>7 days</nobr></th><th aria-controls=\"main_table_countries_today\" aria-label=\"Deaths in the preceding 7 days: activate to sort column descending\" class=\"sorting\" colspan=\"1\" rowspan=\"1\" style=\"width: 70.2px;\" tabindex=\"0\" width=\"30\">Deaths in the preceding <nobr>7 days</nobr></th><th aria-controls=\"main_table_countries_today\" aria-label=\"Weekly Death % Change: activate to sort column descending\" class=\"sorting\" colspan=\"1\" rowspan=\"1\" style=\"width: 97.2px;\" tabindex=\"0\" width=\"30\"><nobr>Weekly Death</nobr> <nobr>% Change</nobr></th><th aria-controls=\"main_table_countries_today\" aria-label=\"Deaths in the last 7 days/1M pop: activate to sort column descending\" class=\"sorting\" colspan=\"1\" rowspan=\"1\" style=\"width: 60.2px;\" tabindex=\"0\" width=\"30\">Deaths in the last 7 days/1M pop</th><th aria-controls=\"main_table_countries_today\" aria-label=\"Weekly Case Change: activate to sort column descending\" class=\"sorting\" colspan=\"1\" rowspan=\"1\" style=\"width: 53.2px;\" tabindex=\"0\" width=\"30\">Weekly Case Change</th><th aria-controls=\"main_table_countries_today\" aria-label=\"Weekly Deaths Change: activate to sort column descending\" class=\"sorting\" colspan=\"1\" rowspan=\"1\" style=\"width: 53.2px;\" tabindex=\"0\" width=\"30\">Weekly Deaths Change</th><th aria-controls=\"main_table_countries_today\" aria-label=\"Population: activate to sort column descending\" class=\"sorting\" colspan=\"1\" rowspan=\"1\" style=\"width: 80.2px;\" tabindex=\"0\" width=\"30\">Population</th><th aria-controls=\"main_table_countries_today\" aria-label=\"Continent: activate to sort column descending\" class=\"sorting\" colspan=\"1\" rowspan=\"1\" style=\"display: none; width: 0px;\" tabindex=\"0\" width=\"30\">Continent</th></tr>\n",
       "</thead>\n",
       "<tbody>\n",
       "<tr class=\"total_row_world odd\" role=\"row\">\n",
       "<td></td>\n",
       "<td style=\"text-align:left;\">World</td>\n",
       "<td class=\"sorting_1\">44,714</td>\n",
       "<td>86,587</td>\n",
       "<td>-48%</td>\n",
       "<td></td>\n",
       "<td>308</td>\n",
       "<td>705</td>\n",
       "<td>-56%</td>\n",
       "<td></td>\n",
       "<td>-41,873</td><td>-397</td><td></td>\n",
       "<td data-continent=\"all\" style=\"display:none\">All</td>\n",
       "</tr><tr class=\"total_row_world row_continent even\" data-continent=\"Europe\" role=\"row\" style=\"display: none\">\n",
       "<td></td>\n",
       "<td style=\"text-align:left;\">\n",
       "<nobr>Europe</nobr>\n",
       "</td>\n",
       "<td class=\"sorting_1\">23,360</td>\n",
       "<td>27,812</td>\n",
       "<td>-16%</td>\n",
       "<td></td>\n",
       "<td>136</td>\n",
       "<td>128</td>\n",
       "<td>\n",
       "                                +6%                                </td>\n",
       "<td></td>\n",
       "<td>-4,452</td><td>+8</td><td></td>\n",
       "<td data-continent=\"Europe\" style=\"display:none;\">Europe</td>\n",
       "</tr><tr class=\"odd\" role=\"row\" style=\"\">\n",
       "<td style=\"font-size:12px;color: grey;text-align:center;vertical-align:middle;\">1</td>\n",
       "<td style=\"font-weight: bold; font-size:15px; text-align:left;\"><a class=\"mt_a\" href=\"/coronavirus/country/russia/\">Russia</a></td>\n",
       "<td class=\"sorting_1\" style=\"font-weight: bold; text-align:right\">21,590</td>\n",
       "<td style=\"font-weight: bold; text-align:right\">24,912</td>\n",
       "<td style=\"font-weight: bold; text-align:right\">-13%</td>\n",
       "<td style=\"font-weight: bold; text-align:right\">148</td>\n",
       "<td style=\"font-weight: bold; text-align:right\">75</td>\n",
       "<td style=\"font-weight: bold; text-align:right\">71</td>\n",
       "<td style=\"font-weight: bold; text-align:right\">+6%</td>\n",
       "<td style=\"font-weight: bold; text-align:right\">0.5</td>\n",
       "<td style=\"font-weight: bold; text-align:right\">-3,322</td><td style=\"font-weight: bold; text-align:right\">+4</td><td style=\"font-weight: bold; text-align:right\">145,805,947</td>\n",
       "<td data-continent=\"Europe\" style=\"display:none\">Europe</td>\n",
       "</tr><tr class=\"total_row_world row_continent even\" data-continent=\"North America\" role=\"row\" style=\"display: none\">\n",
       "<td></td>\n",
       "<td style=\"text-align:left;\">\n",
       "<nobr>North America</nobr>\n",
       "</td>\n",
       "<td class=\"sorting_1\">12,269</td>\n",
       "<td>31,790</td>\n",
       "<td>-61%</td>\n",
       "<td></td>\n",
       "<td>108</td>\n",
       "<td>381</td>\n",
       "<td>\n",
       "                                -72%                                </td>\n",
       "<td></td>\n",
       "<td>-19,521</td><td>-273</td><td></td>\n",
       "<td data-continent=\"North America\" style=\"display:none;\">North America</td>\n",
       "</tr><tr class=\"odd\" role=\"row\" style=\"\">\n",
       "<td style=\"font-size:12px;color: grey;text-align:center;vertical-align:middle;\">2</td>\n",
       "<td style=\"font-weight: bold; font-size:15px; text-align:left;\"><a class=\"mt_a\" href=\"/coronavirus/country/us/\">USA</a></td>\n",
       "<td class=\"sorting_1\" style=\"font-weight: bold; text-align:right\">11,795</td>\n",
       "<td style=\"font-weight: bold; text-align:right\">29,578</td>\n",
       "<td style=\"font-weight: bold; text-align:right\">-60%</td>\n",
       "<td style=\"font-weight: bold; text-align:right\">35</td>\n",
       "<td style=\"font-weight: bold; text-align:right\">92</td>\n",
       "<td style=\"font-weight: bold; text-align:right\">309</td>\n",
       "<td style=\"font-weight: bold; text-align:right\">-70%</td>\n",
       "<td style=\"font-weight: bold; text-align:right\">0.3</td>\n",
       "<td style=\"font-weight: bold; text-align:right\">-17,783</td><td style=\"font-weight: bold; text-align:right\">-217</td><td style=\"font-weight: bold; text-align:right\">334,805,269</td>\n",
       "<td data-continent=\"North America\" style=\"display:none\">North America</td>\n",
       "</tr><tr class=\"total_row_world row_continent even\" data-continent=\"Australia/Oceania\" role=\"row\" style=\"display: none\">\n",
       "<td></td>\n",
       "<td style=\"text-align:left;\">\n",
       "<nobr>Oceania</nobr>\n",
       "</td>\n",
       "<td class=\"sorting_1\">4,483</td>\n",
       "<td>8,934</td>\n",
       "<td>-50%</td>\n",
       "<td></td>\n",
       "<td>16</td>\n",
       "<td>39</td>\n",
       "<td>\n",
       "                                -59%                                </td>\n",
       "<td></td>\n",
       "<td>-4,451</td><td>-23</td><td></td>\n",
       "<td data-continent=\"Australia/Oceania\" style=\"display:none;\">Australia/Oceania</td>\n",
       "</tr><tr class=\"odd\" role=\"row\" style=\"\">\n",
       "<td style=\"font-size:12px;color: grey;text-align:center;vertical-align:middle;\">3</td>\n",
       "<td style=\"font-weight: bold; font-size:15px; text-align:left;\"><a class=\"mt_a\" href=\"/coronavirus/country/australia/\">Australia</a></td>\n",
       "<td class=\"sorting_1\" style=\"font-weight: bold; text-align:right\">4,483</td>\n",
       "<td style=\"font-weight: bold; text-align:right\">5,535</td>\n",
       "<td style=\"font-weight: bold; text-align:right\">-19%</td>\n",
       "<td style=\"font-weight: bold; text-align:right\">172</td>\n",
       "<td style=\"font-weight: bold; text-align:right\">16</td>\n",
       "<td style=\"font-weight: bold; text-align:right\">28</td>\n",
       "<td style=\"font-weight: bold; text-align:right\">-43%</td>\n",
       "<td style=\"font-weight: bold; text-align:right\">0.6</td>\n",
       "<td style=\"font-weight: bold; text-align:right\">-1,052</td><td style=\"font-weight: bold; text-align:right\">-12</td><td style=\"font-weight: bold; text-align:right\">26,068,792</td>\n",
       "<td data-continent=\"Australia/Oceania\" style=\"display:none\">Australia/Oceania</td>\n",
       "</tr><tr class=\"total_row_world row_continent even\" data-continent=\"Asia\" role=\"row\" style=\"display: none\">\n",
       "<td></td>\n",
       "<td style=\"text-align:left;\">\n",
       "<nobr>Asia</nobr>\n",
       "</td>\n",
       "<td class=\"sorting_1\">2,471</td>\n",
       "<td>3,077</td>\n",
       "<td>-20%</td>\n",
       "<td></td>\n",
       "<td>48</td>\n",
       "<td>67</td>\n",
       "<td>\n",
       "                                -28%                                </td>\n",
       "<td></td>\n",
       "<td>-606</td><td>-19</td><td></td>\n",
       "<td data-continent=\"Asia\" style=\"display:none;\">Asia</td>\n",
       "</tr><tr class=\"total_row_world row_continent odd\" data-continent=\"South America\" role=\"row\" style=\"display: none\">\n",
       "<td></td>\n",
       "<td style=\"text-align:left;\">\n",
       "<nobr>South America</nobr>\n",
       "</td>\n",
       "<td class=\"sorting_1\">2,125</td>\n",
       "<td>14,969</td>\n",
       "<td>-86%</td>\n",
       "<td></td>\n",
       "<td>0</td>\n",
       "<td>90</td>\n",
       "<td>\n",
       "                                -100%                                </td>\n",
       "<td></td>\n",
       "<td>-12,844</td><td>-90</td><td></td>\n",
       "<td data-continent=\"South America\" style=\"display:none;\">South America</td>\n",
       "</tr><tr class=\"even\" role=\"row\" style=\"\">\n",
       "<td style=\"font-size:12px;color: grey;text-align:center;vertical-align:middle;\">4</td>\n",
       "<td style=\"font-weight: bold; font-size:15px; text-align:left;\"><a class=\"mt_a\" href=\"/coronavirus/country/chile/\">Chile</a></td>\n",
       "<td class=\"sorting_1\" style=\"font-weight: bold; text-align:right\">2,125</td>\n",
       "<td style=\"font-weight: bold; text-align:right\">4,914</td>\n",
       "<td style=\"font-weight: bold; text-align:right\">-57%</td>\n",
       "<td style=\"font-weight: bold; text-align:right\">110</td>\n",
       "<td style=\"font-weight: bold; text-align:right\">0</td>\n",
       "<td style=\"font-weight: bold; text-align:right\">0</td>\n",
       "<td style=\"font-weight: bold; text-align:right\">0%</td>\n",
       "<td style=\"font-weight: bold; text-align:right\">0</td>\n",
       "<td style=\"font-weight: bold; text-align:right\">-2,789</td><td style=\"font-weight: bold; text-align:right\">0</td><td style=\"font-weight: bold; text-align:right\">19,250,195</td>\n",
       "<td data-continent=\"South America\" style=\"display:none\">South America</td>\n",
       "</tr><tr class=\"odd\" role=\"row\" style=\"\">\n",
       "<td style=\"font-size:12px;color: grey;text-align:center;vertical-align:middle;\">5</td>\n",
       "<td style=\"font-weight: bold; font-size:15px; text-align:left;\"><a class=\"mt_a\" href=\"/coronavirus/country/china-hong-kong-sar/\">Hong Kong</a></td>\n",
       "<td class=\"sorting_1\" style=\"font-weight: bold; text-align:right\">804</td>\n",
       "<td style=\"font-weight: bold; text-align:right\">1,129</td>\n",
       "<td style=\"font-weight: bold; text-align:right\">-29%</td>\n",
       "<td style=\"font-weight: bold; text-align:right\">106</td>\n",
       "<td style=\"font-weight: bold; text-align:right\">36</td>\n",
       "<td style=\"font-weight: bold; text-align:right\">54</td>\n",
       "<td style=\"font-weight: bold; text-align:right\">-33%</td>\n",
       "<td style=\"font-weight: bold; text-align:right\">5</td>\n",
       "<td style=\"font-weight: bold; text-align:right\">-325</td><td style=\"font-weight: bold; text-align:right\">-18</td><td style=\"font-weight: bold; text-align:right\">7,604,299</td>\n",
       "<td data-continent=\"Asia\" style=\"display:none\">Asia</td>\n",
       "</tr><tr class=\"even\" role=\"row\" style=\"\">\n",
       "<td style=\"font-size:12px;color: grey;text-align:center;vertical-align:middle;\">6</td>\n",
       "<td style=\"font-weight: bold; font-size:15px; text-align:left;\"><a class=\"mt_a\" href=\"/coronavirus/country/india/\">India</a></td>\n",
       "<td class=\"sorting_1\" style=\"font-weight: bold; text-align:right\">682</td>\n",
       "<td style=\"font-weight: bold; text-align:right\">678</td>\n",
       "<td style=\"font-weight: bold; text-align:right\">+0.6%</td>\n",
       "<td style=\"font-weight: bold; text-align:right\">0.5</td>\n",
       "<td style=\"font-weight: bold; text-align:right\">12</td>\n",
       "<td style=\"font-weight: bold; text-align:right\">13</td>\n",
       "<td style=\"font-weight: bold; text-align:right\">-8%</td>\n",
       "<td style=\"font-weight: bold; text-align:right\">0.0</td>\n",
       "<td style=\"font-weight: bold; text-align:right\">+4</td><td style=\"font-weight: bold; text-align:right\">-1</td><td style=\"font-weight: bold; text-align:right\">1,406,631,776</td>\n",
       "<td data-continent=\"Asia\" style=\"display:none\">Asia</td>\n",
       "</tr><tr class=\"odd\" role=\"row\" style=\"\">\n",
       "<td style=\"font-size:12px;color: grey;text-align:center;vertical-align:middle;\">7</td>\n",
       "<td style=\"font-weight: bold; font-size:15px; text-align:left;\"><a class=\"mt_a\" href=\"/coronavirus/country/germany/\">Germany</a></td>\n",
       "<td class=\"sorting_1\" style=\"font-weight: bold; text-align:right\">530</td>\n",
       "<td style=\"font-weight: bold; text-align:right\">736</td>\n",
       "<td style=\"font-weight: bold; text-align:right\">-28%</td>\n",
       "<td style=\"font-weight: bold; text-align:right\">6</td>\n",
       "<td style=\"font-weight: bold; text-align:right\">35</td>\n",
       "<td style=\"font-weight: bold; text-align:right\">26</td>\n",
       "<td style=\"font-weight: bold; text-align:right\">+35%</td>\n",
       "<td style=\"font-weight: bold; text-align:right\">0.4</td>\n",
       "<td style=\"font-weight: bold; text-align:right\">-206</td><td style=\"font-weight: bold; text-align:right\">+9</td><td style=\"font-weight: bold; text-align:right\">83,883,596</td>\n",
       "<td data-continent=\"Europe\" style=\"display:none\">Europe</td>\n",
       "</tr><tr class=\"even\" role=\"row\" style=\"\">\n",
       "<td style=\"font-size:12px;color: grey;text-align:center;vertical-align:middle;\">8</td>\n",
       "<td style=\"font-weight: bold; font-size:15px; text-align:left;\"><a class=\"mt_a\" href=\"/coronavirus/country/italy/\">Italy</a></td>\n",
       "<td class=\"sorting_1\" style=\"font-weight: bold; text-align:right\">504</td>\n",
       "<td style=\"font-weight: bold; text-align:right\">602</td>\n",
       "<td style=\"font-weight: bold; text-align:right\">-16%</td>\n",
       "<td style=\"font-weight: bold; text-align:right\">8</td>\n",
       "<td style=\"font-weight: bold; text-align:right\">21</td>\n",
       "<td style=\"font-weight: bold; text-align:right\">20</td>\n",
       "<td style=\"font-weight: bold; text-align:right\">+5%</td>\n",
       "<td style=\"font-weight: bold; text-align:right\">0.3</td>\n",
       "<td style=\"font-weight: bold; text-align:right\">-98</td><td style=\"font-weight: bold; text-align:right\">+1</td><td style=\"font-weight: bold; text-align:right\">60,262,770</td>\n",
       "<td data-continent=\"Europe\" style=\"display:none\">Europe</td>\n",
       "</tr><tr class=\"odd\" role=\"row\" style=\"\">\n",
       "<td style=\"font-size:12px;color: grey;text-align:center;vertical-align:middle;\">9</td>\n",
       "<td style=\"font-weight: bold; font-size:15px; text-align:left;\"><a class=\"mt_a\" href=\"/coronavirus/country/canada/\">Canada</a></td>\n",
       "<td class=\"sorting_1\" style=\"font-weight: bold; text-align:right\">472</td>\n",
       "<td style=\"font-weight: bold; text-align:right\">1,772</td>\n",
       "<td style=\"font-weight: bold; text-align:right\">-73%</td>\n",
       "<td style=\"font-weight: bold; text-align:right\">12</td>\n",
       "<td style=\"font-weight: bold; text-align:right\">16</td>\n",
       "<td style=\"font-weight: bold; text-align:right\">69</td>\n",
       "<td style=\"font-weight: bold; text-align:right\">-77%</td>\n",
       "<td style=\"font-weight: bold; text-align:right\">0.4</td>\n",
       "<td style=\"font-weight: bold; text-align:right\">-1,300</td><td style=\"font-weight: bold; text-align:right\">-53</td><td style=\"font-weight: bold; text-align:right\">38,388,419</td>\n",
       "<td data-continent=\"North America\" style=\"display:none\">North America</td>\n",
       "</tr><tr class=\"even\" role=\"row\" style=\"\">\n",
       "<td style=\"font-size:12px;color: grey;text-align:center;vertical-align:middle;\">10</td>\n",
       "<td style=\"font-weight: bold; font-size:15px; text-align:left;\"><a class=\"mt_a\" href=\"/coronavirus/country/afghanistan/\">Afghanistan</a></td>\n",
       "<td class=\"sorting_1\" style=\"font-weight: bold; text-align:right\">438</td>\n",
       "<td style=\"font-weight: bold; text-align:right\">0</td>\n",
       "<td style=\"font-weight: bold; text-align:right\">+43,800%</td>\n",
       "<td style=\"font-weight: bold; text-align:right\">11</td>\n",
       "<td style=\"font-weight: bold; text-align:right\">0</td>\n",
       "<td style=\"font-weight: bold; text-align:right\">0</td>\n",
       "<td style=\"font-weight: bold; text-align:right\">0%</td>\n",
       "<td style=\"font-weight: bold; text-align:right\">0</td>\n",
       "<td style=\"font-weight: bold; text-align:right\">+438</td><td style=\"font-weight: bold; text-align:right\">0</td><td style=\"font-weight: bold; text-align:right\">40,754,388</td>\n",
       "<td data-continent=\"Asia\" style=\"display:none\">Asia</td>\n",
       "</tr><tr class=\"odd\" role=\"row\" style=\"\">\n",
       "<td style=\"font-size:12px;color: grey;text-align:center;vertical-align:middle;\">11</td>\n",
       "<td style=\"font-weight: bold; font-size:15px; text-align:left;\"><a class=\"mt_a\" href=\"/coronavirus/country/china-macao-sar/\">Macao</a></td>\n",
       "<td class=\"sorting_1\" style=\"font-weight: bold; text-align:right\">370</td>\n",
       "<td style=\"font-weight: bold; text-align:right\">825</td>\n",
       "<td style=\"font-weight: bold; text-align:right\">-55%</td>\n",
       "<td style=\"font-weight: bold; text-align:right\">554</td>\n",
       "<td style=\"font-weight: bold; text-align:right\">0</td>\n",
       "<td style=\"font-weight: bold; text-align:right\">0</td>\n",
       "<td style=\"font-weight: bold; text-align:right\">0%</td>\n",
       "<td style=\"font-weight: bold; text-align:right\">0</td>\n",
       "<td style=\"font-weight: bold; text-align:right\">-455</td><td style=\"font-weight: bold; text-align:right\">0</td><td style=\"font-weight: bold; text-align:right\">667,490</td>\n",
       "<td data-continent=\"Asia\" style=\"display:none\">Asia</td>\n",
       "</tr><tr class=\"even\" role=\"row\" style=\"\">\n",
       "<td style=\"font-size:12px;color: grey;text-align:center;vertical-align:middle;\">12</td>\n",
       "<td style=\"font-weight: bold; font-size:15px; text-align:left;\"><a class=\"mt_a\" href=\"/coronavirus/country/romania/\">Romania</a></td>\n",
       "<td class=\"sorting_1\" style=\"font-weight: bold; text-align:right\">342</td>\n",
       "<td style=\"font-weight: bold; text-align:right\">390</td>\n",
       "<td style=\"font-weight: bold; text-align:right\">-12%</td>\n",
       "<td style=\"font-weight: bold; text-align:right\">18</td>\n",
       "<td style=\"font-weight: bold; text-align:right\">2</td>\n",
       "<td style=\"font-weight: bold; text-align:right\">7</td>\n",
       "<td style=\"font-weight: bold; text-align:right\">-71%</td>\n",
       "<td style=\"font-weight: bold; text-align:right\">0.1</td>\n",
       "<td style=\"font-weight: bold; text-align:right\">-48</td><td style=\"font-weight: bold; text-align:right\">-5</td><td style=\"font-weight: bold; text-align:right\">19,031,335</td>\n",
       "<td data-continent=\"Europe\" style=\"display:none\">Europe</td>\n",
       "</tr><tr class=\"odd\" role=\"row\" style=\"\">\n",
       "<td style=\"font-size:12px;color: grey;text-align:center;vertical-align:middle;\">13</td>\n",
       "<td style=\"font-weight: bold; font-size:15px; text-align:left;\"><a class=\"mt_a\" href=\"/coronavirus/country/lithuania/\">Lithuania</a></td>\n",
       "<td class=\"sorting_1\" style=\"font-weight: bold; text-align:right\">126</td>\n",
       "<td style=\"font-weight: bold; text-align:right\">193</td>\n",
       "<td style=\"font-weight: bold; text-align:right\">-35%</td>\n",
       "<td style=\"font-weight: bold; text-align:right\">47</td>\n",
       "<td style=\"font-weight: bold; text-align:right\">0</td>\n",
       "<td style=\"font-weight: bold; text-align:right\">0</td>\n",
       "<td style=\"font-weight: bold; text-align:right\">0%</td>\n",
       "<td style=\"font-weight: bold; text-align:right\">0</td>\n",
       "<td style=\"font-weight: bold; text-align:right\">-67</td><td style=\"font-weight: bold; text-align:right\">0</td><td style=\"font-weight: bold; text-align:right\">2,661,708</td>\n",
       "<td data-continent=\"Europe\" style=\"display:none\">Europe</td>\n",
       "</tr><tr class=\"even\" role=\"row\" style=\"\">\n",
       "<td style=\"font-size:12px;color: grey;text-align:center;vertical-align:middle;\">14</td>\n",
       "<td style=\"font-weight: bold; font-size:15px; text-align:left;\"><a class=\"mt_a\" href=\"/coronavirus/country/malaysia/\">Malaysia</a></td>\n",
       "<td class=\"sorting_1\" style=\"font-weight: bold; text-align:right\">111</td>\n",
       "<td style=\"font-weight: bold; text-align:right\">440</td>\n",
       "<td style=\"font-weight: bold; text-align:right\">-75%</td>\n",
       "<td style=\"font-weight: bold; text-align:right\">3</td>\n",
       "<td style=\"font-weight: bold; text-align:right\">0</td>\n",
       "<td style=\"font-weight: bold; text-align:right\">0</td>\n",
       "<td style=\"font-weight: bold; text-align:right\">0%</td>\n",
       "<td style=\"font-weight: bold; text-align:right\">0</td>\n",
       "<td style=\"font-weight: bold; text-align:right\">-329</td><td style=\"font-weight: bold; text-align:right\">0</td><td style=\"font-weight: bold; text-align:right\">33,181,072</td>\n",
       "<td data-continent=\"Asia\" style=\"display:none\">Asia</td>\n",
       "</tr><tr class=\"odd\" role=\"row\" style=\"\">\n",
       "<td style=\"font-size:12px;color: grey;text-align:center;vertical-align:middle;\">15</td>\n",
       "<td style=\"font-weight: bold; font-size:15px; text-align:left;\"><a class=\"mt_a\" href=\"/coronavirus/country/serbia/\">Serbia</a></td>\n",
       "<td class=\"sorting_1\" style=\"font-weight: bold; text-align:right\">107</td>\n",
       "<td style=\"font-weight: bold; text-align:right\">213</td>\n",
       "<td style=\"font-weight: bold; text-align:right\">-50%</td>\n",
       "<td style=\"font-weight: bold; text-align:right\">12</td>\n",
       "<td style=\"font-weight: bold; text-align:right\">0</td>\n",
       "<td style=\"font-weight: bold; text-align:right\">0</td>\n",
       "<td style=\"font-weight: bold; text-align:right\">0%</td>\n",
       "<td style=\"font-weight: bold; text-align:right\">0</td>\n",
       "<td style=\"font-weight: bold; text-align:right\">-106</td><td style=\"font-weight: bold; text-align:right\">0</td><td style=\"font-weight: bold; text-align:right\">8,653,016</td>\n",
       "<td data-continent=\"Europe\" style=\"display:none\">Europe</td>\n",
       "</tr><tr class=\"even\" role=\"row\" style=\"\">\n",
       "<td style=\"font-size:12px;color: grey;text-align:center;vertical-align:middle;\">16</td>\n",
       "<td style=\"font-weight: bold; font-size:15px; text-align:left;\"><a class=\"mt_a\" href=\"/coronavirus/country/indonesia/\">Indonesia</a></td>\n",
       "<td class=\"sorting_1\" style=\"font-weight: bold; text-align:right\">59</td>\n",
       "<td style=\"font-weight: bold; text-align:right\">0</td>\n",
       "<td style=\"font-weight: bold; text-align:right\">+5,900%</td>\n",
       "<td style=\"font-weight: bold; text-align:right\">0.2</td>\n",
       "<td style=\"font-weight: bold; text-align:right\">0</td>\n",
       "<td style=\"font-weight: bold; text-align:right\">0</td>\n",
       "<td style=\"font-weight: bold; text-align:right\">0%</td>\n",
       "<td style=\"font-weight: bold; text-align:right\">0</td>\n",
       "<td style=\"font-weight: bold; text-align:right\">+59</td><td style=\"font-weight: bold; text-align:right\">0</td><td style=\"font-weight: bold; text-align:right\">279,134,505</td>\n",
       "<td data-continent=\"Asia\" style=\"display:none\">Asia</td>\n",
       "</tr><tr class=\"odd\" role=\"row\" style=\"\">\n",
       "<td style=\"font-size:12px;color: grey;text-align:center;vertical-align:middle;\">17</td>\n",
       "<td style=\"font-weight: bold; font-size:15px; text-align:left;\"><a class=\"mt_a\" href=\"/coronavirus/country/poland/\">Poland</a></td>\n",
       "<td class=\"sorting_1\" style=\"font-weight: bold; text-align:right\">52</td>\n",
       "<td style=\"font-weight: bold; text-align:right\">253</td>\n",
       "<td style=\"font-weight: bold; text-align:right\">-79%</td>\n",
       "<td style=\"font-weight: bold; text-align:right\">1</td>\n",
       "<td style=\"font-weight: bold; text-align:right\">1</td>\n",
       "<td style=\"font-weight: bold; text-align:right\">0</td>\n",
       "<td style=\"font-weight: bold; text-align:right\">+100%</td>\n",
       "<td style=\"font-weight: bold; text-align:right\">0.0</td>\n",
       "<td style=\"font-weight: bold; text-align:right\">-201</td><td style=\"font-weight: bold; text-align:right\">+1</td><td style=\"font-weight: bold; text-align:right\">37,739,785</td>\n",
       "<td data-continent=\"Europe\" style=\"display:none\">Europe</td>\n",
       "</tr><tr class=\"even\" role=\"row\" style=\"\">\n",
       "<td style=\"font-size:12px;color: grey;text-align:center;vertical-align:middle;\">18</td>\n",
       "<td style=\"font-weight: bold; font-size:15px; text-align:left;\"><a class=\"mt_a\" href=\"/coronavirus/country/bulgaria/\">Bulgaria</a></td>\n",
       "<td class=\"sorting_1\" style=\"font-weight: bold; text-align:right\">38</td>\n",
       "<td style=\"font-weight: bold; text-align:right\">63</td>\n",
       "<td style=\"font-weight: bold; text-align:right\">-40%</td>\n",
       "<td style=\"font-weight: bold; text-align:right\">6</td>\n",
       "<td style=\"font-weight: bold; text-align:right\">2</td>\n",
       "<td style=\"font-weight: bold; text-align:right\">0</td>\n",
       "<td style=\"font-weight: bold; text-align:right\">+200%</td>\n",
       "<td style=\"font-weight: bold; text-align:right\">0.3</td>\n",
       "<td style=\"font-weight: bold; text-align:right\">-25</td><td style=\"font-weight: bold; text-align:right\">+2</td><td style=\"font-weight: bold; text-align:right\">6,844,597</td>\n",
       "<td data-continent=\"Europe\" style=\"display:none\">Europe</td>\n",
       "</tr><tr class=\"odd\" role=\"row\" style=\"\">\n",
       "<td style=\"font-size:12px;color: grey;text-align:center;vertical-align:middle;\">19</td>\n",
       "<td style=\"font-weight: bold; font-size:15px; text-align:left;\"><a class=\"mt_a\" href=\"/coronavirus/country/estonia/\">Estonia</a></td>\n",
       "<td class=\"sorting_1\" style=\"font-weight: bold; text-align:right\">38</td>\n",
       "<td style=\"font-weight: bold; text-align:right\">79</td>\n",
       "<td style=\"font-weight: bold; text-align:right\">-52%</td>\n",
       "<td style=\"font-weight: bold; text-align:right\">29</td>\n",
       "<td style=\"font-weight: bold; text-align:right\">0</td>\n",
       "<td style=\"font-weight: bold; text-align:right\">0</td>\n",
       "<td style=\"font-weight: bold; text-align:right\">0%</td>\n",
       "<td style=\"font-weight: bold; text-align:right\">0</td>\n",
       "<td style=\"font-weight: bold; text-align:right\">-41</td><td style=\"font-weight: bold; text-align:right\">0</td><td style=\"font-weight: bold; text-align:right\">1,321,910</td>\n",
       "<td data-continent=\"Europe\" style=\"display:none\">Europe</td>\n",
       "</tr><tr class=\"even\" role=\"row\" style=\"\">\n",
       "<td style=\"font-size:12px;color: grey;text-align:center;vertical-align:middle;\">20</td>\n",
       "<td style=\"font-weight: bold; font-size:15px; text-align:left;\"><a class=\"mt_a\" href=\"/coronavirus/country/slovenia/\">Slovenia</a></td>\n",
       "<td class=\"sorting_1\" style=\"font-weight: bold; text-align:right\">14</td>\n",
       "<td style=\"font-weight: bold; text-align:right\">13</td>\n",
       "<td style=\"font-weight: bold; text-align:right\">+8%</td>\n",
       "<td style=\"font-weight: bold; text-align:right\">7</td>\n",
       "<td style=\"font-weight: bold; text-align:right\">0</td>\n",
       "<td style=\"font-weight: bold; text-align:right\">0</td>\n",
       "<td style=\"font-weight: bold; text-align:right\">0%</td>\n",
       "<td style=\"font-weight: bold; text-align:right\">0</td>\n",
       "<td style=\"font-weight: bold; text-align:right\">+1</td><td style=\"font-weight: bold; text-align:right\">0</td><td style=\"font-weight: bold; text-align:right\">2,078,034</td>\n",
       "<td data-continent=\"Europe\" style=\"display:none\">Europe</td>\n",
       "</tr><tr class=\"odd\" role=\"row\" style=\"\">\n",
       "<td style=\"font-size:12px;color: grey;text-align:center;vertical-align:middle;\">21</td>\n",
       "<td style=\"font-weight: bold; font-size:15px; text-align:left;\"><a class=\"mt_a\" href=\"/coronavirus/country/montenegro/\">Montenegro</a></td>\n",
       "<td class=\"sorting_1\" style=\"font-weight: bold; text-align:right\">13</td>\n",
       "<td style=\"font-weight: bold; text-align:right\">9</td>\n",
       "<td style=\"font-weight: bold; text-align:right\">+44%</td>\n",
       "<td style=\"font-weight: bold; text-align:right\">21</td>\n",
       "<td style=\"font-weight: bold; text-align:right\">0</td>\n",
       "<td style=\"font-weight: bold; text-align:right\">0</td>\n",
       "<td style=\"font-weight: bold; text-align:right\">0%</td>\n",
       "<td style=\"font-weight: bold; text-align:right\">0</td>\n",
       "<td style=\"font-weight: bold; text-align:right\">+4</td><td style=\"font-weight: bold; text-align:right\">0</td><td style=\"font-weight: bold; text-align:right\">627,950</td>\n",
       "<td data-continent=\"Europe\" style=\"display:none\">Europe</td>\n",
       "</tr><tr class=\"total_row_world row_continent even\" data-continent=\"Africa\" role=\"row\" style=\"display: none\">\n",
       "<td></td>\n",
       "<td style=\"text-align:left;\">\n",
       "<nobr>Africa</nobr>\n",
       "</td>\n",
       "<td class=\"sorting_1\">6</td>\n",
       "<td>5</td>\n",
       "<td>+20%</td>\n",
       "<td></td>\n",
       "<td>0</td>\n",
       "<td>0</td>\n",
       "<td>\n",
       "                                0%                                </td>\n",
       "<td></td>\n",
       "<td>+1</td><td>0</td><td></td>\n",
       "<td data-continent=\"Africa\" style=\"display:none;\">Africa</td>\n",
       "</tr><tr class=\"odd\" role=\"row\" style=\"\">\n",
       "<td style=\"font-size:12px;color: grey;text-align:center;vertical-align:middle;\">22</td>\n",
       "<td style=\"font-weight: bold; font-size:15px; text-align:left;\"><a class=\"mt_a\" href=\"/coronavirus/country/finland/\">Finland</a></td>\n",
       "<td class=\"sorting_1\" style=\"font-weight: bold; text-align:right\">6</td>\n",
       "<td style=\"font-weight: bold; text-align:right\">71</td>\n",
       "<td style=\"font-weight: bold; text-align:right\">-92%</td>\n",
       "<td style=\"font-weight: bold; text-align:right\">1</td>\n",
       "<td style=\"font-weight: bold; text-align:right\">0</td>\n",
       "<td style=\"font-weight: bold; text-align:right\">0</td>\n",
       "<td style=\"font-weight: bold; text-align:right\">0%</td>\n",
       "<td style=\"font-weight: bold; text-align:right\">0</td>\n",
       "<td style=\"font-weight: bold; text-align:right\">-65</td><td style=\"font-weight: bold; text-align:right\">0</td><td style=\"font-weight: bold; text-align:right\">5,554,960</td>\n",
       "<td data-continent=\"Europe\" style=\"display:none\">Europe</td>\n",
       "</tr><tr class=\"even\" role=\"row\" style=\"\">\n",
       "<td style=\"font-size:12px;color: grey;text-align:center;vertical-align:middle;\">23</td>\n",
       "<td style=\"font-weight: bold; font-size:15px; text-align:left;\"><a class=\"mt_a\" href=\"/coronavirus/country/sao-tome-and-principe/\">Sao Tome and Principe</a></td>\n",
       "<td class=\"sorting_1\" style=\"font-weight: bold; text-align:right\">6</td>\n",
       "<td style=\"font-weight: bold; text-align:right\">2</td>\n",
       "<td style=\"font-weight: bold; text-align:right\">+200%</td>\n",
       "<td style=\"font-weight: bold; text-align:right\">26</td>\n",
       "<td style=\"font-weight: bold; text-align:right\">0</td>\n",
       "<td style=\"font-weight: bold; text-align:right\">0</td>\n",
       "<td style=\"font-weight: bold; text-align:right\">0%</td>\n",
       "<td style=\"font-weight: bold; text-align:right\">0</td>\n",
       "<td style=\"font-weight: bold; text-align:right\">+4</td><td style=\"font-weight: bold; text-align:right\">0</td><td style=\"font-weight: bold; text-align:right\">227,679</td>\n",
       "<td data-continent=\"Africa\" style=\"display:none\">Africa</td>\n",
       "</tr><tr class=\"odd\" role=\"row\" style=\"\">\n",
       "<td style=\"font-size:12px;color: grey;text-align:center;vertical-align:middle;\">24</td>\n",
       "<td style=\"font-weight: bold; font-size:15px; text-align:left;\"><a class=\"mt_a\" href=\"/coronavirus/country/laos/\">Laos</a></td>\n",
       "<td class=\"sorting_1\" style=\"font-weight: bold; text-align:right\">5</td>\n",
       "<td style=\"font-weight: bold; text-align:right\">4</td>\n",
       "<td style=\"font-weight: bold; text-align:right\">+25%</td>\n",
       "<td style=\"font-weight: bold; text-align:right\">0.7</td>\n",
       "<td style=\"font-weight: bold; text-align:right\">0</td>\n",
       "<td style=\"font-weight: bold; text-align:right\">0</td>\n",
       "<td style=\"font-weight: bold; text-align:right\">0%</td>\n",
       "<td style=\"font-weight: bold; text-align:right\">0</td>\n",
       "<td style=\"font-weight: bold; text-align:right\">+1</td><td style=\"font-weight: bold; text-align:right\">0</td><td style=\"font-weight: bold; text-align:right\">7,481,023</td>\n",
       "<td data-continent=\"Asia\" style=\"display:none\">Asia</td>\n",
       "</tr><tr class=\"even\" role=\"row\" style=\"\">\n",
       "<td style=\"font-size:12px;color: grey;text-align:center;vertical-align:middle;\">25</td>\n",
       "<td style=\"font-weight: bold; font-size:15px; text-align:left;\"><a class=\"mt_a\" href=\"/coronavirus/country/cambodia/\">Cambodia</a></td>\n",
       "<td class=\"sorting_1\" style=\"font-weight: bold; text-align:right\">2</td>\n",
       "<td style=\"font-weight: bold; text-align:right\">0</td>\n",
       "<td style=\"font-weight: bold; text-align:right\">+200%</td>\n",
       "<td style=\"font-weight: bold; text-align:right\">0.1</td>\n",
       "<td style=\"font-weight: bold; text-align:right\">0</td>\n",
       "<td style=\"font-weight: bold; text-align:right\">0</td>\n",
       "<td style=\"font-weight: bold; text-align:right\">0%</td>\n",
       "<td style=\"font-weight: bold; text-align:right\">0</td>\n",
       "<td style=\"font-weight: bold; text-align:right\">+2</td><td style=\"font-weight: bold; text-align:right\">0</td><td style=\"font-weight: bold; text-align:right\">17,168,639</td>\n",
       "<td data-continent=\"Asia\" style=\"display:none\">Asia</td>\n",
       "</tr><tr class=\"odd\" role=\"row\" style=\"\">\n",
       "<td style=\"font-size:12px;color: grey;text-align:center;vertical-align:middle;\">26</td>\n",
       "<td style=\"font-weight: bold; font-size:15px; text-align:left;\"><a class=\"mt_a\" href=\"/coronavirus/country/cuba/\">Cuba</a></td>\n",
       "<td class=\"sorting_1\" style=\"font-weight: bold; text-align:right\">2</td>\n",
       "<td style=\"font-weight: bold; text-align:right\">1</td>\n",
       "<td style=\"font-weight: bold; text-align:right\">+100%</td>\n",
       "<td style=\"font-weight: bold; text-align:right\">0.2</td>\n",
       "<td style=\"font-weight: bold; text-align:right\">0</td>\n",
       "<td style=\"font-weight: bold; text-align:right\">0</td>\n",
       "<td style=\"font-weight: bold; text-align:right\">0%</td>\n",
       "<td style=\"font-weight: bold; text-align:right\">0</td>\n",
       "<td style=\"font-weight: bold; text-align:right\">+1</td><td style=\"font-weight: bold; text-align:right\">0</td><td style=\"font-weight: bold; text-align:right\">11,305,652</td>\n",
       "<td data-continent=\"North America\" style=\"display:none\">North America</td>\n",
       "</tr><tr class=\"even\" role=\"row\" style=\"\">\n",
       "<td style=\"font-size:12px;color: grey;text-align:center;vertical-align:middle;\">27</td>\n",
       "<td style=\"font-weight: bold; font-size:15px; text-align:left;\"><a class=\"mt_a\" href=\"/coronavirus/country/sri-lanka/\">Sri Lanka</a></td>\n",
       "<td class=\"sorting_1\" style=\"font-weight: bold; text-align:right\">0</td>\n",
       "<td style=\"font-weight: bold; text-align:right\">1</td>\n",
       "<td style=\"font-weight: bold; text-align:right\">-100%</td>\n",
       "<td style=\"font-weight: bold; text-align:right\">0</td>\n",
       "<td style=\"font-weight: bold; text-align:right\">0</td>\n",
       "<td style=\"font-weight: bold; text-align:right\">0</td>\n",
       "<td style=\"font-weight: bold; text-align:right\">0%</td>\n",
       "<td style=\"font-weight: bold; text-align:right\">0</td>\n",
       "<td style=\"font-weight: bold; text-align:right\">-1</td><td style=\"font-weight: bold; text-align:right\">0</td><td style=\"font-weight: bold; text-align:right\">21,575,842</td>\n",
       "<td data-continent=\"Asia\" style=\"display:none\">Asia</td>\n",
       "</tr><tr class=\"odd\" role=\"row\" style=\"\">\n",
       "<td style=\"font-size:12px;color: grey;text-align:center;vertical-align:middle;\">28</td>\n",
       "<td style=\"font-weight: bold; font-size:15px; text-align:left;\"><a class=\"mt_a\" href=\"/coronavirus/country/sweden/\">Sweden</a></td>\n",
       "<td class=\"sorting_1\" style=\"font-weight: bold; text-align:right\">0</td>\n",
       "<td style=\"font-weight: bold; text-align:right\">62</td>\n",
       "<td style=\"font-weight: bold; text-align:right\">-100%</td>\n",
       "<td style=\"font-weight: bold; text-align:right\">0</td>\n",
       "<td style=\"font-weight: bold; text-align:right\">0</td>\n",
       "<td style=\"font-weight: bold; text-align:right\">3</td>\n",
       "<td style=\"font-weight: bold; text-align:right\">-100%</td>\n",
       "<td style=\"font-weight: bold; text-align:right\">0</td>\n",
       "<td style=\"font-weight: bold; text-align:right\">-62</td><td style=\"font-weight: bold; text-align:right\">-3</td><td style=\"font-weight: bold; text-align:right\">10,218,971</td>\n",
       "<td data-continent=\"Europe\" style=\"display:none\">Europe</td>\n",
       "</tr><tr class=\"even\" role=\"row\" style=\"\">\n",
       "<td style=\"font-size:12px;color: grey;text-align:center;vertical-align:middle;\">29</td>\n",
       "<td style=\"font-weight: bold; font-size:15px; text-align:left;\"><a class=\"mt_a\" href=\"/coronavirus/country/belgium/\">Belgium</a></td>\n",
       "<td class=\"sorting_1\" style=\"font-weight: bold; text-align:right\">0</td>\n",
       "<td style=\"font-weight: bold; text-align:right\">160</td>\n",
       "<td style=\"font-weight: bold; text-align:right\">-100%</td>\n",
       "<td style=\"font-weight: bold; text-align:right\">0</td>\n",
       "<td style=\"font-weight: bold; text-align:right\">0</td>\n",
       "<td style=\"font-weight: bold; text-align:right\">0</td>\n",
       "<td style=\"font-weight: bold; text-align:right\">0%</td>\n",
       "<td style=\"font-weight: bold; text-align:right\">0</td>\n",
       "<td style=\"font-weight: bold; text-align:right\">-160</td><td style=\"font-weight: bold; text-align:right\">0</td><td style=\"font-weight: bold; text-align:right\">11,668,278</td>\n",
       "<td data-continent=\"Europe\" style=\"display:none\">Europe</td>\n",
       "</tr><tr class=\"odd\" role=\"row\" style=\"\">\n",
       "<td style=\"font-size:12px;color: grey;text-align:center;vertical-align:middle;\">30</td>\n",
       "<td style=\"font-weight: bold; font-size:15px; text-align:left;\"><a class=\"mt_a\" href=\"/coronavirus/country/brazil/\">Brazil</a></td>\n",
       "<td class=\"sorting_1\" style=\"font-weight: bold; text-align:right\">0</td>\n",
       "<td style=\"font-weight: bold; text-align:right\">10,055</td>\n",
       "<td style=\"font-weight: bold; text-align:right\">-100%</td>\n",
       "<td style=\"font-weight: bold; text-align:right\">0</td>\n",
       "<td style=\"font-weight: bold; text-align:right\">0</td>\n",
       "<td style=\"font-weight: bold; text-align:right\">90</td>\n",
       "<td style=\"font-weight: bold; text-align:right\">-100%</td>\n",
       "<td style=\"font-weight: bold; text-align:right\">0</td>\n",
       "<td style=\"font-weight: bold; text-align:right\">-10,055</td><td style=\"font-weight: bold; text-align:right\">-90</td><td style=\"font-weight: bold; text-align:right\">215,353,593</td>\n",
       "<td data-continent=\"South America\" style=\"display:none\">South America</td>\n",
       "</tr><tr class=\"even\" role=\"row\" style=\"\">\n",
       "<td style=\"font-size:12px;color: grey;text-align:center;vertical-align:middle;\">31</td>\n",
       "<td style=\"font-weight: bold; font-size:15px; text-align:left;\"><a class=\"mt_a\" href=\"/coronavirus/country/czech-republic/\">Czechia</a></td>\n",
       "<td class=\"sorting_1\" style=\"font-weight: bold; text-align:right\">0</td>\n",
       "<td style=\"font-weight: bold; text-align:right\">36</td>\n",
       "<td style=\"font-weight: bold; text-align:right\">-100%</td>\n",
       "<td style=\"font-weight: bold; text-align:right\">0</td>\n",
       "<td style=\"font-weight: bold; text-align:right\">0</td>\n",
       "<td style=\"font-weight: bold; text-align:right\">0</td>\n",
       "<td style=\"font-weight: bold; text-align:right\">0%</td>\n",
       "<td style=\"font-weight: bold; text-align:right\">0</td>\n",
       "<td style=\"font-weight: bold; text-align:right\">-36</td><td style=\"font-weight: bold; text-align:right\">0</td><td style=\"font-weight: bold; text-align:right\">10,736,784</td>\n",
       "<td data-continent=\"Europe\" style=\"display:none\">Europe</td>\n",
       "</tr><tr class=\"odd\" role=\"row\" style=\"\">\n",
       "<td style=\"font-size:12px;color: grey;text-align:center;vertical-align:middle;\">32</td>\n",
       "<td style=\"font-weight: bold; font-size:15px; text-align:left;\"><a class=\"mt_a\" href=\"/coronavirus/country/guatemala/\">Guatemala</a></td>\n",
       "<td class=\"sorting_1\" style=\"font-weight: bold; text-align:right\">0</td>\n",
       "<td style=\"font-weight: bold; text-align:right\">439</td>\n",
       "<td style=\"font-weight: bold; text-align:right\">-100%</td>\n",
       "<td style=\"font-weight: bold; text-align:right\">0</td>\n",
       "<td style=\"font-weight: bold; text-align:right\">0</td>\n",
       "<td style=\"font-weight: bold; text-align:right\">3</td>\n",
       "<td style=\"font-weight: bold; text-align:right\">-100%</td>\n",
       "<td style=\"font-weight: bold; text-align:right\">0</td>\n",
       "<td style=\"font-weight: bold; text-align:right\">-439</td><td style=\"font-weight: bold; text-align:right\">-3</td><td style=\"font-weight: bold; text-align:right\">18,584,039</td>\n",
       "<td data-continent=\"North America\" style=\"display:none\">North America</td>\n",
       "</tr><tr class=\"even\" role=\"row\" style=\"\">\n",
       "<td style=\"font-size:12px;color: grey;text-align:center;vertical-align:middle;\">33</td>\n",
       "<td style=\"font-weight: bold; font-size:15px; text-align:left;\"><a class=\"mt_a\" href=\"/coronavirus/country/latvia/\">Latvia</a></td>\n",
       "<td class=\"sorting_1\" style=\"font-weight: bold; text-align:right\">0</td>\n",
       "<td style=\"font-weight: bold; text-align:right\">18</td>\n",
       "<td style=\"font-weight: bold; text-align:right\">-100%</td>\n",
       "<td style=\"font-weight: bold; text-align:right\">0</td>\n",
       "<td style=\"font-weight: bold; text-align:right\">0</td>\n",
       "<td style=\"font-weight: bold; text-align:right\">1</td>\n",
       "<td style=\"font-weight: bold; text-align:right\">-100%</td>\n",
       "<td style=\"font-weight: bold; text-align:right\">0</td>\n",
       "<td style=\"font-weight: bold; text-align:right\">-18</td><td style=\"font-weight: bold; text-align:right\">-1</td><td style=\"font-weight: bold; text-align:right\">1,848,837</td>\n",
       "<td data-continent=\"Europe\" style=\"display:none\">Europe</td>\n",
       "</tr><tr class=\"odd\" role=\"row\" style=\"\">\n",
       "<td style=\"font-size:12px;color: grey;text-align:center;vertical-align:middle;\">34</td>\n",
       "<td style=\"font-weight: bold; font-size:15px; text-align:left;\"><a class=\"mt_a\" href=\"/coronavirus/country/malta/\">Malta</a></td>\n",
       "<td class=\"sorting_1\" style=\"font-weight: bold; text-align:right\">0</td>\n",
       "<td style=\"font-weight: bold; text-align:right\">2</td>\n",
       "<td style=\"font-weight: bold; text-align:right\">-100%</td>\n",
       "<td style=\"font-weight: bold; text-align:right\">0</td>\n",
       "<td style=\"font-weight: bold; text-align:right\">0</td>\n",
       "<td style=\"font-weight: bold; text-align:right\">0</td>\n",
       "<td style=\"font-weight: bold; text-align:right\">0%</td>\n",
       "<td style=\"font-weight: bold; text-align:right\">0</td>\n",
       "<td style=\"font-weight: bold; text-align:right\">-2</td><td style=\"font-weight: bold; text-align:right\">0</td><td style=\"font-weight: bold; text-align:right\">444,033</td>\n",
       "<td data-continent=\"Europe\" style=\"display:none\">Europe</td>\n",
       "</tr><tr class=\"even\" role=\"row\" style=\"\">\n",
       "<td style=\"font-size:12px;color: grey;text-align:center;vertical-align:middle;\">35</td>\n",
       "<td style=\"font-weight: bold; font-size:15px; text-align:left;\"><a class=\"mt_a\" href=\"/coronavirus/country/new-zealand/\">New Zealand</a></td>\n",
       "<td class=\"sorting_1\" style=\"font-weight: bold; text-align:right\">0</td>\n",
       "<td style=\"font-weight: bold; text-align:right\">3,399</td>\n",
       "<td style=\"font-weight: bold; text-align:right\">-100%</td>\n",
       "<td style=\"font-weight: bold; text-align:right\">0</td>\n",
       "<td style=\"font-weight: bold; text-align:right\">0</td>\n",
       "<td style=\"font-weight: bold; text-align:right\">11</td>\n",
       "<td style=\"font-weight: bold; text-align:right\">-100%</td>\n",
       "<td style=\"font-weight: bold; text-align:right\">0</td>\n",
       "<td style=\"font-weight: bold; text-align:right\">-3,399</td><td style=\"font-weight: bold; text-align:right\">-11</td><td style=\"font-weight: bold; text-align:right\">4,898,203</td>\n",
       "<td data-continent=\"Australia/Oceania\" style=\"display:none\">Australia/Oceania</td>\n",
       "</tr><tr class=\"odd\" role=\"row\" style=\"\">\n",
       "<td style=\"font-size:12px;color: grey;text-align:center;vertical-align:middle;\">36</td>\n",
       "<td style=\"font-weight: bold; font-size:15px; text-align:left;\"><a class=\"mt_a\" href=\"/coronavirus/country/togo/\">Togo</a></td>\n",
       "<td class=\"sorting_1\" style=\"font-weight: bold; text-align:right\">0</td>\n",
       "<td style=\"font-weight: bold; text-align:right\">3</td>\n",
       "<td style=\"font-weight: bold; text-align:right\">-100%</td>\n",
       "<td style=\"font-weight: bold; text-align:right\">0</td>\n",
       "<td style=\"font-weight: bold; text-align:right\">0</td>\n",
       "<td style=\"font-weight: bold; text-align:right\">0</td>\n",
       "<td style=\"font-weight: bold; text-align:right\">0%</td>\n",
       "<td style=\"font-weight: bold; text-align:right\">0</td>\n",
       "<td style=\"font-weight: bold; text-align:right\">-3</td><td style=\"font-weight: bold; text-align:right\">0</td><td style=\"font-weight: bold; text-align:right\">8,680,837</td>\n",
       "<td data-continent=\"Africa\" style=\"display:none\">Africa</td>\n",
       "</tr></tbody>\n",
       "<tbody class=\"body_continents\">\n",
       "<tr class=\"total_row_world row_continent\" data-continent=\"Asia\" style=\"display: none\">\n",
       "<td></td>\n",
       "<td style=\"text-align:left;\">\n",
       "<nobr>Asia</nobr>\n",
       "</td>\n",
       "<td>2,471</td>\n",
       "<td>3,077</td>\n",
       "<td>-20%</td>\n",
       "<td></td>\n",
       "<td>48</td>\n",
       "<td>67</td>\n",
       "<td>\n",
       "                                    -28%                                    </td>\n",
       "<td></td>\n",
       "<td style=\"display: block;\">-606</td>\n",
       "<td style=\"display: none;\"></td>\n",
       "<td style=\"display: block;\">-19</td>\n",
       "<td style=\"display: none;\"></td>\n",
       "<td></td>\n",
       "<td data-continent=\"Asia\" style=\"display:none;\">Asia</td>\n",
       "</tr>\n",
       "<tr class=\"total_row_world row_continent\" data-continent=\"Australia/Oceania\" style=\"display: none\">\n",
       "<td></td>\n",
       "<td style=\"text-align:left;\">\n",
       "<nobr>Oceania</nobr>\n",
       "</td>\n",
       "<td>4,483</td>\n",
       "<td>8,934</td>\n",
       "<td>-50%</td>\n",
       "<td></td>\n",
       "<td>16</td>\n",
       "<td>39</td>\n",
       "<td>\n",
       "                                    -59%                                    </td>\n",
       "<td></td>\n",
       "<td style=\"display: block;\">-4,451</td>\n",
       "<td style=\"display: none;\"></td>\n",
       "<td style=\"display: block;\">-23</td>\n",
       "<td style=\"display: none;\"></td>\n",
       "<td></td>\n",
       "<td data-continent=\"Australia/Oceania\" style=\"display:none;\">Australia/Oceania</td>\n",
       "</tr>\n",
       "<tr class=\"total_row_world row_continent\" data-continent=\"North America\" style=\"display: none\">\n",
       "<td></td>\n",
       "<td style=\"text-align:left;\">\n",
       "<nobr>North America</nobr>\n",
       "</td>\n",
       "<td>12,269</td>\n",
       "<td>31,790</td>\n",
       "<td>-61%</td>\n",
       "<td></td>\n",
       "<td>108</td>\n",
       "<td>381</td>\n",
       "<td>\n",
       "                                    -72%                                    </td>\n",
       "<td></td>\n",
       "<td style=\"display: block;\">-19,521</td>\n",
       "<td style=\"display: none;\"></td>\n",
       "<td style=\"display: block;\">-273</td>\n",
       "<td style=\"display: none;\"></td>\n",
       "<td></td>\n",
       "<td data-continent=\"North America\" style=\"display:none;\">North America</td>\n",
       "</tr>\n",
       "<tr class=\"total_row_world row_continent\" data-continent=\"Europe\" style=\"display: none\">\n",
       "<td></td>\n",
       "<td style=\"text-align:left;\">\n",
       "<nobr>Europe</nobr>\n",
       "</td>\n",
       "<td>23,360</td>\n",
       "<td>27,812</td>\n",
       "<td>-16%</td>\n",
       "<td></td>\n",
       "<td>136</td>\n",
       "<td>128</td>\n",
       "<td>\n",
       "                                    +6%                                    </td>\n",
       "<td></td>\n",
       "<td style=\"display: block;\">-4,452</td>\n",
       "<td style=\"display: none;\"></td>\n",
       "<td style=\"display: block;\">+8</td>\n",
       "<td style=\"display: none;\"></td>\n",
       "<td></td>\n",
       "<td data-continent=\"Europe\" style=\"display:none;\">Europe</td>\n",
       "</tr>\n",
       "<tr class=\"total_row_world row_continent\" data-continent=\"South America\" style=\"display: none\">\n",
       "<td></td>\n",
       "<td style=\"text-align:left;\">\n",
       "<nobr>South America</nobr>\n",
       "</td>\n",
       "<td>2,125</td>\n",
       "<td>14,969</td>\n",
       "<td>-86%</td>\n",
       "<td></td>\n",
       "<td>0</td>\n",
       "<td>90</td>\n",
       "<td>\n",
       "                                    -100%                                    </td>\n",
       "<td></td>\n",
       "<td style=\"display: block;\">-12,844</td>\n",
       "<td style=\"display: none;\"></td>\n",
       "<td style=\"display: block;\">-90</td>\n",
       "<td style=\"display: none;\"></td>\n",
       "<td></td>\n",
       "<td data-continent=\"South America\" style=\"display:none;\">South America</td>\n",
       "</tr>\n",
       "<tr class=\"total_row_world row_continent\" data-continent=\"Africa\" style=\"display: none\">\n",
       "<td></td>\n",
       "<td style=\"text-align:left;\">\n",
       "<nobr>Africa</nobr>\n",
       "</td>\n",
       "<td>6</td>\n",
       "<td>5</td>\n",
       "<td>+20%</td>\n",
       "<td></td>\n",
       "<td>0</td>\n",
       "<td>0</td>\n",
       "<td>\n",
       "                                    0%                                    </td>\n",
       "<td></td>\n",
       "<td style=\"display: block;\">+1</td>\n",
       "<td style=\"display: none;\"></td>\n",
       "<td style=\"display: block;\">0</td>\n",
       "<td style=\"display: none;\"></td>\n",
       "<td></td>\n",
       "<td data-continent=\"Africa\" style=\"display:none;\">Africa</td>\n",
       "</tr>\n",
       "</tbody>\n",
       "<tbody class=\"total_row_body body_world\">\n",
       "<tr class=\"total_row\">\n",
       "<td></td>\n",
       "<td style=\"text-align:left;\">World</td>\n",
       "<td>44,714</td>\n",
       "<td>86,587</td>\n",
       "<td>-48%</td>\n",
       "<td></td>\n",
       "<td>308</td>\n",
       "<td>705</td>\n",
       "<td>-56%</td>\n",
       "<td></td>\n",
       "<td style=\"display: block;\">-41,873</td>\n",
       "<td style=\"display: none;\"></td>\n",
       "<td style=\"display: block;\">-397</td>\n",
       "<td style=\"display: none;\"></td>\n",
       "<td></td>\n",
       "<td data-continent=\"all\" style=\"display:none\">All</td>\n",
       "</tr>\n",
       "</tbody>\n",
       "</table>"
      ]
     },
     "execution_count": 49,
     "metadata": {},
     "output_type": "execute_result"
    }
   ],
   "source": [
    "# arguments: tag, {attribute: value}\n",
    "table = soup.find('table', {'id':'main_table_countries_today'})\n",
    "table"
   ]
  },
  {
   "cell_type": "code",
   "execution_count": 50,
   "metadata": {},
   "outputs": [
    {
     "data": {
      "text/plain": [
       "<tr class=\"odd\" role=\"row\" style=\"\">\n",
       "<td style=\"font-size:12px;color: grey;text-align:center;vertical-align:middle;\">3</td>\n",
       "<td style=\"font-weight: bold; font-size:15px; text-align:left;\"><a class=\"mt_a\" href=\"/coronavirus/country/australia/\">Australia</a></td>\n",
       "<td class=\"sorting_1\" style=\"font-weight: bold; text-align:right\">4,483</td>\n",
       "<td style=\"font-weight: bold; text-align:right\">5,535</td>\n",
       "<td style=\"font-weight: bold; text-align:right\">-19%</td>\n",
       "<td style=\"font-weight: bold; text-align:right\">172</td>\n",
       "<td style=\"font-weight: bold; text-align:right\">16</td>\n",
       "<td style=\"font-weight: bold; text-align:right\">28</td>\n",
       "<td style=\"font-weight: bold; text-align:right\">-43%</td>\n",
       "<td style=\"font-weight: bold; text-align:right\">0.6</td>\n",
       "<td style=\"font-weight: bold; text-align:right\">-1,052</td><td style=\"font-weight: bold; text-align:right\">-12</td><td style=\"font-weight: bold; text-align:right\">26,068,792</td>\n",
       "<td data-continent=\"Australia/Oceania\" style=\"display:none\">Australia/Oceania</td>\n",
       "</tr>"
      ]
     },
     "execution_count": 50,
     "metadata": {},
     "output_type": "execute_result"
    }
   ],
   "source": [
    "rows = table.find_all('tr')\n",
    "rows[7] # use .text to understand what part of the site it is"
   ]
  },
  {
   "cell_type": "code",
   "execution_count": 51,
   "metadata": {},
   "outputs": [
    {
     "data": {
      "text/plain": [
       "[None,\n",
       " None,\n",
       " None,\n",
       " <a class=\"mt_a\" href=\"/coronavirus/country/russia/\">Russia</a>,\n",
       " None,\n",
       " <a class=\"mt_a\" href=\"/coronavirus/country/us/\">USA</a>,\n",
       " None,\n",
       " <a class=\"mt_a\" href=\"/coronavirus/country/australia/\">Australia</a>,\n",
       " None,\n",
       " None,\n",
       " <a class=\"mt_a\" href=\"/coronavirus/country/chile/\">Chile</a>,\n",
       " <a class=\"mt_a\" href=\"/coronavirus/country/china-hong-kong-sar/\">Hong Kong</a>,\n",
       " <a class=\"mt_a\" href=\"/coronavirus/country/india/\">India</a>,\n",
       " <a class=\"mt_a\" href=\"/coronavirus/country/germany/\">Germany</a>,\n",
       " <a class=\"mt_a\" href=\"/coronavirus/country/italy/\">Italy</a>,\n",
       " <a class=\"mt_a\" href=\"/coronavirus/country/canada/\">Canada</a>,\n",
       " <a class=\"mt_a\" href=\"/coronavirus/country/afghanistan/\">Afghanistan</a>,\n",
       " <a class=\"mt_a\" href=\"/coronavirus/country/china-macao-sar/\">Macao</a>,\n",
       " <a class=\"mt_a\" href=\"/coronavirus/country/romania/\">Romania</a>,\n",
       " <a class=\"mt_a\" href=\"/coronavirus/country/lithuania/\">Lithuania</a>,\n",
       " <a class=\"mt_a\" href=\"/coronavirus/country/malaysia/\">Malaysia</a>,\n",
       " <a class=\"mt_a\" href=\"/coronavirus/country/serbia/\">Serbia</a>,\n",
       " <a class=\"mt_a\" href=\"/coronavirus/country/indonesia/\">Indonesia</a>,\n",
       " <a class=\"mt_a\" href=\"/coronavirus/country/poland/\">Poland</a>,\n",
       " <a class=\"mt_a\" href=\"/coronavirus/country/bulgaria/\">Bulgaria</a>,\n",
       " <a class=\"mt_a\" href=\"/coronavirus/country/estonia/\">Estonia</a>,\n",
       " <a class=\"mt_a\" href=\"/coronavirus/country/slovenia/\">Slovenia</a>,\n",
       " <a class=\"mt_a\" href=\"/coronavirus/country/montenegro/\">Montenegro</a>,\n",
       " None,\n",
       " <a class=\"mt_a\" href=\"/coronavirus/country/finland/\">Finland</a>,\n",
       " <a class=\"mt_a\" href=\"/coronavirus/country/sao-tome-and-principe/\">Sao Tome and Principe</a>,\n",
       " <a class=\"mt_a\" href=\"/coronavirus/country/laos/\">Laos</a>,\n",
       " <a class=\"mt_a\" href=\"/coronavirus/country/cambodia/\">Cambodia</a>,\n",
       " <a class=\"mt_a\" href=\"/coronavirus/country/cuba/\">Cuba</a>,\n",
       " <a class=\"mt_a\" href=\"/coronavirus/country/sri-lanka/\">Sri Lanka</a>,\n",
       " <a class=\"mt_a\" href=\"/coronavirus/country/sweden/\">Sweden</a>,\n",
       " <a class=\"mt_a\" href=\"/coronavirus/country/belgium/\">Belgium</a>,\n",
       " <a class=\"mt_a\" href=\"/coronavirus/country/brazil/\">Brazil</a>,\n",
       " <a class=\"mt_a\" href=\"/coronavirus/country/czech-republic/\">Czechia</a>,\n",
       " <a class=\"mt_a\" href=\"/coronavirus/country/guatemala/\">Guatemala</a>,\n",
       " <a class=\"mt_a\" href=\"/coronavirus/country/latvia/\">Latvia</a>,\n",
       " <a class=\"mt_a\" href=\"/coronavirus/country/malta/\">Malta</a>,\n",
       " <a class=\"mt_a\" href=\"/coronavirus/country/new-zealand/\">New Zealand</a>,\n",
       " <a class=\"mt_a\" href=\"/coronavirus/country/togo/\">Togo</a>,\n",
       " None,\n",
       " None,\n",
       " None,\n",
       " None,\n",
       " None,\n",
       " None,\n",
       " None]"
      ]
     },
     "execution_count": 51,
     "metadata": {},
     "output_type": "execute_result"
    }
   ],
   "source": [
    "countries=[]\n",
    "\n",
    "for row in rows:\n",
    "    countries.append(row.find('a', {'class':'mt_a'}))\n",
    "    \n",
    "countries"
   ]
  },
  {
   "cell_type": "code",
   "execution_count": 52,
   "metadata": {},
   "outputs": [
    {
     "data": {
      "text/plain": [
       "[<a class=\"mt_a\" href=\"/coronavirus/country/russia/\">Russia</a>,\n",
       " <a class=\"mt_a\" href=\"/coronavirus/country/us/\">USA</a>,\n",
       " <a class=\"mt_a\" href=\"/coronavirus/country/australia/\">Australia</a>,\n",
       " <a class=\"mt_a\" href=\"/coronavirus/country/chile/\">Chile</a>,\n",
       " <a class=\"mt_a\" href=\"/coronavirus/country/china-hong-kong-sar/\">Hong Kong</a>,\n",
       " <a class=\"mt_a\" href=\"/coronavirus/country/india/\">India</a>,\n",
       " <a class=\"mt_a\" href=\"/coronavirus/country/germany/\">Germany</a>,\n",
       " <a class=\"mt_a\" href=\"/coronavirus/country/italy/\">Italy</a>,\n",
       " <a class=\"mt_a\" href=\"/coronavirus/country/canada/\">Canada</a>,\n",
       " <a class=\"mt_a\" href=\"/coronavirus/country/afghanistan/\">Afghanistan</a>,\n",
       " <a class=\"mt_a\" href=\"/coronavirus/country/china-macao-sar/\">Macao</a>,\n",
       " <a class=\"mt_a\" href=\"/coronavirus/country/romania/\">Romania</a>,\n",
       " <a class=\"mt_a\" href=\"/coronavirus/country/lithuania/\">Lithuania</a>,\n",
       " <a class=\"mt_a\" href=\"/coronavirus/country/malaysia/\">Malaysia</a>,\n",
       " <a class=\"mt_a\" href=\"/coronavirus/country/serbia/\">Serbia</a>,\n",
       " <a class=\"mt_a\" href=\"/coronavirus/country/indonesia/\">Indonesia</a>,\n",
       " <a class=\"mt_a\" href=\"/coronavirus/country/poland/\">Poland</a>,\n",
       " <a class=\"mt_a\" href=\"/coronavirus/country/bulgaria/\">Bulgaria</a>,\n",
       " <a class=\"mt_a\" href=\"/coronavirus/country/estonia/\">Estonia</a>,\n",
       " <a class=\"mt_a\" href=\"/coronavirus/country/slovenia/\">Slovenia</a>,\n",
       " <a class=\"mt_a\" href=\"/coronavirus/country/montenegro/\">Montenegro</a>,\n",
       " <a class=\"mt_a\" href=\"/coronavirus/country/finland/\">Finland</a>,\n",
       " <a class=\"mt_a\" href=\"/coronavirus/country/sao-tome-and-principe/\">Sao Tome and Principe</a>,\n",
       " <a class=\"mt_a\" href=\"/coronavirus/country/laos/\">Laos</a>,\n",
       " <a class=\"mt_a\" href=\"/coronavirus/country/cambodia/\">Cambodia</a>,\n",
       " <a class=\"mt_a\" href=\"/coronavirus/country/cuba/\">Cuba</a>,\n",
       " <a class=\"mt_a\" href=\"/coronavirus/country/sri-lanka/\">Sri Lanka</a>,\n",
       " <a class=\"mt_a\" href=\"/coronavirus/country/sweden/\">Sweden</a>,\n",
       " <a class=\"mt_a\" href=\"/coronavirus/country/belgium/\">Belgium</a>,\n",
       " <a class=\"mt_a\" href=\"/coronavirus/country/brazil/\">Brazil</a>,\n",
       " <a class=\"mt_a\" href=\"/coronavirus/country/czech-republic/\">Czechia</a>,\n",
       " <a class=\"mt_a\" href=\"/coronavirus/country/guatemala/\">Guatemala</a>,\n",
       " <a class=\"mt_a\" href=\"/coronavirus/country/latvia/\">Latvia</a>,\n",
       " <a class=\"mt_a\" href=\"/coronavirus/country/malta/\">Malta</a>,\n",
       " <a class=\"mt_a\" href=\"/coronavirus/country/new-zealand/\">New Zealand</a>,\n",
       " <a class=\"mt_a\" href=\"/coronavirus/country/togo/\">Togo</a>]"
      ]
     },
     "execution_count": 52,
     "metadata": {},
     "output_type": "execute_result"
    }
   ],
   "source": [
    "countries=list(filter(lambda x: x != None, countries))\n",
    "countries"
   ]
  },
  {
   "cell_type": "code",
   "execution_count": 53,
   "metadata": {},
   "outputs": [
    {
     "data": {
      "text/plain": [
       "['Russia',\n",
       " 'USA',\n",
       " 'Australia',\n",
       " 'Chile',\n",
       " 'Hong Kong',\n",
       " 'India',\n",
       " 'Germany',\n",
       " 'Italy',\n",
       " 'Canada',\n",
       " 'Afghanistan',\n",
       " 'Macao',\n",
       " 'Romania',\n",
       " 'Lithuania',\n",
       " 'Malaysia',\n",
       " 'Serbia',\n",
       " 'Indonesia',\n",
       " 'Poland',\n",
       " 'Bulgaria',\n",
       " 'Estonia',\n",
       " 'Slovenia',\n",
       " 'Montenegro',\n",
       " 'Finland',\n",
       " 'Sao Tome and Principe',\n",
       " 'Laos',\n",
       " 'Cambodia',\n",
       " 'Cuba',\n",
       " 'Sri Lanka',\n",
       " 'Sweden',\n",
       " 'Belgium',\n",
       " 'Brazil',\n",
       " 'Czechia',\n",
       " 'Guatemala',\n",
       " 'Latvia',\n",
       " 'Malta',\n",
       " 'New Zealand',\n",
       " 'Togo']"
      ]
     },
     "execution_count": 53,
     "metadata": {},
     "output_type": "execute_result"
    }
   ],
   "source": [
    "for row in range(len(countries)):\n",
    "    countries[row] = countries[row].text\n",
    "    \n",
    "countries"
   ]
  },
  {
   "cell_type": "code",
   "execution_count": 54,
   "metadata": {},
   "outputs": [
    {
     "data": {
      "text/plain": [
       "['#',\n",
       " 'Country,Other',\n",
       " 'Cases in the last 7 days',\n",
       " 'Cases in the preceding  7 days',\n",
       " 'Weekly Case % Change',\n",
       " 'Cases in the last 7 days/1M pop',\n",
       " 'Deaths in the last 7 days',\n",
       " 'Deaths in the preceding 7 days',\n",
       " 'Weekly Death % Change',\n",
       " 'Deaths in the last 7 days/1M pop',\n",
       " 'Weekly Case Change',\n",
       " 'Weekly Deaths Change',\n",
       " 'Population',\n",
       " 'Continent']"
      ]
     },
     "execution_count": 54,
     "metadata": {},
     "output_type": "execute_result"
    }
   ],
   "source": [
    "list(map(lambda x: x.text, rows[0].find_all('th'))) # map() applies a function to each element of an iterable"
   ]
  },
  {
   "cell_type": "markdown",
   "metadata": {},
   "source": [
    "Now we know every tag that we are looking for, so we can extract the information from the html source!"
   ]
  },
  {
   "cell_type": "code",
   "execution_count": 55,
   "metadata": {},
   "outputs": [],
   "source": [
    "rows=table.find_all('tr', {'role':'row'})\n",
    "countries=[]\n",
    "weekly_case_change=[]\n",
    "\n",
    "for row in rows:\n",
    "    try:\n",
    "        countries.append(row.find('a', {'class':'mt_a'}).text)\n",
    "        weekly_case_change.append(row.find_all('td')[4].text)\n",
    "    except:\n",
    "        continue"
   ]
  },
  {
   "cell_type": "code",
   "execution_count": 56,
   "metadata": {},
   "outputs": [
    {
     "data": {
      "text/html": [
       "<div>\n",
       "<style scoped>\n",
       "    .dataframe tbody tr th:only-of-type {\n",
       "        vertical-align: middle;\n",
       "    }\n",
       "\n",
       "    .dataframe tbody tr th {\n",
       "        vertical-align: top;\n",
       "    }\n",
       "\n",
       "    .dataframe thead th {\n",
       "        text-align: right;\n",
       "    }\n",
       "</style>\n",
       "<table border=\"1\" class=\"dataframe\">\n",
       "  <thead>\n",
       "    <tr style=\"text-align: right;\">\n",
       "      <th></th>\n",
       "      <th>Countries</th>\n",
       "      <th>Weekly_Case_Change</th>\n",
       "    </tr>\n",
       "  </thead>\n",
       "  <tbody>\n",
       "    <tr>\n",
       "      <th>0</th>\n",
       "      <td>Russia</td>\n",
       "      <td>-13%</td>\n",
       "    </tr>\n",
       "    <tr>\n",
       "      <th>1</th>\n",
       "      <td>USA</td>\n",
       "      <td>-60%</td>\n",
       "    </tr>\n",
       "    <tr>\n",
       "      <th>2</th>\n",
       "      <td>Australia</td>\n",
       "      <td>-19%</td>\n",
       "    </tr>\n",
       "    <tr>\n",
       "      <th>3</th>\n",
       "      <td>Chile</td>\n",
       "      <td>-57%</td>\n",
       "    </tr>\n",
       "    <tr>\n",
       "      <th>4</th>\n",
       "      <td>Hong Kong</td>\n",
       "      <td>-29%</td>\n",
       "    </tr>\n",
       "    <tr>\n",
       "      <th>5</th>\n",
       "      <td>India</td>\n",
       "      <td>+0.6%</td>\n",
       "    </tr>\n",
       "    <tr>\n",
       "      <th>6</th>\n",
       "      <td>Germany</td>\n",
       "      <td>-28%</td>\n",
       "    </tr>\n",
       "    <tr>\n",
       "      <th>7</th>\n",
       "      <td>Italy</td>\n",
       "      <td>-16%</td>\n",
       "    </tr>\n",
       "    <tr>\n",
       "      <th>8</th>\n",
       "      <td>Canada</td>\n",
       "      <td>-73%</td>\n",
       "    </tr>\n",
       "    <tr>\n",
       "      <th>9</th>\n",
       "      <td>Afghanistan</td>\n",
       "      <td>+43,800%</td>\n",
       "    </tr>\n",
       "    <tr>\n",
       "      <th>10</th>\n",
       "      <td>Macao</td>\n",
       "      <td>-55%</td>\n",
       "    </tr>\n",
       "    <tr>\n",
       "      <th>11</th>\n",
       "      <td>Romania</td>\n",
       "      <td>-12%</td>\n",
       "    </tr>\n",
       "    <tr>\n",
       "      <th>12</th>\n",
       "      <td>Lithuania</td>\n",
       "      <td>-35%</td>\n",
       "    </tr>\n",
       "    <tr>\n",
       "      <th>13</th>\n",
       "      <td>Malaysia</td>\n",
       "      <td>-75%</td>\n",
       "    </tr>\n",
       "    <tr>\n",
       "      <th>14</th>\n",
       "      <td>Serbia</td>\n",
       "      <td>-50%</td>\n",
       "    </tr>\n",
       "    <tr>\n",
       "      <th>15</th>\n",
       "      <td>Indonesia</td>\n",
       "      <td>+5,900%</td>\n",
       "    </tr>\n",
       "    <tr>\n",
       "      <th>16</th>\n",
       "      <td>Poland</td>\n",
       "      <td>-79%</td>\n",
       "    </tr>\n",
       "    <tr>\n",
       "      <th>17</th>\n",
       "      <td>Bulgaria</td>\n",
       "      <td>-40%</td>\n",
       "    </tr>\n",
       "    <tr>\n",
       "      <th>18</th>\n",
       "      <td>Estonia</td>\n",
       "      <td>-52%</td>\n",
       "    </tr>\n",
       "    <tr>\n",
       "      <th>19</th>\n",
       "      <td>Slovenia</td>\n",
       "      <td>+8%</td>\n",
       "    </tr>\n",
       "    <tr>\n",
       "      <th>20</th>\n",
       "      <td>Montenegro</td>\n",
       "      <td>+44%</td>\n",
       "    </tr>\n",
       "    <tr>\n",
       "      <th>21</th>\n",
       "      <td>Finland</td>\n",
       "      <td>-92%</td>\n",
       "    </tr>\n",
       "    <tr>\n",
       "      <th>22</th>\n",
       "      <td>Sao Tome and Principe</td>\n",
       "      <td>+200%</td>\n",
       "    </tr>\n",
       "    <tr>\n",
       "      <th>23</th>\n",
       "      <td>Laos</td>\n",
       "      <td>+25%</td>\n",
       "    </tr>\n",
       "    <tr>\n",
       "      <th>24</th>\n",
       "      <td>Cambodia</td>\n",
       "      <td>+200%</td>\n",
       "    </tr>\n",
       "    <tr>\n",
       "      <th>25</th>\n",
       "      <td>Cuba</td>\n",
       "      <td>+100%</td>\n",
       "    </tr>\n",
       "    <tr>\n",
       "      <th>26</th>\n",
       "      <td>Sri Lanka</td>\n",
       "      <td>-100%</td>\n",
       "    </tr>\n",
       "    <tr>\n",
       "      <th>27</th>\n",
       "      <td>Sweden</td>\n",
       "      <td>-100%</td>\n",
       "    </tr>\n",
       "    <tr>\n",
       "      <th>28</th>\n",
       "      <td>Belgium</td>\n",
       "      <td>-100%</td>\n",
       "    </tr>\n",
       "    <tr>\n",
       "      <th>29</th>\n",
       "      <td>Brazil</td>\n",
       "      <td>-100%</td>\n",
       "    </tr>\n",
       "    <tr>\n",
       "      <th>30</th>\n",
       "      <td>Czechia</td>\n",
       "      <td>-100%</td>\n",
       "    </tr>\n",
       "    <tr>\n",
       "      <th>31</th>\n",
       "      <td>Guatemala</td>\n",
       "      <td>-100%</td>\n",
       "    </tr>\n",
       "    <tr>\n",
       "      <th>32</th>\n",
       "      <td>Latvia</td>\n",
       "      <td>-100%</td>\n",
       "    </tr>\n",
       "    <tr>\n",
       "      <th>33</th>\n",
       "      <td>Malta</td>\n",
       "      <td>-100%</td>\n",
       "    </tr>\n",
       "    <tr>\n",
       "      <th>34</th>\n",
       "      <td>New Zealand</td>\n",
       "      <td>-100%</td>\n",
       "    </tr>\n",
       "    <tr>\n",
       "      <th>35</th>\n",
       "      <td>Togo</td>\n",
       "      <td>-100%</td>\n",
       "    </tr>\n",
       "  </tbody>\n",
       "</table>\n",
       "</div>"
      ],
      "text/plain": [
       "                Countries Weekly_Case_Change\n",
       "0                  Russia               -13%\n",
       "1                     USA               -60%\n",
       "2               Australia               -19%\n",
       "3                   Chile               -57%\n",
       "4               Hong Kong               -29%\n",
       "5                   India              +0.6%\n",
       "6                 Germany               -28%\n",
       "7                   Italy               -16%\n",
       "8                  Canada               -73%\n",
       "9             Afghanistan           +43,800%\n",
       "10                  Macao               -55%\n",
       "11                Romania               -12%\n",
       "12              Lithuania               -35%\n",
       "13               Malaysia               -75%\n",
       "14                 Serbia               -50%\n",
       "15              Indonesia            +5,900%\n",
       "16                 Poland               -79%\n",
       "17               Bulgaria               -40%\n",
       "18                Estonia               -52%\n",
       "19               Slovenia                +8%\n",
       "20             Montenegro               +44%\n",
       "21                Finland               -92%\n",
       "22  Sao Tome and Principe              +200%\n",
       "23                   Laos               +25%\n",
       "24               Cambodia              +200%\n",
       "25                   Cuba              +100%\n",
       "26              Sri Lanka              -100%\n",
       "27                 Sweden              -100%\n",
       "28                Belgium              -100%\n",
       "29                 Brazil              -100%\n",
       "30                Czechia              -100%\n",
       "31              Guatemala              -100%\n",
       "32                 Latvia              -100%\n",
       "33                  Malta              -100%\n",
       "34            New Zealand              -100%\n",
       "35                   Togo              -100%"
      ]
     },
     "execution_count": 56,
     "metadata": {},
     "output_type": "execute_result"
    }
   ],
   "source": [
    "import pandas as pd\n",
    "\n",
    "df = pd.DataFrame({'Countries':countries, 'Weekly_Case_Change':weekly_case_change})\n",
    "df"
   ]
  },
  {
   "cell_type": "markdown",
   "metadata": {},
   "source": [
    "IMPORTANT: Don't scrape the data from the website over and over (server overload), instead save a datafile to your personal computer"
   ]
  },
  {
   "cell_type": "code",
   "execution_count": 57,
   "metadata": {},
   "outputs": [],
   "source": [
    "df.to_csv('covid_scrape.csv')"
   ]
  },
  {
   "cell_type": "code",
   "execution_count": 58,
   "metadata": {},
   "outputs": [
    {
     "data": {
      "text/html": [
       "<div>\n",
       "<style scoped>\n",
       "    .dataframe tbody tr th:only-of-type {\n",
       "        vertical-align: middle;\n",
       "    }\n",
       "\n",
       "    .dataframe tbody tr th {\n",
       "        vertical-align: top;\n",
       "    }\n",
       "\n",
       "    .dataframe thead th {\n",
       "        text-align: right;\n",
       "    }\n",
       "</style>\n",
       "<table border=\"1\" class=\"dataframe\">\n",
       "  <thead>\n",
       "    <tr style=\"text-align: right;\">\n",
       "      <th></th>\n",
       "      <th>Countries</th>\n",
       "      <th>Weekly_Case_Change</th>\n",
       "    </tr>\n",
       "  </thead>\n",
       "  <tbody>\n",
       "    <tr>\n",
       "      <th>0</th>\n",
       "      <td>Russia</td>\n",
       "      <td>-13%</td>\n",
       "    </tr>\n",
       "    <tr>\n",
       "      <th>1</th>\n",
       "      <td>USA</td>\n",
       "      <td>-60%</td>\n",
       "    </tr>\n",
       "    <tr>\n",
       "      <th>2</th>\n",
       "      <td>Australia</td>\n",
       "      <td>-19%</td>\n",
       "    </tr>\n",
       "    <tr>\n",
       "      <th>3</th>\n",
       "      <td>Chile</td>\n",
       "      <td>-57%</td>\n",
       "    </tr>\n",
       "    <tr>\n",
       "      <th>4</th>\n",
       "      <td>Hong Kong</td>\n",
       "      <td>-29%</td>\n",
       "    </tr>\n",
       "  </tbody>\n",
       "</table>\n",
       "</div>"
      ],
      "text/plain": [
       "   Countries Weekly_Case_Change\n",
       "0     Russia               -13%\n",
       "1        USA               -60%\n",
       "2  Australia               -19%\n",
       "3      Chile               -57%\n",
       "4  Hong Kong               -29%"
      ]
     },
     "execution_count": 58,
     "metadata": {},
     "output_type": "execute_result"
    }
   ],
   "source": [
    "df = pd.read_csv('covid_scrape.csv')\n",
    "df.drop(labels=['Unnamed: 0'],axis=1,inplace=True)\n",
    "df.head()"
   ]
  },
  {
   "cell_type": "markdown",
   "metadata": {},
   "source": [
    "### Classification"
   ]
  },
  {
   "cell_type": "markdown",
   "metadata": {},
   "source": [
    "#### Importing data"
   ]
  },
  {
   "cell_type": "code",
   "execution_count": 59,
   "metadata": {},
   "outputs": [],
   "source": [
    "bank_data = pd.read_csv(\"bank.csv\", delimiter = \" \", names = ['age', 'sex', 'region', 'income', 'married', 'children', 'car','save_acct', 'current_acct', 'mortgage', 'pep'])"
   ]
  },
  {
   "cell_type": "markdown",
   "metadata": {},
   "source": [
    "We have already worked with this data, the attributes:\n",
    "\n",
    "* age: age of customer in years (numeric)\n",
    "* sex: MALE / FEMALE\n",
    "* region: inner_city/rural/suburban/town\n",
    "* income: income of customer (numeric)\n",
    "* married: is the customer married (YES/NO)\n",
    "* children: number of children (numeric)\n",
    "* car: does the customer own a car (YES/NO)\n",
    "* save_acct: does the customer have a saving account (YES/NO)\n",
    "* current_acct: does the customer have a current account (YES/NO)\n",
    "* mortgage: does the customer have a mortgage (YES/NO)\n",
    "* **pep: did the customer buy a PEP (Personal Equity Plan) after the last mailing (YES/NO)**"
   ]
  },
  {
   "cell_type": "code",
   "execution_count": 60,
   "metadata": {},
   "outputs": [
    {
     "data": {
      "text/html": [
       "<div>\n",
       "<style scoped>\n",
       "    .dataframe tbody tr th:only-of-type {\n",
       "        vertical-align: middle;\n",
       "    }\n",
       "\n",
       "    .dataframe tbody tr th {\n",
       "        vertical-align: top;\n",
       "    }\n",
       "\n",
       "    .dataframe thead th {\n",
       "        text-align: right;\n",
       "    }\n",
       "</style>\n",
       "<table border=\"1\" class=\"dataframe\">\n",
       "  <thead>\n",
       "    <tr style=\"text-align: right;\">\n",
       "      <th></th>\n",
       "      <th>age</th>\n",
       "      <th>sex</th>\n",
       "      <th>region</th>\n",
       "      <th>income</th>\n",
       "      <th>married</th>\n",
       "      <th>children</th>\n",
       "      <th>car</th>\n",
       "      <th>save_acct</th>\n",
       "      <th>current_acct</th>\n",
       "      <th>mortgage</th>\n",
       "      <th>pep</th>\n",
       "    </tr>\n",
       "  </thead>\n",
       "  <tbody>\n",
       "    <tr>\n",
       "      <th>0</th>\n",
       "      <td>48</td>\n",
       "      <td>FEMALE</td>\n",
       "      <td>INNER_CITY</td>\n",
       "      <td>17546.0</td>\n",
       "      <td>NO</td>\n",
       "      <td>1</td>\n",
       "      <td>NO</td>\n",
       "      <td>NO</td>\n",
       "      <td>NO</td>\n",
       "      <td>NO</td>\n",
       "      <td>YES</td>\n",
       "    </tr>\n",
       "    <tr>\n",
       "      <th>1</th>\n",
       "      <td>40</td>\n",
       "      <td>MALE</td>\n",
       "      <td>TOWN</td>\n",
       "      <td>30085.1</td>\n",
       "      <td>YES</td>\n",
       "      <td>3</td>\n",
       "      <td>YES</td>\n",
       "      <td>NO</td>\n",
       "      <td>YES</td>\n",
       "      <td>YES</td>\n",
       "      <td>NO</td>\n",
       "    </tr>\n",
       "    <tr>\n",
       "      <th>2</th>\n",
       "      <td>51</td>\n",
       "      <td>FEMALE</td>\n",
       "      <td>INNER_CITY</td>\n",
       "      <td>16575.4</td>\n",
       "      <td>YES</td>\n",
       "      <td>0</td>\n",
       "      <td>YES</td>\n",
       "      <td>YES</td>\n",
       "      <td>YES</td>\n",
       "      <td>NO</td>\n",
       "      <td>NO</td>\n",
       "    </tr>\n",
       "    <tr>\n",
       "      <th>3</th>\n",
       "      <td>23</td>\n",
       "      <td>FEMALE</td>\n",
       "      <td>TOWN</td>\n",
       "      <td>20375.4</td>\n",
       "      <td>YES</td>\n",
       "      <td>3</td>\n",
       "      <td>NO</td>\n",
       "      <td>NO</td>\n",
       "      <td>YES</td>\n",
       "      <td>NO</td>\n",
       "      <td>NO</td>\n",
       "    </tr>\n",
       "    <tr>\n",
       "      <th>4</th>\n",
       "      <td>57</td>\n",
       "      <td>FEMALE</td>\n",
       "      <td>RURAL</td>\n",
       "      <td>50576.3</td>\n",
       "      <td>YES</td>\n",
       "      <td>0</td>\n",
       "      <td>NO</td>\n",
       "      <td>YES</td>\n",
       "      <td>NO</td>\n",
       "      <td>NO</td>\n",
       "      <td>NO</td>\n",
       "    </tr>\n",
       "  </tbody>\n",
       "</table>\n",
       "</div>"
      ],
      "text/plain": [
       "   age     sex      region   income married  children  car save_acct  \\\n",
       "0   48  FEMALE  INNER_CITY  17546.0      NO         1   NO        NO   \n",
       "1   40    MALE        TOWN  30085.1     YES         3  YES        NO   \n",
       "2   51  FEMALE  INNER_CITY  16575.4     YES         0  YES       YES   \n",
       "3   23  FEMALE        TOWN  20375.4     YES         3   NO        NO   \n",
       "4   57  FEMALE       RURAL  50576.3     YES         0   NO       YES   \n",
       "\n",
       "  current_acct mortgage  pep  \n",
       "0           NO       NO  YES  \n",
       "1          YES      YES   NO  \n",
       "2          YES       NO   NO  \n",
       "3          YES       NO   NO  \n",
       "4           NO       NO   NO  "
      ]
     },
     "execution_count": 60,
     "metadata": {},
     "output_type": "execute_result"
    }
   ],
   "source": [
    "bank_data.head()"
   ]
  },
  {
   "cell_type": "code",
   "execution_count": 61,
   "metadata": {},
   "outputs": [
    {
     "data": {
      "text/html": [
       "<div>\n",
       "<style scoped>\n",
       "    .dataframe tbody tr th:only-of-type {\n",
       "        vertical-align: middle;\n",
       "    }\n",
       "\n",
       "    .dataframe tbody tr th {\n",
       "        vertical-align: top;\n",
       "    }\n",
       "\n",
       "    .dataframe thead th {\n",
       "        text-align: right;\n",
       "    }\n",
       "</style>\n",
       "<table border=\"1\" class=\"dataframe\">\n",
       "  <thead>\n",
       "    <tr style=\"text-align: right;\">\n",
       "      <th></th>\n",
       "      <th>age</th>\n",
       "      <th>sex</th>\n",
       "      <th>region</th>\n",
       "      <th>income</th>\n",
       "      <th>married</th>\n",
       "      <th>children</th>\n",
       "      <th>car</th>\n",
       "      <th>save_acct</th>\n",
       "      <th>current_acct</th>\n",
       "      <th>mortgage</th>\n",
       "      <th>pep</th>\n",
       "    </tr>\n",
       "  </thead>\n",
       "  <tbody>\n",
       "    <tr>\n",
       "      <th>0</th>\n",
       "      <td>48</td>\n",
       "      <td>1</td>\n",
       "      <td>INNER_CITY</td>\n",
       "      <td>17546.0</td>\n",
       "      <td>0</td>\n",
       "      <td>1</td>\n",
       "      <td>0</td>\n",
       "      <td>0</td>\n",
       "      <td>0</td>\n",
       "      <td>0</td>\n",
       "      <td>1</td>\n",
       "    </tr>\n",
       "    <tr>\n",
       "      <th>1</th>\n",
       "      <td>40</td>\n",
       "      <td>0</td>\n",
       "      <td>TOWN</td>\n",
       "      <td>30085.1</td>\n",
       "      <td>1</td>\n",
       "      <td>3</td>\n",
       "      <td>1</td>\n",
       "      <td>0</td>\n",
       "      <td>1</td>\n",
       "      <td>1</td>\n",
       "      <td>0</td>\n",
       "    </tr>\n",
       "    <tr>\n",
       "      <th>2</th>\n",
       "      <td>51</td>\n",
       "      <td>1</td>\n",
       "      <td>INNER_CITY</td>\n",
       "      <td>16575.4</td>\n",
       "      <td>1</td>\n",
       "      <td>0</td>\n",
       "      <td>1</td>\n",
       "      <td>1</td>\n",
       "      <td>1</td>\n",
       "      <td>0</td>\n",
       "      <td>0</td>\n",
       "    </tr>\n",
       "    <tr>\n",
       "      <th>3</th>\n",
       "      <td>23</td>\n",
       "      <td>1</td>\n",
       "      <td>TOWN</td>\n",
       "      <td>20375.4</td>\n",
       "      <td>1</td>\n",
       "      <td>3</td>\n",
       "      <td>0</td>\n",
       "      <td>0</td>\n",
       "      <td>1</td>\n",
       "      <td>0</td>\n",
       "      <td>0</td>\n",
       "    </tr>\n",
       "    <tr>\n",
       "      <th>4</th>\n",
       "      <td>57</td>\n",
       "      <td>1</td>\n",
       "      <td>RURAL</td>\n",
       "      <td>50576.3</td>\n",
       "      <td>1</td>\n",
       "      <td>0</td>\n",
       "      <td>0</td>\n",
       "      <td>1</td>\n",
       "      <td>0</td>\n",
       "      <td>0</td>\n",
       "      <td>0</td>\n",
       "    </tr>\n",
       "  </tbody>\n",
       "</table>\n",
       "</div>"
      ],
      "text/plain": [
       "   age  sex      region   income  married  children  car  save_acct  \\\n",
       "0   48    1  INNER_CITY  17546.0        0         1    0          0   \n",
       "1   40    0        TOWN  30085.1        1         3    1          0   \n",
       "2   51    1  INNER_CITY  16575.4        1         0    1          1   \n",
       "3   23    1        TOWN  20375.4        1         3    0          0   \n",
       "4   57    1       RURAL  50576.3        1         0    0          1   \n",
       "\n",
       "   current_acct  mortgage  pep  \n",
       "0             0         0    1  \n",
       "1             1         1    0  \n",
       "2             1         0    0  \n",
       "3             1         0    0  \n",
       "4             0         0    0  "
      ]
     },
     "execution_count": 61,
     "metadata": {},
     "output_type": "execute_result"
    }
   ],
   "source": [
    "numeric_data = bank_data.replace(['NO', 'YES', 'MALE', 'FEMALE'],[0,1,0,1])\n",
    "numeric_data.head()"
   ]
  },
  {
   "cell_type": "markdown",
   "metadata": {},
   "source": [
    "### Turn categorical data into numerical data:"
   ]
  },
  {
   "cell_type": "markdown",
   "metadata": {},
   "source": [
    "With one-hot-encoding with pandas get_dummies():"
   ]
  },
  {
   "cell_type": "code",
   "execution_count": 62,
   "metadata": {},
   "outputs": [
    {
     "data": {
      "text/html": [
       "<div>\n",
       "<style scoped>\n",
       "    .dataframe tbody tr th:only-of-type {\n",
       "        vertical-align: middle;\n",
       "    }\n",
       "\n",
       "    .dataframe tbody tr th {\n",
       "        vertical-align: top;\n",
       "    }\n",
       "\n",
       "    .dataframe thead th {\n",
       "        text-align: right;\n",
       "    }\n",
       "</style>\n",
       "<table border=\"1\" class=\"dataframe\">\n",
       "  <thead>\n",
       "    <tr style=\"text-align: right;\">\n",
       "      <th></th>\n",
       "      <th>INNER_CITY</th>\n",
       "      <th>RURAL</th>\n",
       "      <th>SUBURBAN</th>\n",
       "      <th>TOWN</th>\n",
       "    </tr>\n",
       "  </thead>\n",
       "  <tbody>\n",
       "    <tr>\n",
       "      <th>0</th>\n",
       "      <td>1</td>\n",
       "      <td>0</td>\n",
       "      <td>0</td>\n",
       "      <td>0</td>\n",
       "    </tr>\n",
       "    <tr>\n",
       "      <th>1</th>\n",
       "      <td>0</td>\n",
       "      <td>0</td>\n",
       "      <td>0</td>\n",
       "      <td>1</td>\n",
       "    </tr>\n",
       "    <tr>\n",
       "      <th>2</th>\n",
       "      <td>1</td>\n",
       "      <td>0</td>\n",
       "      <td>0</td>\n",
       "      <td>0</td>\n",
       "    </tr>\n",
       "    <tr>\n",
       "      <th>3</th>\n",
       "      <td>0</td>\n",
       "      <td>0</td>\n",
       "      <td>0</td>\n",
       "      <td>1</td>\n",
       "    </tr>\n",
       "    <tr>\n",
       "      <th>4</th>\n",
       "      <td>0</td>\n",
       "      <td>1</td>\n",
       "      <td>0</td>\n",
       "      <td>0</td>\n",
       "    </tr>\n",
       "  </tbody>\n",
       "</table>\n",
       "</div>"
      ],
      "text/plain": [
       "   INNER_CITY  RURAL  SUBURBAN  TOWN\n",
       "0           1      0         0     0\n",
       "1           0      0         0     1\n",
       "2           1      0         0     0\n",
       "3           0      0         0     1\n",
       "4           0      1         0     0"
      ]
     },
     "execution_count": 62,
     "metadata": {},
     "output_type": "execute_result"
    }
   ],
   "source": [
    "one_hot = pd.get_dummies(numeric_data['region'])\n",
    "one_hot = one_hot.replace([True,False],[1,0])\n",
    "one_hot.head()"
   ]
  },
  {
   "cell_type": "markdown",
   "metadata": {},
   "source": [
    "### Unlike pandas merge(), join() combines dataframes by index, so be careful not to use it if you have changed the rows"
   ]
  },
  {
   "cell_type": "code",
   "execution_count": 63,
   "metadata": {},
   "outputs": [
    {
     "data": {
      "text/html": [
       "<div>\n",
       "<style scoped>\n",
       "    .dataframe tbody tr th:only-of-type {\n",
       "        vertical-align: middle;\n",
       "    }\n",
       "\n",
       "    .dataframe tbody tr th {\n",
       "        vertical-align: top;\n",
       "    }\n",
       "\n",
       "    .dataframe thead th {\n",
       "        text-align: right;\n",
       "    }\n",
       "</style>\n",
       "<table border=\"1\" class=\"dataframe\">\n",
       "  <thead>\n",
       "    <tr style=\"text-align: right;\">\n",
       "      <th></th>\n",
       "      <th>age</th>\n",
       "      <th>sex</th>\n",
       "      <th>income</th>\n",
       "      <th>married</th>\n",
       "      <th>children</th>\n",
       "      <th>car</th>\n",
       "      <th>save_acct</th>\n",
       "      <th>current_acct</th>\n",
       "      <th>mortgage</th>\n",
       "      <th>pep</th>\n",
       "      <th>INNER_CITY</th>\n",
       "      <th>RURAL</th>\n",
       "      <th>SUBURBAN</th>\n",
       "      <th>TOWN</th>\n",
       "    </tr>\n",
       "  </thead>\n",
       "  <tbody>\n",
       "    <tr>\n",
       "      <th>0</th>\n",
       "      <td>48</td>\n",
       "      <td>1</td>\n",
       "      <td>17546.0</td>\n",
       "      <td>0</td>\n",
       "      <td>1</td>\n",
       "      <td>0</td>\n",
       "      <td>0</td>\n",
       "      <td>0</td>\n",
       "      <td>0</td>\n",
       "      <td>1</td>\n",
       "      <td>1</td>\n",
       "      <td>0</td>\n",
       "      <td>0</td>\n",
       "      <td>0</td>\n",
       "    </tr>\n",
       "    <tr>\n",
       "      <th>1</th>\n",
       "      <td>40</td>\n",
       "      <td>0</td>\n",
       "      <td>30085.1</td>\n",
       "      <td>1</td>\n",
       "      <td>3</td>\n",
       "      <td>1</td>\n",
       "      <td>0</td>\n",
       "      <td>1</td>\n",
       "      <td>1</td>\n",
       "      <td>0</td>\n",
       "      <td>0</td>\n",
       "      <td>0</td>\n",
       "      <td>0</td>\n",
       "      <td>1</td>\n",
       "    </tr>\n",
       "    <tr>\n",
       "      <th>2</th>\n",
       "      <td>51</td>\n",
       "      <td>1</td>\n",
       "      <td>16575.4</td>\n",
       "      <td>1</td>\n",
       "      <td>0</td>\n",
       "      <td>1</td>\n",
       "      <td>1</td>\n",
       "      <td>1</td>\n",
       "      <td>0</td>\n",
       "      <td>0</td>\n",
       "      <td>1</td>\n",
       "      <td>0</td>\n",
       "      <td>0</td>\n",
       "      <td>0</td>\n",
       "    </tr>\n",
       "    <tr>\n",
       "      <th>3</th>\n",
       "      <td>23</td>\n",
       "      <td>1</td>\n",
       "      <td>20375.4</td>\n",
       "      <td>1</td>\n",
       "      <td>3</td>\n",
       "      <td>0</td>\n",
       "      <td>0</td>\n",
       "      <td>1</td>\n",
       "      <td>0</td>\n",
       "      <td>0</td>\n",
       "      <td>0</td>\n",
       "      <td>0</td>\n",
       "      <td>0</td>\n",
       "      <td>1</td>\n",
       "    </tr>\n",
       "    <tr>\n",
       "      <th>4</th>\n",
       "      <td>57</td>\n",
       "      <td>1</td>\n",
       "      <td>50576.3</td>\n",
       "      <td>1</td>\n",
       "      <td>0</td>\n",
       "      <td>0</td>\n",
       "      <td>1</td>\n",
       "      <td>0</td>\n",
       "      <td>0</td>\n",
       "      <td>0</td>\n",
       "      <td>0</td>\n",
       "      <td>1</td>\n",
       "      <td>0</td>\n",
       "      <td>0</td>\n",
       "    </tr>\n",
       "  </tbody>\n",
       "</table>\n",
       "</div>"
      ],
      "text/plain": [
       "   age  sex   income  married  children  car  save_acct  current_acct  \\\n",
       "0   48    1  17546.0        0         1    0          0             0   \n",
       "1   40    0  30085.1        1         3    1          0             1   \n",
       "2   51    1  16575.4        1         0    1          1             1   \n",
       "3   23    1  20375.4        1         3    0          0             1   \n",
       "4   57    1  50576.3        1         0    0          1             0   \n",
       "\n",
       "   mortgage  pep  INNER_CITY  RURAL  SUBURBAN  TOWN  \n",
       "0         0    1           1      0         0     0  \n",
       "1         1    0           0      0         0     1  \n",
       "2         0    0           1      0         0     0  \n",
       "3         0    0           0      0         0     1  \n",
       "4         0    0           0      1         0     0  "
      ]
     },
     "execution_count": 63,
     "metadata": {},
     "output_type": "execute_result"
    }
   ],
   "source": [
    "numeric_data = numeric_data.drop('region', axis = 1)\n",
    "numeric_data = numeric_data.join(one_hot)\n",
    "numeric_data.head()"
   ]
  },
  {
   "cell_type": "markdown",
   "metadata": {},
   "source": [
    "#### Introducing scikit-learn"
   ]
  },
  {
   "cell_type": "code",
   "execution_count": 64,
   "metadata": {},
   "outputs": [
    {
     "name": "stderr",
     "output_type": "stream",
     "text": [
      "C:\\Users\\ogiev\\AppData\\Local\\Temp\\ipykernel_17164\\78367304.py:1: DeprecationWarning: Importing display from IPython.core.display is deprecated since IPython 7.14, please import from IPython display\n",
      "  from IPython.core.display import Image, display\n",
      "C:\\Users\\ogiev\\anaconda3\\Lib\\site-packages\\IPython\\core\\display.py:431: UserWarning: Consider using IPython.display.IFrame instead\n",
      "  warnings.warn(\"Consider using IPython.display.IFrame instead\")\n"
     ]
    },
    {
     "data": {
      "text/html": [
       "<iframe src=http://scikit-learn.org/stable/ width=1000 height=400></iframe>"
      ],
      "text/plain": [
       "<IPython.core.display.HTML object>"
      ]
     },
     "execution_count": 64,
     "metadata": {},
     "output_type": "execute_result"
    }
   ],
   "source": [
    "from IPython.core.display import Image, display\n",
    "from IPython.core.display import HTML\n",
    "HTML('<iframe src=http://scikit-learn.org/stable/ width=1000 height=400></iframe>')"
   ]
  },
  {
   "cell_type": "markdown",
   "metadata": {},
   "source": [
    "Scikit-learn cheat sheet"
   ]
  },
  {
   "cell_type": "code",
   "execution_count": 65,
   "metadata": {},
   "outputs": [
    {
     "data": {
      "text/html": [
       "<iframe src=https://s3.amazonaws.com/assets.datacamp.com/blog_assets/Scikit_Learn_Cheat_Sheet_Python.pdf width=1000 height=400></iframe>"
      ],
      "text/plain": [
       "<IPython.core.display.HTML object>"
      ]
     },
     "execution_count": 65,
     "metadata": {},
     "output_type": "execute_result"
    }
   ],
   "source": [
    "HTML('<iframe src=https://s3.amazonaws.com/assets.datacamp.com/blog_assets/Scikit_Learn_Cheat_Sheet_Python.pdf width=1000 height=400></iframe>')"
   ]
  },
  {
   "cell_type": "markdown",
   "metadata": {},
   "source": [
    "Machine learning with sci-kit learn:\n",
    "\n",
    "1. Define the model!\n",
    "```python\n",
    "clf = LogisticRegression()\n",
    "```\n",
    "\n",
    "2. Fit the model!\n",
    "```python\n",
    "clf.fit(X_train, y_train)\n",
    "```\n",
    "\n",
    "3. Use the model for prediction!\n",
    "```python\n",
    "clf.predict(X_test)\n",
    "```"
   ]
  },
  {
   "cell_type": "markdown",
   "metadata": {},
   "source": [
    "**Preparing the label (\"y\", \"target variable\") and the other attributes**"
   ]
  },
  {
   "cell_type": "markdown",
   "metadata": {},
   "source": [
    "For the bank dataset, our aim is to predict the PEP value "
   ]
  },
  {
   "cell_type": "code",
   "execution_count": 66,
   "metadata": {},
   "outputs": [
    {
     "data": {
      "text/html": [
       "<div>\n",
       "<style scoped>\n",
       "    .dataframe tbody tr th:only-of-type {\n",
       "        vertical-align: middle;\n",
       "    }\n",
       "\n",
       "    .dataframe tbody tr th {\n",
       "        vertical-align: top;\n",
       "    }\n",
       "\n",
       "    .dataframe thead th {\n",
       "        text-align: right;\n",
       "    }\n",
       "</style>\n",
       "<table border=\"1\" class=\"dataframe\">\n",
       "  <thead>\n",
       "    <tr style=\"text-align: right;\">\n",
       "      <th></th>\n",
       "      <th>age</th>\n",
       "      <th>sex</th>\n",
       "      <th>income</th>\n",
       "      <th>married</th>\n",
       "      <th>children</th>\n",
       "      <th>car</th>\n",
       "      <th>save_acct</th>\n",
       "      <th>current_acct</th>\n",
       "      <th>mortgage</th>\n",
       "      <th>pep</th>\n",
       "      <th>INNER_CITY</th>\n",
       "      <th>RURAL</th>\n",
       "      <th>SUBURBAN</th>\n",
       "      <th>TOWN</th>\n",
       "    </tr>\n",
       "  </thead>\n",
       "  <tbody>\n",
       "    <tr>\n",
       "      <th>0</th>\n",
       "      <td>48</td>\n",
       "      <td>1</td>\n",
       "      <td>17546.00</td>\n",
       "      <td>0</td>\n",
       "      <td>1</td>\n",
       "      <td>0</td>\n",
       "      <td>0</td>\n",
       "      <td>0</td>\n",
       "      <td>0</td>\n",
       "      <td>1</td>\n",
       "      <td>1</td>\n",
       "      <td>0</td>\n",
       "      <td>0</td>\n",
       "      <td>0</td>\n",
       "    </tr>\n",
       "    <tr>\n",
       "      <th>1</th>\n",
       "      <td>40</td>\n",
       "      <td>0</td>\n",
       "      <td>30085.10</td>\n",
       "      <td>1</td>\n",
       "      <td>3</td>\n",
       "      <td>1</td>\n",
       "      <td>0</td>\n",
       "      <td>1</td>\n",
       "      <td>1</td>\n",
       "      <td>0</td>\n",
       "      <td>0</td>\n",
       "      <td>0</td>\n",
       "      <td>0</td>\n",
       "      <td>1</td>\n",
       "    </tr>\n",
       "    <tr>\n",
       "      <th>2</th>\n",
       "      <td>51</td>\n",
       "      <td>1</td>\n",
       "      <td>16575.40</td>\n",
       "      <td>1</td>\n",
       "      <td>0</td>\n",
       "      <td>1</td>\n",
       "      <td>1</td>\n",
       "      <td>1</td>\n",
       "      <td>0</td>\n",
       "      <td>0</td>\n",
       "      <td>1</td>\n",
       "      <td>0</td>\n",
       "      <td>0</td>\n",
       "      <td>0</td>\n",
       "    </tr>\n",
       "    <tr>\n",
       "      <th>3</th>\n",
       "      <td>23</td>\n",
       "      <td>1</td>\n",
       "      <td>20375.40</td>\n",
       "      <td>1</td>\n",
       "      <td>3</td>\n",
       "      <td>0</td>\n",
       "      <td>0</td>\n",
       "      <td>1</td>\n",
       "      <td>0</td>\n",
       "      <td>0</td>\n",
       "      <td>0</td>\n",
       "      <td>0</td>\n",
       "      <td>0</td>\n",
       "      <td>1</td>\n",
       "    </tr>\n",
       "    <tr>\n",
       "      <th>4</th>\n",
       "      <td>57</td>\n",
       "      <td>1</td>\n",
       "      <td>50576.30</td>\n",
       "      <td>1</td>\n",
       "      <td>0</td>\n",
       "      <td>0</td>\n",
       "      <td>1</td>\n",
       "      <td>0</td>\n",
       "      <td>0</td>\n",
       "      <td>0</td>\n",
       "      <td>0</td>\n",
       "      <td>1</td>\n",
       "      <td>0</td>\n",
       "      <td>0</td>\n",
       "    </tr>\n",
       "    <tr>\n",
       "      <th>...</th>\n",
       "      <td>...</td>\n",
       "      <td>...</td>\n",
       "      <td>...</td>\n",
       "      <td>...</td>\n",
       "      <td>...</td>\n",
       "      <td>...</td>\n",
       "      <td>...</td>\n",
       "      <td>...</td>\n",
       "      <td>...</td>\n",
       "      <td>...</td>\n",
       "      <td>...</td>\n",
       "      <td>...</td>\n",
       "      <td>...</td>\n",
       "      <td>...</td>\n",
       "    </tr>\n",
       "    <tr>\n",
       "      <th>595</th>\n",
       "      <td>61</td>\n",
       "      <td>1</td>\n",
       "      <td>47025.00</td>\n",
       "      <td>0</td>\n",
       "      <td>2</td>\n",
       "      <td>1</td>\n",
       "      <td>1</td>\n",
       "      <td>1</td>\n",
       "      <td>1</td>\n",
       "      <td>0</td>\n",
       "      <td>1</td>\n",
       "      <td>0</td>\n",
       "      <td>0</td>\n",
       "      <td>0</td>\n",
       "    </tr>\n",
       "    <tr>\n",
       "      <th>596</th>\n",
       "      <td>30</td>\n",
       "      <td>1</td>\n",
       "      <td>9672.25</td>\n",
       "      <td>1</td>\n",
       "      <td>0</td>\n",
       "      <td>1</td>\n",
       "      <td>1</td>\n",
       "      <td>1</td>\n",
       "      <td>0</td>\n",
       "      <td>0</td>\n",
       "      <td>1</td>\n",
       "      <td>0</td>\n",
       "      <td>0</td>\n",
       "      <td>0</td>\n",
       "    </tr>\n",
       "    <tr>\n",
       "      <th>597</th>\n",
       "      <td>31</td>\n",
       "      <td>1</td>\n",
       "      <td>15976.30</td>\n",
       "      <td>1</td>\n",
       "      <td>0</td>\n",
       "      <td>1</td>\n",
       "      <td>1</td>\n",
       "      <td>0</td>\n",
       "      <td>0</td>\n",
       "      <td>1</td>\n",
       "      <td>0</td>\n",
       "      <td>0</td>\n",
       "      <td>0</td>\n",
       "      <td>1</td>\n",
       "    </tr>\n",
       "    <tr>\n",
       "      <th>598</th>\n",
       "      <td>29</td>\n",
       "      <td>0</td>\n",
       "      <td>14711.80</td>\n",
       "      <td>1</td>\n",
       "      <td>0</td>\n",
       "      <td>0</td>\n",
       "      <td>1</td>\n",
       "      <td>0</td>\n",
       "      <td>1</td>\n",
       "      <td>0</td>\n",
       "      <td>1</td>\n",
       "      <td>0</td>\n",
       "      <td>0</td>\n",
       "      <td>0</td>\n",
       "    </tr>\n",
       "    <tr>\n",
       "      <th>599</th>\n",
       "      <td>38</td>\n",
       "      <td>0</td>\n",
       "      <td>26671.60</td>\n",
       "      <td>0</td>\n",
       "      <td>0</td>\n",
       "      <td>1</td>\n",
       "      <td>0</td>\n",
       "      <td>1</td>\n",
       "      <td>1</td>\n",
       "      <td>1</td>\n",
       "      <td>0</td>\n",
       "      <td>0</td>\n",
       "      <td>0</td>\n",
       "      <td>1</td>\n",
       "    </tr>\n",
       "  </tbody>\n",
       "</table>\n",
       "<p>600 rows × 14 columns</p>\n",
       "</div>"
      ],
      "text/plain": [
       "     age  sex    income  married  children  car  save_acct  current_acct  \\\n",
       "0     48    1  17546.00        0         1    0          0             0   \n",
       "1     40    0  30085.10        1         3    1          0             1   \n",
       "2     51    1  16575.40        1         0    1          1             1   \n",
       "3     23    1  20375.40        1         3    0          0             1   \n",
       "4     57    1  50576.30        1         0    0          1             0   \n",
       "..   ...  ...       ...      ...       ...  ...        ...           ...   \n",
       "595   61    1  47025.00        0         2    1          1             1   \n",
       "596   30    1   9672.25        1         0    1          1             1   \n",
       "597   31    1  15976.30        1         0    1          1             0   \n",
       "598   29    0  14711.80        1         0    0          1             0   \n",
       "599   38    0  26671.60        0         0    1          0             1   \n",
       "\n",
       "     mortgage  pep  INNER_CITY  RURAL  SUBURBAN  TOWN  \n",
       "0           0    1           1      0         0     0  \n",
       "1           1    0           0      0         0     1  \n",
       "2           0    0           1      0         0     0  \n",
       "3           0    0           0      0         0     1  \n",
       "4           0    0           0      1         0     0  \n",
       "..        ...  ...         ...    ...       ...   ...  \n",
       "595         1    0           1      0         0     0  \n",
       "596         0    0           1      0         0     0  \n",
       "597         0    1           0      0         0     1  \n",
       "598         1    0           1      0         0     0  \n",
       "599         1    1           0      0         0     1  \n",
       "\n",
       "[600 rows x 14 columns]"
      ]
     },
     "execution_count": 66,
     "metadata": {},
     "output_type": "execute_result"
    }
   ],
   "source": [
    "numeric_data"
   ]
  },
  {
   "cell_type": "code",
   "execution_count": 67,
   "metadata": {},
   "outputs": [],
   "source": [
    "bank_labels = numeric_data['pep']"
   ]
  },
  {
   "cell_type": "code",
   "execution_count": 68,
   "metadata": {},
   "outputs": [],
   "source": [
    "bank_attrs = numeric_data.drop('pep', axis=1)"
   ]
  },
  {
   "cell_type": "code",
   "execution_count": 69,
   "metadata": {},
   "outputs": [
    {
     "data": {
      "text/html": [
       "<div>\n",
       "<style scoped>\n",
       "    .dataframe tbody tr th:only-of-type {\n",
       "        vertical-align: middle;\n",
       "    }\n",
       "\n",
       "    .dataframe tbody tr th {\n",
       "        vertical-align: top;\n",
       "    }\n",
       "\n",
       "    .dataframe thead th {\n",
       "        text-align: right;\n",
       "    }\n",
       "</style>\n",
       "<table border=\"1\" class=\"dataframe\">\n",
       "  <thead>\n",
       "    <tr style=\"text-align: right;\">\n",
       "      <th></th>\n",
       "      <th>age</th>\n",
       "      <th>sex</th>\n",
       "      <th>income</th>\n",
       "      <th>married</th>\n",
       "      <th>children</th>\n",
       "      <th>car</th>\n",
       "      <th>save_acct</th>\n",
       "      <th>current_acct</th>\n",
       "      <th>mortgage</th>\n",
       "      <th>INNER_CITY</th>\n",
       "      <th>RURAL</th>\n",
       "      <th>SUBURBAN</th>\n",
       "      <th>TOWN</th>\n",
       "    </tr>\n",
       "  </thead>\n",
       "  <tbody>\n",
       "    <tr>\n",
       "      <th>0</th>\n",
       "      <td>48</td>\n",
       "      <td>1</td>\n",
       "      <td>17546.0</td>\n",
       "      <td>0</td>\n",
       "      <td>1</td>\n",
       "      <td>0</td>\n",
       "      <td>0</td>\n",
       "      <td>0</td>\n",
       "      <td>0</td>\n",
       "      <td>1</td>\n",
       "      <td>0</td>\n",
       "      <td>0</td>\n",
       "      <td>0</td>\n",
       "    </tr>\n",
       "    <tr>\n",
       "      <th>1</th>\n",
       "      <td>40</td>\n",
       "      <td>0</td>\n",
       "      <td>30085.1</td>\n",
       "      <td>1</td>\n",
       "      <td>3</td>\n",
       "      <td>1</td>\n",
       "      <td>0</td>\n",
       "      <td>1</td>\n",
       "      <td>1</td>\n",
       "      <td>0</td>\n",
       "      <td>0</td>\n",
       "      <td>0</td>\n",
       "      <td>1</td>\n",
       "    </tr>\n",
       "    <tr>\n",
       "      <th>2</th>\n",
       "      <td>51</td>\n",
       "      <td>1</td>\n",
       "      <td>16575.4</td>\n",
       "      <td>1</td>\n",
       "      <td>0</td>\n",
       "      <td>1</td>\n",
       "      <td>1</td>\n",
       "      <td>1</td>\n",
       "      <td>0</td>\n",
       "      <td>1</td>\n",
       "      <td>0</td>\n",
       "      <td>0</td>\n",
       "      <td>0</td>\n",
       "    </tr>\n",
       "    <tr>\n",
       "      <th>3</th>\n",
       "      <td>23</td>\n",
       "      <td>1</td>\n",
       "      <td>20375.4</td>\n",
       "      <td>1</td>\n",
       "      <td>3</td>\n",
       "      <td>0</td>\n",
       "      <td>0</td>\n",
       "      <td>1</td>\n",
       "      <td>0</td>\n",
       "      <td>0</td>\n",
       "      <td>0</td>\n",
       "      <td>0</td>\n",
       "      <td>1</td>\n",
       "    </tr>\n",
       "    <tr>\n",
       "      <th>4</th>\n",
       "      <td>57</td>\n",
       "      <td>1</td>\n",
       "      <td>50576.3</td>\n",
       "      <td>1</td>\n",
       "      <td>0</td>\n",
       "      <td>0</td>\n",
       "      <td>1</td>\n",
       "      <td>0</td>\n",
       "      <td>0</td>\n",
       "      <td>0</td>\n",
       "      <td>1</td>\n",
       "      <td>0</td>\n",
       "      <td>0</td>\n",
       "    </tr>\n",
       "  </tbody>\n",
       "</table>\n",
       "</div>"
      ],
      "text/plain": [
       "   age  sex   income  married  children  car  save_acct  current_acct  \\\n",
       "0   48    1  17546.0        0         1    0          0             0   \n",
       "1   40    0  30085.1        1         3    1          0             1   \n",
       "2   51    1  16575.4        1         0    1          1             1   \n",
       "3   23    1  20375.4        1         3    0          0             1   \n",
       "4   57    1  50576.3        1         0    0          1             0   \n",
       "\n",
       "   mortgage  INNER_CITY  RURAL  SUBURBAN  TOWN  \n",
       "0         0           1      0         0     0  \n",
       "1         1           0      0         0     1  \n",
       "2         0           1      0         0     0  \n",
       "3         0           0      0         0     1  \n",
       "4         0           0      1         0     0  "
      ]
     },
     "execution_count": 69,
     "metadata": {},
     "output_type": "execute_result"
    }
   ],
   "source": [
    "bank_attrs.head()"
   ]
  },
  {
   "cell_type": "markdown",
   "metadata": {},
   "source": [
    "Import the classifier we will be using, the sklearn's metrics with helpful functions to evaluate the performance of our model and sklearn's train_test_split to randomly select what portion of our data will be in the train set and the test set"
   ]
  },
  {
   "cell_type": "code",
   "execution_count": 70,
   "metadata": {},
   "outputs": [],
   "source": [
    "from sklearn.neighbors import KNeighborsClassifier\n",
    "from sklearn import metrics\n",
    "from sklearn.model_selection import train_test_split"
   ]
  },
  {
   "cell_type": "markdown",
   "metadata": {},
   "source": [
    "**Splitting the data (features and lables) to train and test data**"
   ]
  },
  {
   "cell_type": "code",
   "execution_count": 71,
   "metadata": {},
   "outputs": [],
   "source": [
    "bank_features_train, bank_features_test, bank_labels_train, bank_labels_test = train_test_split(bank_attrs, bank_labels, test_size=0.25, random_state=42)"
   ]
  },
  {
   "cell_type": "markdown",
   "metadata": {},
   "source": [
    "**Initiate and fit the kNN model** "
   ]
  },
  {
   "cell_type": "markdown",
   "metadata": {},
   "source": [
    "Choosing parameters, such as # nearest neighbors\n",
    "\n",
    "<img src=\"knn.jpg\" width=400 height=400 />"
   ]
  },
  {
   "cell_type": "code",
   "execution_count": 72,
   "metadata": {},
   "outputs": [
    {
     "data": {
      "text/html": [
       "<style>#sk-container-id-1 {color: black;}#sk-container-id-1 pre{padding: 0;}#sk-container-id-1 div.sk-toggleable {background-color: white;}#sk-container-id-1 label.sk-toggleable__label {cursor: pointer;display: block;width: 100%;margin-bottom: 0;padding: 0.3em;box-sizing: border-box;text-align: center;}#sk-container-id-1 label.sk-toggleable__label-arrow:before {content: \"▸\";float: left;margin-right: 0.25em;color: #696969;}#sk-container-id-1 label.sk-toggleable__label-arrow:hover:before {color: black;}#sk-container-id-1 div.sk-estimator:hover label.sk-toggleable__label-arrow:before {color: black;}#sk-container-id-1 div.sk-toggleable__content {max-height: 0;max-width: 0;overflow: hidden;text-align: left;background-color: #f0f8ff;}#sk-container-id-1 div.sk-toggleable__content pre {margin: 0.2em;color: black;border-radius: 0.25em;background-color: #f0f8ff;}#sk-container-id-1 input.sk-toggleable__control:checked~div.sk-toggleable__content {max-height: 200px;max-width: 100%;overflow: auto;}#sk-container-id-1 input.sk-toggleable__control:checked~label.sk-toggleable__label-arrow:before {content: \"▾\";}#sk-container-id-1 div.sk-estimator input.sk-toggleable__control:checked~label.sk-toggleable__label {background-color: #d4ebff;}#sk-container-id-1 div.sk-label input.sk-toggleable__control:checked~label.sk-toggleable__label {background-color: #d4ebff;}#sk-container-id-1 input.sk-hidden--visually {border: 0;clip: rect(1px 1px 1px 1px);clip: rect(1px, 1px, 1px, 1px);height: 1px;margin: -1px;overflow: hidden;padding: 0;position: absolute;width: 1px;}#sk-container-id-1 div.sk-estimator {font-family: monospace;background-color: #f0f8ff;border: 1px dotted black;border-radius: 0.25em;box-sizing: border-box;margin-bottom: 0.5em;}#sk-container-id-1 div.sk-estimator:hover {background-color: #d4ebff;}#sk-container-id-1 div.sk-parallel-item::after {content: \"\";width: 100%;border-bottom: 1px solid gray;flex-grow: 1;}#sk-container-id-1 div.sk-label:hover label.sk-toggleable__label {background-color: #d4ebff;}#sk-container-id-1 div.sk-serial::before {content: \"\";position: absolute;border-left: 1px solid gray;box-sizing: border-box;top: 0;bottom: 0;left: 50%;z-index: 0;}#sk-container-id-1 div.sk-serial {display: flex;flex-direction: column;align-items: center;background-color: white;padding-right: 0.2em;padding-left: 0.2em;position: relative;}#sk-container-id-1 div.sk-item {position: relative;z-index: 1;}#sk-container-id-1 div.sk-parallel {display: flex;align-items: stretch;justify-content: center;background-color: white;position: relative;}#sk-container-id-1 div.sk-item::before, #sk-container-id-1 div.sk-parallel-item::before {content: \"\";position: absolute;border-left: 1px solid gray;box-sizing: border-box;top: 0;bottom: 0;left: 50%;z-index: -1;}#sk-container-id-1 div.sk-parallel-item {display: flex;flex-direction: column;z-index: 1;position: relative;background-color: white;}#sk-container-id-1 div.sk-parallel-item:first-child::after {align-self: flex-end;width: 50%;}#sk-container-id-1 div.sk-parallel-item:last-child::after {align-self: flex-start;width: 50%;}#sk-container-id-1 div.sk-parallel-item:only-child::after {width: 0;}#sk-container-id-1 div.sk-dashed-wrapped {border: 1px dashed gray;margin: 0 0.4em 0.5em 0.4em;box-sizing: border-box;padding-bottom: 0.4em;background-color: white;}#sk-container-id-1 div.sk-label label {font-family: monospace;font-weight: bold;display: inline-block;line-height: 1.2em;}#sk-container-id-1 div.sk-label-container {text-align: center;}#sk-container-id-1 div.sk-container {/* jupyter's `normalize.less` sets `[hidden] { display: none; }` but bootstrap.min.css set `[hidden] { display: none !important; }` so we also need the `!important` here to be able to override the default hidden behavior on the sphinx rendered scikit-learn.org. See: https://github.com/scikit-learn/scikit-learn/issues/21755 */display: inline-block !important;position: relative;}#sk-container-id-1 div.sk-text-repr-fallback {display: none;}</style><div id=\"sk-container-id-1\" class=\"sk-top-container\"><div class=\"sk-text-repr-fallback\"><pre>KNeighborsClassifier(metric=&#x27;euclidean&#x27;, n_neighbors=11)</pre><b>In a Jupyter environment, please rerun this cell to show the HTML representation or trust the notebook. <br />On GitHub, the HTML representation is unable to render, please try loading this page with nbviewer.org.</b></div><div class=\"sk-container\" hidden><div class=\"sk-item\"><div class=\"sk-estimator sk-toggleable\"><input class=\"sk-toggleable__control sk-hidden--visually\" id=\"sk-estimator-id-1\" type=\"checkbox\" checked><label for=\"sk-estimator-id-1\" class=\"sk-toggleable__label sk-toggleable__label-arrow\">KNeighborsClassifier</label><div class=\"sk-toggleable__content\"><pre>KNeighborsClassifier(metric=&#x27;euclidean&#x27;, n_neighbors=11)</pre></div></div></div></div></div>"
      ],
      "text/plain": [
       "KNeighborsClassifier(metric='euclidean', n_neighbors=11)"
      ]
     },
     "execution_count": 72,
     "metadata": {},
     "output_type": "execute_result"
    }
   ],
   "source": [
    "neigh = KNeighborsClassifier(n_neighbors=11, metric=\"euclidean\")\n",
    "neigh.fit(bank_features_train,bank_labels_train)"
   ]
  },
  {
   "cell_type": "markdown",
   "metadata": {},
   "source": [
    "In HW02, you will train a decision tree model. <span style=\"color:red\">What parameters might a decision tree model have?</span> Parameter optimization: choosing the best value for these parameters can be tricky."
   ]
  },
  {
   "cell_type": "markdown",
   "metadata": {},
   "source": [
    "**Prediction**"
   ]
  },
  {
   "cell_type": "code",
   "execution_count": 73,
   "metadata": {},
   "outputs": [
    {
     "data": {
      "text/plain": [
       "array([1, 0, 0, 1, 1, 0, 1, 1, 0, 0, 0, 0, 0, 1, 1, 0, 1, 0, 0, 0, 1, 0,\n",
       "       0, 0, 0, 0, 0, 0, 1, 1, 1, 0, 0, 0, 1, 1, 0, 0, 0, 0, 1, 0, 1, 1,\n",
       "       0, 1, 0, 1, 0, 0, 1, 0, 0, 0, 1, 1, 0, 0, 0, 1, 0, 1, 1, 1, 0, 0,\n",
       "       0, 0, 0, 0, 1, 0, 0, 1, 0, 1, 1, 1, 0, 0, 0, 1, 0, 0, 1, 0, 0, 0,\n",
       "       1, 0, 0, 0, 0, 0, 0, 0, 0, 0, 1, 1, 0, 0, 0, 1, 1, 1, 1, 0, 1, 1,\n",
       "       1, 0, 1, 0, 0, 0, 0, 0, 0, 0, 1, 0, 1, 0, 1, 0, 0, 0, 1, 0, 0, 0,\n",
       "       1, 0, 0, 1, 1, 1, 0, 0, 0, 0, 0, 1, 1, 0, 0, 1, 1, 0], dtype=int64)"
      ]
     },
     "execution_count": 73,
     "metadata": {},
     "output_type": "execute_result"
    }
   ],
   "source": [
    "predictions_binary = neigh.predict(bank_features_test)\n",
    "predictions_binary"
   ]
  },
  {
   "cell_type": "code",
   "execution_count": 74,
   "metadata": {},
   "outputs": [
    {
     "data": {
      "text/plain": [
       "110    1\n",
       "419    0\n",
       "565    0\n",
       "77     1\n",
       "181    1\n",
       "Name: pep, dtype: int64"
      ]
     },
     "execution_count": 74,
     "metadata": {},
     "output_type": "execute_result"
    }
   ],
   "source": [
    "bank_labels_test[0:5]"
   ]
  },
  {
   "cell_type": "code",
   "execution_count": 75,
   "metadata": {},
   "outputs": [
    {
     "data": {
      "text/plain": [
       "array([[0.18181818, 0.81818182],\n",
       "       [0.81818182, 0.18181818],\n",
       "       [0.81818182, 0.18181818],\n",
       "       [0.36363636, 0.63636364],\n",
       "       [0.18181818, 0.81818182]])"
      ]
     },
     "execution_count": 75,
     "metadata": {},
     "output_type": "execute_result"
    }
   ],
   "source": [
    "predictions_proba = neigh.predict_proba(bank_features_test)\n",
    "predictions_proba[0:5]"
   ]
  },
  {
   "cell_type": "markdown",
   "metadata": {},
   "source": [
    "**Evaluation**"
   ]
  },
  {
   "cell_type": "markdown",
   "metadata": {},
   "source": [
    "**Confusion Matrix**"
   ]
  },
  {
   "cell_type": "code",
   "execution_count": 77,
   "metadata": {},
   "outputs": [
    {
     "data": {
      "image/png": "[encoded data removed]",
      "text/plain": [
       "<Figure size 640x480 with 2 Axes>"
      ]
     },
     "metadata": {},
     "output_type": "display_data"
    }
   ],
   "source": [
    "import matplotlib.pyplot as plt\n",
    "\n",
    "cm = metrics.confusion_matrix(bank_labels_test,predictions_binary)\n",
    "disp = metrics.ConfusionMatrixDisplay(confusion_matrix=cm, display_labels=neigh.classes_)\n",
    "disp.plot()\n",
    "plt.show()"
   ]
  },
  {
   "cell_type": "markdown",
   "metadata": {},
   "source": [
    "<p style=\"color:red\">Which cell of the confusion matrix represents which term? </p>"
   ]
  },
  {
   "cell_type": "markdown",
   "metadata": {},
   "source": [
    "**Precision, Recall, Accuracy**"
   ]
  },
  {
   "cell_type": "code",
   "execution_count": 78,
   "metadata": {},
   "outputs": [
    {
     "name": "stdout",
     "output_type": "stream",
     "text": [
      "Precision:  0.5178571428571429\n",
      "Recall:  0.42028985507246375\n",
      "Accuracy:  0.5533333333333333\n"
     ]
    }
   ],
   "source": [
    "print(\"Precision: \", metrics.precision_score(bank_labels_test,predictions_binary))\n",
    "print(\"Recall: \", metrics.recall_score(bank_labels_test,predictions_binary))\n",
    "print(\"Accuracy: \", metrics.accuracy_score(bank_labels_test,predictions_binary))"
   ]
  },
  {
   "cell_type": "markdown",
   "metadata": {},
   "source": [
    "<p style=\"color:red\">How would you calculate precision, recall and accuracy from the confusion matrix?</p>"
   ]
  },
  {
   "cell_type": "markdown",
   "metadata": {},
   "source": [
    "**ROC, AUC on a small example**"
   ]
  },
  {
   "cell_type": "code",
   "execution_count": 79,
   "metadata": {},
   "outputs": [],
   "source": [
    "y_true = [1,0,1,0,0,0,1,0,1,1]\n",
    "y_score = [0.25,0.43,0.53,0.76,0.85,0.85,0.85,0.87,0.93,0.95]\n",
    "# y_score = [1,0,1,1,0,0,1,0,1,0]\n",
    "fpr, tpr, thresholds = metrics.roc_curve(y_true, y_score, pos_label=1, sample_weight=None)"
   ]
  },
  {
   "cell_type": "code",
   "execution_count": 80,
   "metadata": {},
   "outputs": [
    {
     "data": {
      "text/plain": [
       "array([0. , 0.2, 0.4, 0.4, 0.6, 0.6, 0.8, 0.8, 1. ])"
      ]
     },
     "execution_count": 80,
     "metadata": {},
     "output_type": "execute_result"
    }
   ],
   "source": [
    "tpr"
   ]
  },
  {
   "cell_type": "code",
   "execution_count": 81,
   "metadata": {},
   "outputs": [
    {
     "data": {
      "text/plain": [
       "(0.0, 1.0)"
      ]
     },
     "execution_count": 81,
     "metadata": {},
     "output_type": "execute_result"
    },
    {
     "data": {
      "image/png": "[encoded data removed]",
      "text/plain": [
       "<Figure size 500x500 with 1 Axes>"
      ]
     },
     "metadata": {},
     "output_type": "display_data"
    }
   ],
   "source": [
    "import matplotlib\n",
    "import matplotlib.pyplot as plt\n",
    "%matplotlib inline  \n",
    "\n",
    "plt.figure(figsize=(5,5))\n",
    "plt.plot(fpr,tpr,linewidth=2.0)\n",
    "plt.xlabel('False positive rate')\n",
    "plt.ylabel('True positive rate')\n",
    "plt.xlim([0,1])\n",
    "plt.ylim([0,1])"
   ]
  },
  {
   "cell_type": "markdown",
   "metadata": {},
   "source": [
    "We can also compute the area under the ROC curve"
   ]
  },
  {
   "cell_type": "code",
   "execution_count": 82,
   "metadata": {},
   "outputs": [
    {
     "data": {
      "text/plain": [
       "0.56"
      ]
     },
     "execution_count": 82,
     "metadata": {},
     "output_type": "execute_result"
    }
   ],
   "source": [
    "metrics.roc_auc_score(y_true, y_score)"
   ]
  },
  {
   "cell_type": "markdown",
   "metadata": {},
   "source": [
    "**ROC and AUC on Bank dataset**"
   ]
  },
  {
   "cell_type": "markdown",
   "metadata": {},
   "source": [
    "For the binary class predictions"
   ]
  },
  {
   "cell_type": "code",
   "execution_count": 83,
   "metadata": {},
   "outputs": [],
   "source": [
    "fpr, tpr, thresholds = metrics.roc_curve(bank_labels_test, predictions_binary, pos_label=1, sample_weight=None)"
   ]
  },
  {
   "cell_type": "code",
   "execution_count": 84,
   "metadata": {},
   "outputs": [
    {
     "data": {
      "text/plain": [
       "(0.0, 1.0)"
      ]
     },
     "execution_count": 84,
     "metadata": {},
     "output_type": "execute_result"
    },
    {
     "data": {
      "image/png": "[encoded data removed]",
      "text/plain": [
       "<Figure size 500x500 with 1 Axes>"
      ]
     },
     "metadata": {},
     "output_type": "display_data"
    }
   ],
   "source": [
    "plt.figure(figsize=(5,5))\n",
    "plt.plot(fpr,tpr,linewidth=2.0)\n",
    "plt.xlabel('False positive rate')\n",
    "plt.ylabel('True positive rate')\n",
    "plt.xlim([0,1])\n",
    "plt.ylim([0,1])"
   ]
  },
  {
   "cell_type": "code",
   "execution_count": 85,
   "metadata": {},
   "outputs": [
    {
     "data": {
      "text/plain": [
       "0.5434782608695653"
      ]
     },
     "execution_count": 85,
     "metadata": {},
     "output_type": "execute_result"
    }
   ],
   "source": [
    "metrics.roc_auc_score(bank_labels_test,predictions_binary, sample_weight=None)"
   ]
  },
  {
   "cell_type": "markdown",
   "metadata": {},
   "source": [
    "<p style=\"color:red;\">What is the AUC score of a completely random classifier?</p>"
   ]
  },
  {
   "cell_type": "markdown",
   "metadata": {},
   "source": [
    "For the probability class predictions"
   ]
  },
  {
   "cell_type": "code",
   "execution_count": 86,
   "metadata": {},
   "outputs": [],
   "source": [
    "fpr, tpr, thresholds = metrics.roc_curve(bank_labels_test, predictions_proba[:,1], pos_label=1, sample_weight=None)"
   ]
  },
  {
   "cell_type": "code",
   "execution_count": 87,
   "metadata": {},
   "outputs": [
    {
     "data": {
      "text/plain": [
       "(0.0, 1.0)"
      ]
     },
     "execution_count": 87,
     "metadata": {},
     "output_type": "execute_result"
    },
    {
     "data": {
      "image/png": "[encoded data removed]",
      "text/plain": [
       "<Figure size 500x500 with 1 Axes>"
      ]
     },
     "metadata": {},
     "output_type": "display_data"
    }
   ],
   "source": [
    "plt.figure(figsize=(5,5))\n",
    "plt.plot(fpr,tpr,linewidth=2.0)\n",
    "plt.xlabel('False positive rate')\n",
    "plt.ylabel('True positive rate')\n",
    "plt.xlim([0,1])\n",
    "plt.ylim([0,1])"
   ]
  },
  {
   "cell_type": "code",
   "execution_count": 88,
   "metadata": {},
   "outputs": [
    {
     "data": {
      "text/plain": [
       "0.554660941134371"
      ]
     },
     "execution_count": 88,
     "metadata": {},
     "output_type": "execute_result"
    }
   ],
   "source": [
    "metrics.roc_auc_score(bank_labels_test,predictions_proba[:,1], sample_weight=None)"
   ]
  },
  {
   "cell_type": "markdown",
   "metadata": {},
   "source": [
    "Well, quite bad... :("
   ]
  },
  {
   "cell_type": "markdown",
   "metadata": {},
   "source": [
    "Maybe decision tree classifier will lead us to a better result, try it out! ==> **HW2/2**"
   ]
  }
 ],
 "metadata": {
  "kernelspec": {
   "display_name": "Python 3 (ipykernel)",
   "language": "python",
   "name": "python3"
  },
  "language_info": {
   "codemirror_mode": {
    "name": "ipython",
    "version": 3
   },
   "file_extension": ".py",
   "mimetype": "text/x-python",
   "name": "python",
   "nbconvert_exporter": "python",
   "pygments_lexer": "ipython3",
   "version": "3.11.5"
  }
 },
 "nbformat": 4,
 "nbformat_minor": 2
}
